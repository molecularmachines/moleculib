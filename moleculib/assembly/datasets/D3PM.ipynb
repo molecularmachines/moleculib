{
 "cells": [
  {
   "cell_type": "code",
   "execution_count": null,
   "metadata": {},
   "outputs": [],
   "source": [
    "%load_ext autoreload\n",
    "%autoreload 2"
   ]
  },
  {
   "cell_type": "code",
   "execution_count": null,
   "metadata": {},
   "outputs": [],
   "source": [
    "from moleculib.assembly.datum import AssemblyDatum"
   ]
  },
  {
   "cell_type": "code",
   "execution_count": null,
   "metadata": {},
   "outputs": [],
   "source": [
    "import pandas as pd\n",
    "\n",
    "file_path = 'overall-apo-com-20210409.xlsx'\n",
    "df = pd.read_excel(file_path, sheet_name='3')"
   ]
  },
  {
   "cell_type": "code",
   "execution_count": null,
   "metadata": {},
   "outputs": [],
   "source": [
    "df"
   ]
  },
  {
   "cell_type": "code",
   "execution_count": null,
   "metadata": {},
   "outputs": [],
   "source": [
    "apo_ids = df['Structure_apo'].tolist()\n",
    "apo_ids = [apo_id.split('_') for apo_id in apo_ids]\n",
    "bound_ids = df['Structure_bound'].tolist()\n",
    "bound_ids = [bound_id.split('_') for bound_id in bound_ids]\n",
    "ligand_ids = df['ligand'].tolist()"
   ]
  },
  {
   "cell_type": "code",
   "execution_count": null,
   "metadata": {},
   "outputs": [],
   "source": [
    "len(set([bound_id[0] for bound_id in bound_ids]))"
   ]
  },
  {
   "cell_type": "code",
   "execution_count": null,
   "metadata": {},
   "outputs": [],
   "source": [
    "from moleculib.protein.datum import ProteinDatum\n",
    "from moleculib.molecule.datum import MoleculeDatum \n",
    "\n",
    "datum = ProteinDatum.fetch_pdb_id('5GWW', chain='D')\n",
    "mol = MoleculeDatum.fetch_pdb_id('5GWW', ligand='7B5')[0]\n",
    "assembly = AssemblyDatum(protein_data=[datum], molecule_data=[mol])"
   ]
  },
  {
   "cell_type": "code",
   "execution_count": null,
   "metadata": {},
   "outputs": [],
   "source": [
    "from tqdm import tqdm\n",
    "\n",
    "dataset = [] \n",
    "\n",
    "enum = list(zip(apo_ids, bound_ids, ligand_ids))\n",
    "for apo_id, bound_id, ligand_id in tqdm(enum):\n",
    "    apo = ProteinDatum.fetch_pdb_id(apo_id[0], chain=apo_id[1])\n",
    "    apo = AssemblyDatum(protein_data=[apo], molecule_data=[])\n",
    "\n",
    "    bound = ProteinDatum.fetch_pdb_id(bound_id[0], chain=bound_id[1])\n",
    "    ligand = MoleculeDatum.fetch_pdb_id(bound_id[0], ligand=ligand_id)[0]\n",
    "    bound = AssemblyDatum(protein_data=[bound], molecule_data=[ligand])\n",
    "\n",
    "    dataset.append([apo, bound])\n",
    "    # break\n"
   ]
  },
  {
   "cell_type": "code",
   "execution_count": null,
   "metadata": {},
   "outputs": [],
   "source": [
    "ApoHoloDataset\n",
    "\n",
    "for (apo, bound) in dataset:\n",
    "    plot_py3dmol_grid(\n",
    "        [[apo, bound]], \n",
    "        window_size=(600, 600), \n",
    "        protein_style=dict(ribbon=True, color='white'),\n",
    "        molecule_style=dict(color='orange')\n",
    "    ).show()\n"
   ]
  },
  {
   "cell_type": "code",
   "execution_count": null,
   "metadata": {},
   "outputs": [],
   "source": []
  }
 ],
 "metadata": {
  "kernelspec": {
   "display_name": "ophiuchus",
   "language": "python",
   "name": "python3"
  },
  "language_info": {
   "codemirror_mode": {
    "name": "ipython",
    "version": 3
   },
   "file_extension": ".py",
   "mimetype": "text/x-python",
   "name": "python",
   "nbconvert_exporter": "python",
   "pygments_lexer": "ipython3",
   "version": "3.10.13"
  }
 },
 "nbformat": 4,
 "nbformat_minor": 2
}
