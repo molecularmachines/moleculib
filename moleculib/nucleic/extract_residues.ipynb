{
 "cells": [
  {
   "cell_type": "code",
   "execution_count": 1,
   "metadata": {},
   "outputs": [],
   "source": [
    "from datum import *"
   ]
  },
  {
   "cell_type": "code",
   "execution_count": null,
   "metadata": {},
   "outputs": [],
   "source": [
    "# irreps = '24x1e'\n",
    "e3nn.IrrepsArray('24x1e',irreps_array)"
   ]
  },
  {
   "cell_type": "code",
   "execution_count": 66,
   "metadata": {},
   "outputs": [],
   "source": [
    "import e3nn_jax as e3nn"
   ]
  },
  {
   "cell_type": "code",
   "execution_count": 69,
   "metadata": {},
   "outputs": [],
   "source": [
    "import jax\n",
    "from einops import rearrange"
   ]
  },
  {
   "cell_type": "code",
   "execution_count": null,
   "metadata": {},
   "outputs": [],
   "source": []
  },
  {
   "cell_type": "code",
   "execution_count": 40,
   "metadata": {},
   "outputs": [
    {
     "name": "stdout",
     "output_type": "stream",
     "text": [
      "8\n",
      "12\n",
      "10\n",
      "9\n",
      "11\n",
      "13\n",
      "1\n"
     ]
    }
   ],
   "source": [
    "print(get_nucleotide_index('DA'))\n",
    "print(get_nucleotide_index('DT'))\n",
    "print(get_nucleotide_index('DG'))\n",
    "print(get_nucleotide_index('DC'))\n",
    "print(get_nucleotide_index('DI'))\n",
    "print(get_nucleotide_index('DU'))\n",
    "print(get_nucleotide_index('UNK'))\n"
   ]
  },
  {
   "cell_type": "code",
   "execution_count": 82,
   "metadata": {},
   "outputs": [],
   "source": [
    "\n",
    "pdb_ids = [\"1JMC\",\"1ZEW\",\"5CRX\",\"1BNA\",\"3BEP\",\"1HRY\",\"3PX6\",\"1BNA\",\"2JYK\",\"6NY1\"] # last one has protein in it\n",
    "#last one has RNAs\n",
    "a = []\n",
    "###Dictionary of res = array of tuples (atom token, atom coords)\n",
    "residues = {8 :[],\n",
    "            12 :[],\n",
    "            10 :[],\n",
    "             9 :[],\n",
    "            11 :[],\n",
    "            13 :[]}\n",
    "for id in pdb_ids:\n",
    "    nuc_dat = NucleicDatum.fetch_pdb_id(id)\n",
    "    for i in range(len(nuc_dat.nuc_token)):\n",
    "        # res_center_coord = datum.atom_coord[..., mask_center, :] #shape 12,1,3\n",
    "        # relative_vectors = all_atom_coord - res_center_coord[:, np.newaxis,:] #shape 12,24,3\n",
    "\n",
    "        tok = nuc_dat.nuc_token[i] \n",
    "        if tok == 1 or tok==0 or tok==5 or tok ==6 or tok==3 or tok==2:\n",
    "            continue\n",
    "        atom_coords = nuc_dat.atom_coord[i]\n",
    "        atom_token = nuc_dat.atom_token[i] \n",
    "        center_atom_token = atom_index(\"C3'\")\n",
    "        mask_center = atom_token == center_atom_token # True for location of C3\n",
    "        atom_mask = nuc_dat.atom_mask[i] \n",
    "        true_index = None\n",
    "        for j, value in enumerate(mask_center):\n",
    "            if value:\n",
    "                true_index = j\n",
    "                break\n",
    "        coords = nuc_dat.atom_coord[i]\n",
    "        res_center_coord = coords[true_index]\n",
    "        coords_centered = coords - res_center_coord\n",
    "        coords_centered_flat = rearrange(coords_centered, 'h c->(h c)')\n",
    "        # print(coords_centered_flat.shape)\n",
    "        vecs = e3nn.IrrepsArray('24x1e',coords_centered_flat)\n",
    "        one_hot = np.zeros(14)\n",
    "        one_hot[tok] = 1\n",
    "        scalars = e3nn.IrrepsArray('14x0e', one_hot) #runs into weird GPU error\n",
    "\n",
    "        irreps = e3nn.concatenate([scalars, vecs])\n",
    "        a.append(irreps)\n",
    "        \n",
    "        # residues[tok].append(coords_centered)\n",
    "\n",
    "        "
   ]
  },
  {
   "cell_type": "code",
   "execution_count": 83,
   "metadata": {},
   "outputs": [
    {
     "data": {
      "text/plain": [
       "310"
      ]
     },
     "execution_count": 83,
     "metadata": {},
     "output_type": "execute_result"
    }
   ],
   "source": [
    "len(a)"
   ]
  },
  {
   "cell_type": "code",
   "execution_count": 84,
   "metadata": {},
   "outputs": [],
   "source": [
    "import pickle"
   ]
  },
  {
   "cell_type": "code",
   "execution_count": 88,
   "metadata": {},
   "outputs": [
    {
     "ename": "FileNotFoundError",
     "evalue": "[Errno 2] No such file or directory: 'moleculib/nucleic/DNA_res_irreps.pkl'",
     "output_type": "error",
     "traceback": [
      "\u001b[0;31m---------------------------------------------------------------------------\u001b[0m",
      "\u001b[0;31mFileNotFoundError\u001b[0m                         Traceback (most recent call last)",
      "Cell \u001b[0;32mIn[88], line 1\u001b[0m\n\u001b[0;32m----> 1\u001b[0m \u001b[39mwith\u001b[39;00m \u001b[39mopen\u001b[39;49m(\u001b[39m'\u001b[39;49m\u001b[39mmoleculib/nucleic/DNA_res_irreps.pkl\u001b[39;49m\u001b[39m'\u001b[39;49m, \u001b[39m'\u001b[39;49m\u001b[39mwb\u001b[39;49m\u001b[39m'\u001b[39;49m) \u001b[39mas\u001b[39;00m f:\n\u001b[1;32m      2\u001b[0m     pickle\u001b[39m.\u001b[39mdump(a, f)\n\u001b[1;32m      4\u001b[0m \u001b[39mprint\u001b[39m(\u001b[39m\"\u001b[39m\u001b[39mList of irreps saved to DNA_res_irreps.pkl\u001b[39m\u001b[39m\"\u001b[39m)\n",
      "File \u001b[0;32m~/miniconda3/envs/gen-aa/lib/python3.10/site-packages/IPython/core/interactiveshell.py:324\u001b[0m, in \u001b[0;36m_modified_open\u001b[0;34m(file, *args, **kwargs)\u001b[0m\n\u001b[1;32m    317\u001b[0m \u001b[39mif\u001b[39;00m file \u001b[39min\u001b[39;00m {\u001b[39m0\u001b[39m, \u001b[39m1\u001b[39m, \u001b[39m2\u001b[39m}:\n\u001b[1;32m    318\u001b[0m     \u001b[39mraise\u001b[39;00m \u001b[39mValueError\u001b[39;00m(\n\u001b[1;32m    319\u001b[0m         \u001b[39mf\u001b[39m\u001b[39m\"\u001b[39m\u001b[39mIPython won\u001b[39m\u001b[39m'\u001b[39m\u001b[39mt let you open fd=\u001b[39m\u001b[39m{\u001b[39;00mfile\u001b[39m}\u001b[39;00m\u001b[39m by default \u001b[39m\u001b[39m\"\u001b[39m\n\u001b[1;32m    320\u001b[0m         \u001b[39m\"\u001b[39m\u001b[39mas it is likely to crash IPython. If you know what you are doing, \u001b[39m\u001b[39m\"\u001b[39m\n\u001b[1;32m    321\u001b[0m         \u001b[39m\"\u001b[39m\u001b[39myou can use builtins\u001b[39m\u001b[39m'\u001b[39m\u001b[39m open.\u001b[39m\u001b[39m\"\u001b[39m\n\u001b[1;32m    322\u001b[0m     )\n\u001b[0;32m--> 324\u001b[0m \u001b[39mreturn\u001b[39;00m io_open(file, \u001b[39m*\u001b[39;49margs, \u001b[39m*\u001b[39;49m\u001b[39m*\u001b[39;49mkwargs)\n",
      "\u001b[0;31mFileNotFoundError\u001b[0m: [Errno 2] No such file or directory: 'moleculib/nucleic/DNA_res_irreps.pkl'"
     ]
    }
   ],
   "source": [
    "with open('moleculib/nucleic/DNA_res_irreps.pkl', 'wb') as f:\n",
    "    pickle.dump(a, f)\n",
    "\n",
    "print(\"List of irreps saved to DNA_res_irreps.pkl\")"
   ]
  },
  {
   "cell_type": "code",
   "execution_count": null,
   "metadata": {},
   "outputs": [],
   "source": []
  }
 ],
 "metadata": {
  "kernelspec": {
   "display_name": "gen-aa",
   "language": "python",
   "name": "python3"
  },
  "language_info": {
   "codemirror_mode": {
    "name": "ipython",
    "version": 3
   },
   "file_extension": ".py",
   "mimetype": "text/x-python",
   "name": "python",
   "nbconvert_exporter": "python",
   "pygments_lexer": "ipython3",
   "version": "3.10.13"
  },
  "orig_nbformat": 4
 },
 "nbformat": 4,
 "nbformat_minor": 2
}
