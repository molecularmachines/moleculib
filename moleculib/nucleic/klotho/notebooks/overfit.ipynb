{
 "cells": [
  {
   "cell_type": "code",
   "execution_count": 1,
   "metadata": {},
   "outputs": [],
   "source": [
    "from typing import List, Tuple, Union\n",
    "import chex\n",
    "import e3nn_jax as e3nn\n",
    "import jax.numpy as jnp\n",
    "import sys\n",
    "sys.path.append('/u/danaru/moleculib/moleculib') \n",
    "from nucleic.datum import *\n",
    "import jax\n",
    "from jax.tree_util import tree_map, tree_flatten, tree_flatten_with_path\n",
    "from einops import rearrange, repeat\n",
    "import haiku as hk\n",
    "\n"
   ]
  },
  {
   "cell_type": "code",
   "execution_count": 2,
   "metadata": {},
   "outputs": [],
   "source": [
    "import plotly.graph_objects as go\n",
    "import re\n",
    "from functools import partial\n",
    "from typing import Callable, Tuple, Dict, List\n",
    "from collections import defaultdict"
   ]
  },
  {
   "cell_type": "code",
   "execution_count": 3,
   "metadata": {},
   "outputs": [],
   "source": [
    "@chex.dataclass\n",
    "class InternalState:\n",
    "    irreps_array: e3nn.IrrepsArray  # (seq_len, irreps) - irreps array\n",
    "    mask_irreps_array: jnp.ndarray  # (seq_len,) - mask for irreps array\n",
    "    coord: jnp.ndarray  # (seq_len, 3) - coordinates of C3' atom\n",
    "    mask_coord: jnp.ndarray  # (seq_len,) - mask for coordinates\n",
    "\n",
    "    @property\n",
    "    def irreps(self) -> e3nn.Irreps:\n",
    "        return self.irreps_array.irreps\n",
    "\n",
    "    @property\n",
    "    def seq_len(self) -> int:\n",
    "        return self.irreps_array.shape[0]\n",
    "\n",
    "    @property\n",
    "    def mask(self) -> jnp.ndarray:\n",
    "        return self.mask_irreps_array & self.mask_coord"
   ]
  },
  {
   "cell_type": "code",
   "execution_count": 4,
   "metadata": {},
   "outputs": [],
   "source": [
    "def knn(coord: jnp.ndarray, mask: jnp.ndarray, k:int):\n",
    "    n, d = coord.shape\n",
    "    assert mask.shape == (n,)\n",
    "    k = min(k, n-1)\n",
    "    distance_matrix = jnp.sum(jnp.square(coord[:, None,:] - coord[None, :, :]), axis = -1)\n",
    "    assert distance_matrix.shape == (n,n)\n",
    "    matrix_mask = mask[:,None] & mask[None, :]\n",
    "    assert matrix_mask.shape == (n,n)\n",
    "\n",
    "    distance_matrix = jnp.where(matrix_mask, distance_matrix, jnp.inf)\n",
    "    neg_dist, neighbors = jax.lax.top_k(-distance_matrix, k+1)\n",
    "\n",
    "    #discard the nearest point which is the point itself\n",
    "    mask = neg_dist[:, 1:] != -jnp.inf\n",
    "    neighbors = neighbors[:,1:] \n",
    "    assert neighbors.shape == (n,k)\n",
    "    assert mask.shape == (n,k)\n",
    "    return neighbors, mask\n",
    "\n"
   ]
  },
  {
   "cell_type": "code",
   "execution_count": 5,
   "metadata": {},
   "outputs": [],
   "source": [
    "class Scheduler:\n",
    "    def __call__(self, step: int) -> float:\n",
    "        raise NotImplementedError\n",
    "\n",
    "\n",
    "class LinearScheduler(Scheduler):\n",
    "    def __init__(self, init_value, end_value, transition_steps, transition_begin):\n",
    "        self.init_value = init_value\n",
    "        self.end_value = end_value\n",
    "        self.transition_steps = transition_steps\n",
    "        self.transition_begin = transition_begin\n",
    "\n",
    "    def __call__(self, step):\n",
    "        return jax.optax.schedule.linear(\n",
    "            init_value=self.init_value,\n",
    "            end_value=self.end_value,\n",
    "            transition_steps=self.transition_steps,\n",
    "            transition_begin=self.transition_begin,\n",
    "        )(step)\n",
    "\n",
    "class CyclicAnnealingScheduler(Scheduler):\n",
    "    def __init__(\n",
    "        self,\n",
    "        init_value,\n",
    "        end_value,\n",
    "        transition_steps,\n",
    "        transition_begin,\n",
    "    ):\n",
    "        self.init_value = init_value\n",
    "        self.end_value = end_value\n",
    "        self.transition_steps = transition_steps\n",
    "        self.transition_begin = transition_begin\n",
    "\n",
    "    def __call__(self, step):\n",
    "        eff_step_raw = step - self.transition_begin\n",
    "        eff_step = eff_step_raw % (self.transition_steps)\n",
    "        value = jnp.where(eff_step >= self.transition_steps / 2, self.end_value, 0.0)\n",
    "        value = jnp.where(\n",
    "            eff_step < self.transition_steps / 2,\n",
    "            (self.end_value - self.init_value) * eff_step / (self.transition_steps / 2)\n",
    "            + self.init_value,\n",
    "            value,\n",
    "        )\n",
    "        value = jnp.where(eff_step_raw < 0, self.init_value, value)\n",
    "        return value"
   ]
  },
  {
   "cell_type": "code",
   "execution_count": 6,
   "metadata": {},
   "outputs": [],
   "source": [
    "@chex.dataclass\n",
    "class ProbParams:\n",
    "    state: InternalState\n",
    "    mu: jnp.ndarray\n",
    "    sigma: jnp.ndarray\n",
    "    sigma_basis: e3nn.Irreps\n",
    "    sigma_flat: jnp.ndarray\n",
    "\n",
    "\n",
    "@chex.dataclass\n",
    "class ProbPair:\n",
    "    prior: ProbParams\n",
    "    posterior: ProbParams\n",
    "    mask: jnp.ndarray\n",
    "    sample: jnp.ndarray\n",
    "    \n",
    "@chex.dataclass\n",
    "class ModelOutput:\n",
    "    logits: Tuple[jnp.ndarray, jnp.ndarray, jnp.ndarray]\n",
    "    datum: NucleicDatum\n",
    "    encoder_internals: List[InternalState]\n",
    "    decoder_internals: List[InternalState]\n",
    "    probs: Union[List[ProbPair], None]\n",
    "    atom_perm_loss: jnp.ndarray"
   ]
  },
  {
   "cell_type": "code",
   "execution_count": 7,
   "metadata": {},
   "outputs": [],
   "source": [
    "from typing import Callable\n",
    "from typing import Union\n",
    "\n",
    "\n",
    "\n",
    "class Residual(hk.Module):\n",
    "    def __init__(\n",
    "        self,\n",
    "        function: Callable[[InternalState], InternalState],\n",
    "        name: Union[str, None] = None,\n",
    "    ):\n",
    "        super().__init__(name)\n",
    "        self.function = function\n",
    "\n",
    "    def __call__(self, state: InternalState) -> InternalState:\n",
    "        assert state.irreps_array.ndim == 2\n",
    "        assert state.mask.ndim == 1\n",
    "        assert state.coord.ndim == 2\n",
    "\n",
    "        new_state = self.function(state)\n",
    "\n",
    "        seq_len = state.irreps_array.shape[0]\n",
    "        new_seq_len = new_state.irreps_array.shape[0]\n",
    "\n",
    "        if new_seq_len > seq_len:\n",
    "            raise ValueError(\"Residual block cannot increase sequence length\")\n",
    "\n",
    "        if new_seq_len < seq_len:\n",
    "            if (seq_len - new_seq_len) % 2 != 0:\n",
    "                raise ValueError(\n",
    "                    \"Residual block cannot decrease sequence length by odd number\"\n",
    "                )\n",
    "\n",
    "            pad = (seq_len - new_seq_len) // 2\n",
    "            state = jax.tree_util.tree_map(lambda x: x[pad:-pad], state)\n",
    "\n",
    "        if state.irreps_array.shape == new_state.irreps_array.shape:\n",
    "            features = state.irreps_array + new_state.irreps_array\n",
    "        else:\n",
    "            features = e3nn.haiku.Linear(new_state.irreps_array.irreps)(\n",
    "                e3nn.concatenate(\n",
    "                    [\n",
    "                        state.irreps_array * state.mask_irreps_array[:, None],\n",
    "                        new_state.irreps_array,\n",
    "                    ]\n",
    "                )\n",
    "            )\n",
    "\n",
    "        return new_state.replace(irreps_array=features)"
   ]
  },
  {
   "cell_type": "code",
   "execution_count": 14,
   "metadata": {},
   "outputs": [],
   "source": [
    "class LossFunction:\n",
    "    def __init__(\n",
    "        self, weight: float = 1.0, start_step: int = 0, scheduler: Scheduler = None\n",
    "    ):\n",
    "        self.weight = weight\n",
    "        self.start_step = start_step\n",
    "        self.scheduler = scheduler\n",
    "\n",
    "    def _call(\n",
    "        self, model_output: ModelOutput, NucleicDatum: Dict\n",
    "    ) -> Tuple[ModelOutput, jnp.ndarray, Dict[str, float]]:\n",
    "        raise NotImplementedError\n",
    "\n",
    "    def __call__(\n",
    "        self,\n",
    "        rng_key,\n",
    "        model_output: ModelOutput,\n",
    "        batch: NucleicDatum,\n",
    "        step: int,\n",
    "    ) -> Tuple[ModelOutput, jnp.ndarray, Dict[str, float]]:\n",
    "        output, loss, metrics = self._call(rng_key, model_output, batch)\n",
    "        is_activated = jnp.array(self.start_step <= step).astype(loss.dtype)\n",
    "        loss = loss * is_activated\n",
    "        if self.scheduler is not None:\n",
    "            scheduler_weight = self.scheduler(step)\n",
    "            loss = loss * scheduler_weight\n",
    "            loss_name = re.sub(r\"(?<!^)(?=[A-Z])\", \"_\", type(self).__name__).lower()\n",
    "            metrics[loss_name + \"_scheduler\"] = scheduler_weight\n",
    "        return output, self.weight * loss, metrics\n",
    "        \n",
    "class CrossVectorLoss(LossFunction):\n",
    "    def __init__(\n",
    "        self,\n",
    "        weight=1.0,\n",
    "        start_step=0,\n",
    "        max_radius: float = 32.0,\n",
    "        max_error: float = 800.0,\n",
    "        norm_only=False,\n",
    "    ):\n",
    "        super().__init__(weight=weight, start_step=start_step)\n",
    "        self.norm_only = norm_only\n",
    "        self.max_radius = max_radius\n",
    "        self.max_error = max_error\n",
    "\n",
    "    def _call(\n",
    "        self, rng_key, model_output: ModelOutput, ground: NucleicDatum\n",
    "    ) -> Tuple[ModelOutput, jnp.ndarray, Dict[str, float]]:\n",
    "        coords = model_output.datum.atom_coord\n",
    "        all_atom_coords = rearrange(coords, \"r a c -> (r a) c\")\n",
    "        all_atom_coords_ground = rearrange(ground.atom_coord, \"r a c -> (r a) c\")\n",
    "        all_atom_mask = rearrange(ground.atom_mask, \"r a -> (r a)\")\n",
    "\n",
    "        vector_map = lambda x: rearrange(x, \"i c -> i () c\") - rearrange(\n",
    "            x, \"j c -> () j c\"\n",
    "        ) #This new array contains the differences between the coordinates of all possible pairs of atoms within each nucleotide\n",
    "\n",
    "        cross_mask = rearrange(all_atom_mask, \"i -> i ()\") & rearrange(\n",
    "            all_atom_mask, \"j -> () j\"\n",
    "        )\n",
    "\n",
    "        vector_maps = vector_map(all_atom_coords)\n",
    "        vector_maps_ground = vector_map(all_atom_coords_ground)\n",
    "        cross_mask = cross_mask & (safe_norm(vector_maps_ground) < self.max_radius)\n",
    "\n",
    "        if self.norm_only:\n",
    "            vector_maps = safe_norm(vector_maps)[..., None]\n",
    "            vector_maps_ground = safe_norm(vector_maps_ground)[..., None]\n",
    "\n",
    "        se = jnp.square(vector_maps - vector_maps_ground).mean(-1)\n",
    "        if self.max_error > 0.0:\n",
    "            se = jnp.clip(se, 0.0, self.max_error)\n",
    "        mse = (se * cross_mask.astype(se.dtype)).sum((-1, -2)) / (\n",
    "            cross_mask.sum((-1, -2)) + 1e-6\n",
    "        )\n",
    "        mse = mse.mean()\n",
    "\n",
    "        return model_output, mse, {\"cross_vector_loss\": mse}\n"
   ]
  },
  {
   "cell_type": "code",
   "execution_count": 20,
   "metadata": {},
   "outputs": [],
   "source": [
    "\n",
    "class SpatialConvolution(hk.Module):\n",
    "    def __init__(\n",
    "        self,\n",
    "        irreps_out: e3nn.Irreps,\n",
    "        *,\n",
    "        k: int,\n",
    "        radial_cut: float,\n",
    "        radial_bins: int = 32,\n",
    "        radial_basis: str = \"gaussian\",\n",
    "        edge_irreps: e3nn.Irreps = e3nn.Irreps(\"0e + 1e + 2e\"),\n",
    "        norm: bool = True,\n",
    "        activation: Callable = jax.nn.silu,\n",
    "    ):\n",
    "        super().__init__()\n",
    "        self.irreps_out = e3nn.Irreps(irreps_out)\n",
    "        self.radial_cut = radial_cut\n",
    "        self.radial_bins = radial_bins\n",
    "        self.radial_basis = radial_basis\n",
    "        self.edge_irreps = e3nn.Irreps(edge_irreps)\n",
    "        self.norm = norm\n",
    "        self.activation = activation\n",
    "        self.k = k\n",
    "\n",
    "    def embedding(\n",
    "        self, state: InternalState, nei_indices: jnp.ndarray, nei_mask: jnp.ndarray\n",
    "    ) -> Tuple:\n",
    "        (seq_len, _) = state.irreps_array.shape\n",
    "        k = nei_indices.shape[1]\n",
    "        assert nei_indices.shape == (seq_len, k)\n",
    "        assert nei_mask.shape == (seq_len, k, 1)\n",
    "\n",
    "        vectors = state.coord[nei_indices, :] - state.coord[:, None, :]\n",
    "        norm_sqr = jnp.sum(vectors**2, axis=-1)\n",
    "        norm = jnp.sqrt(jnp.where(norm_sqr == 0.0, 1.0, norm_sqr))\n",
    "        assert norm.shape == (seq_len, k)\n",
    "\n",
    "        # Angular embedding:\n",
    "        ang_embed = nei_mask * e3nn.spherical_harmonics(\n",
    "            self.edge_irreps, vectors, True, \"component\"\n",
    "        )\n",
    "        assert ang_embed.shape == (seq_len, k, self.edge_irreps.dim)\n",
    "\n",
    "        # Radial embedding:\n",
    "        rad_embed = nei_mask * e3nn.soft_one_hot_linspace(\n",
    "            norm,\n",
    "            start=0.0,\n",
    "            end=self.radial_cut,\n",
    "            number=self.radial_bins,\n",
    "            basis=self.radial_basis,\n",
    "            cutoff=True,\n",
    "        )\n",
    "        assert rad_embed.shape == (seq_len, k, self.radial_bins)\n",
    "\n",
    "        # Envelope:\n",
    "        envelope = (\n",
    "            nei_mask\n",
    "            * e3nn.soft_envelope(\n",
    "                norm, x_max=self.radial_cut, arg_multiplicator=5.0, value_at_origin=1.0\n",
    "            )[:, :, None]\n",
    "        )\n",
    "        assert envelope.shape == (seq_len, k, 1)\n",
    "\n",
    "        return ang_embed, rad_embed, envelope\n",
    "\n",
    "    def _call(self, state: InternalState) -> InternalState:\n",
    "        seq_len = state.irreps_array.shape[0]\n",
    "        assert state.irreps_array.shape == (seq_len, state.irreps_array.irreps.dim)\n",
    "        assert state.mask.shape == (seq_len,)\n",
    "        assert state.coord.shape == (seq_len, 3)\n",
    "\n",
    "        if seq_len == 1:\n",
    "            return state\n",
    "\n",
    "        # k nearest neighbors:\n",
    "        nei_indices, nei_mask = knn(state.coord, state.mask_coord, k=self.k)\n",
    "        k = nei_indices.shape[1]\n",
    "        assert nei_indices.shape == (seq_len, k)\n",
    "        assert nei_mask.shape == (seq_len, k)\n",
    "\n",
    "        # Embeddings:\n",
    "        ang_embed, rad_embed, envelope = self.embedding(\n",
    "            state, nei_indices, nei_mask[:, :, None]\n",
    "        )\n",
    "        assert ang_embed.shape == (seq_len, k, self.edge_irreps.dim)\n",
    "        assert rad_embed.shape == (seq_len, k, self.radial_bins)\n",
    "        assert envelope.shape == (seq_len, k, 1)\n",
    "\n",
    "        # Get messages:\n",
    "        nei_states = nei_mask[:, :, None] * state.irreps_array[nei_indices, :]\n",
    "        messages = e3nn.haiku.Linear(nei_states.irreps)(nei_states)\n",
    "        assert messages.shape == (seq_len, k, nei_states.irreps.dim)\n",
    "\n",
    "        # Angular part:\n",
    "        ang_embed = e3nn.haiku.Linear(messages.irreps)(ang_embed)\n",
    "        messages = messages + ang_embed\n",
    "\n",
    "        assert messages.shape == (seq_len, k, messages.irreps.dim)\n",
    "\n",
    "        # Radial part:\n",
    "        mix = e3nn.haiku.MultiLayerPerceptron(\n",
    "            [self.radial_bins, messages.irreps.num_irreps],\n",
    "            self.activation,\n",
    "            output_activation=False,\n",
    "        )(rad_embed)\n",
    "        assert mix.shape == (seq_len, k, messages.irreps.num_irreps)\n",
    "\n",
    "        # Sum over neighbors:\n",
    "        features = e3nn.sum(envelope * messages * mix, axis=1) / k\n",
    "        features = e3nn.haiku.Linear(self.irreps_out)(features)\n",
    "        assert features.shape == (seq_len, features.irreps.dim)\n",
    "\n",
    "        # Update coordinates:\n",
    "        update = 1e-3 * e3nn.haiku.Linear(\"1e\")(features).array\n",
    "        new_coord = state.coord + update\n",
    "\n",
    "        # Normalization multiplicity-wise:\n",
    "        if self.norm:\n",
    "            features = EquivariantLayerNorm()(features)\n",
    "\n",
    "        return state.replace(irreps_array=features, coord=new_coord)\n",
    "\n",
    "    # def __call__(self, state: InternalState) -> InternalState:\n",
    "    #     return Residual(self._call)(state)"
   ]
  },
  {
   "cell_type": "code",
   "execution_count": 10,
   "metadata": {},
   "outputs": [],
   "source": [
    "#fetch dna:\n",
    "dna_datum = NucleicDatum.fetch_pdb_id('5JZQ')\n",
    "\n",
    "#get central atom and its indices along the atom arrays:\n",
    "center_atom_token = atom_index(\"C3'\") #center atom\n",
    "mask_center = dna_datum.atom_token == center_atom_token\n",
    "\n",
    "#expand to match the shape of coords: (12,24,3) , not needed actually\n",
    "mask_center_3D = (mask_center[..., np.newaxis] * np.ones(3)).astype(bool)"
   ]
  },
  {
   "cell_type": "code",
   "execution_count": 38,
   "metadata": {},
   "outputs": [
    {
     "data": {
      "text/plain": [
       "array([[[ 0.,  0.],\n",
       "        [ 2.,  2.]],\n",
       "\n",
       "       [[-2., -2.],\n",
       "        [ 0.,  0.]]])"
      ]
     },
     "execution_count": 38,
     "metadata": {},
     "output_type": "execute_result"
    }
   ],
   "source": [
    "state_coorda = np.array([[1.0, 2.0], [3.0, 4.0]])\n",
    "\n",
    "nei_indicesa = np.array([[0, 1]])\n",
    "vectors = state_coorda[nei_indicesa, :] - state_coorda[:, None, :]\n",
    "vectors\n"
   ]
  },
  {
   "cell_type": "code",
   "execution_count": 11,
   "metadata": {},
   "outputs": [],
   "source": [
    "res_center_coords = dna_datum.atom_coord[..., mask_center, :]"
   ]
  },
  {
   "cell_type": "code",
   "execution_count": 12,
   "metadata": {},
   "outputs": [
    {
     "data": {
      "text/plain": [
       "(12, 1, 3)"
      ]
     },
     "execution_count": 12,
     "metadata": {},
     "output_type": "execute_result"
    }
   ],
   "source": [
    "#get the coords of central atom:\n",
    "all_atom_coord = dna_datum.atom_coord\n",
    "res_center_coord = dna_datum.atom_coord[..., mask_center, :]\n",
    "res_center_coord[...,None,:].shape"
   ]
  },
  {
   "cell_type": "code",
   "execution_count": 13,
   "metadata": {},
   "outputs": [
    {
     "data": {
      "text/plain": [
       "(12, 72)"
      ]
     },
     "execution_count": 13,
     "metadata": {},
     "output_type": "execute_result"
    }
   ],
   "source": [
    "#subtract center coord from each atom's coordinates in all_atom_coord to get relative vectors:\n",
    "relative_vectors = all_atom_coord - res_center_coord[:, np.newaxis,:]\n",
    "relative_vectors.shape\n",
    "relative_vectors_flat = np.reshape(relative_vectors, (12,-1))#\"... a e -> ... (a e)\")\n",
    "relative_vectors_flat.shape"
   ]
  },
  {
   "cell_type": "code",
   "execution_count": 22,
   "metadata": {},
   "outputs": [
    {
     "name": "stdout",
     "output_type": "stream",
     "text": [
      "(12, 1) (12, 72)\n",
      "(12, 73)\n"
     ]
    }
   ],
   "source": [
    "nuc_token_reshaped = dna_datum.nuc_token[:, jnp.newaxis]\n",
    "print(nuc_token_reshaped.shape, relative_vectors_flat.shape)\n",
    "irreps_array = jnp.concatenate((nuc_token_reshaped , relative_vectors_flat), axis = -1)\n",
    "\n",
    "print(irreps_array.shape)\n",
    "irreps_array = e3nn.IrrepsArray('1x0e + 24x1o',irreps_array)\n",
    "mask_irr = jnp.array(dna_datum.nuc_mask)\n",
    "internal = InternalState(irreps_array=irreps_array, mask_irreps_array=mask_irr, coord=res_center_coords, mask_coord=mask_irr,)\n"
   ]
  },
  {
   "cell_type": "code",
   "execution_count": 24,
   "metadata": {},
   "outputs": [
    {
     "data": {
      "text/plain": [
       "(12, 3)"
      ]
     },
     "execution_count": 24,
     "metadata": {},
     "output_type": "execute_result"
    }
   ],
   "source": [
    "res_center_coords.shape"
   ]
  },
  {
   "cell_type": "code",
   "execution_count": 25,
   "metadata": {},
   "outputs": [
    {
     "name": "stdout",
     "output_type": "stream",
     "text": [
      "(12, 73)\n"
     ]
    }
   ],
   "source": [
    "#gaussian input:\n",
    "size1 = (12, 1)\n",
    "size2 = (12, 72)\n",
    "size3 = (12,3)\n",
    "\n",
    "# Generate Gaussian noise arrays\n",
    "gaussian_noise1 = np.random.normal(loc=0.0, scale=1.0, size=size1)\n",
    "gaussian_noise2 = np.random.normal(loc=0.0, scale=1.0, size=size2)\n",
    "gaussian_noise3 = np.random.normal(loc=0.0, scale=1.0, size=size3)\n",
    "\n",
    "gaussian_irreps = jnp.concatenate((gaussian_noise1 , gaussian_noise2), axis = -1)\n",
    "\n",
    "print(irreps_array.shape)\n",
    "gaussian_irreps = e3nn.IrrepsArray('1x0e + 24x1o',gaussian_irreps)\n",
    "gaussian_state = InternalState(irreps_array=gaussian_irreps, mask_irreps_array=mask_irr, coord=gaussian_noise3, mask_coord=mask_irr,)\n",
    "\n"
   ]
  },
  {
   "cell_type": "code",
   "execution_count": 19,
   "metadata": {},
   "outputs": [
    {
     "ename": "ValueError",
     "evalue": "All `hk.Module`s must be initialized inside an `hk.transform`.",
     "output_type": "error",
     "traceback": [
      "\u001b[0;31m---------------------------------------------------------------------------\u001b[0m",
      "\u001b[0;31mValueError\u001b[0m                                Traceback (most recent call last)",
      "\u001b[1;32m/u/danaru/moleculib/moleculib/nucleic/klotho/notebooks/overfit.ipynb Cell 19\u001b[0m in \u001b[0;36m<cell line: 2>\u001b[0;34m()\u001b[0m\n\u001b[1;32m      <a href='vscode-notebook-cell://ssh-remote%2Bmatlaber12.media.mit.edu/u/danaru/moleculib/moleculib/nucleic/klotho/notebooks/overfit.ipynb#X51sdnNjb2RlLXJlbW90ZQ%3D%3D?line=0'>1</a>\u001b[0m rc \u001b[39m=\u001b[39m jnp\u001b[39m.\u001b[39msqrt(\u001b[39m4.5\u001b[39m \u001b[39m*\u001b[39m \u001b[39m16\u001b[39m ) \n\u001b[0;32m----> <a href='vscode-notebook-cell://ssh-remote%2Bmatlaber12.media.mit.edu/u/danaru/moleculib/moleculib/nucleic/klotho/notebooks/overfit.ipynb#X51sdnNjb2RlLXJlbW90ZQ%3D%3D?line=1'>2</a>\u001b[0m SpatialConvolution(irreps_array, radial_cut\u001b[39m=\u001b[39;49mrc, k\u001b[39m=\u001b[39;49m\u001b[39m16\u001b[39;49m)\n",
      "File \u001b[0;32m~/.local/lib/python3.10/site-packages/haiku/_src/module.py:146\u001b[0m, in \u001b[0;36mModuleMetaclass.__call__\u001b[0;34m(cls, *args, **kwargs)\u001b[0m\n\u001b[1;32m    144\u001b[0m \u001b[39m# Now attempt to initialize the object.\u001b[39;00m\n\u001b[1;32m    145\u001b[0m init \u001b[39m=\u001b[39m wrap_method(\u001b[39m\"\u001b[39m\u001b[39m__init__\u001b[39m\u001b[39m\"\u001b[39m, \u001b[39mcls\u001b[39m\u001b[39m.\u001b[39m\u001b[39m__init__\u001b[39m, \u001b[39mlambda\u001b[39;00m: \u001b[39mcls\u001b[39m)\n\u001b[0;32m--> 146\u001b[0m init(module, \u001b[39m*\u001b[39;49margs, \u001b[39m*\u001b[39;49m\u001b[39m*\u001b[39;49mkwargs)\n\u001b[1;32m    148\u001b[0m \u001b[39mif\u001b[39;00m (config\u001b[39m.\u001b[39mget_config()\u001b[39m.\u001b[39mmodule_auto_repr \u001b[39mand\u001b[39;00m\n\u001b[1;32m    149\u001b[0m     \u001b[39mgetattr\u001b[39m(module, \u001b[39m\"\u001b[39m\u001b[39mAUTO_REPR\u001b[39m\u001b[39m\"\u001b[39m, \u001b[39mTrue\u001b[39;00m)):\n\u001b[1;32m    150\u001b[0m   module\u001b[39m.\u001b[39m_auto_repr \u001b[39m=\u001b[39m utils\u001b[39m.\u001b[39mauto_repr(\u001b[39mcls\u001b[39m, \u001b[39m*\u001b[39margs, \u001b[39m*\u001b[39m\u001b[39m*\u001b[39mkwargs)  \u001b[39m# pylint: disable=protected-access\u001b[39;00m\n",
      "File \u001b[0;32m~/.local/lib/python3.10/site-packages/haiku/_src/module.py:440\u001b[0m, in \u001b[0;36mwrap_method.<locals>.wrapped\u001b[0;34m(self, *args, **kwargs)\u001b[0m\n\u001b[1;32m    438\u001b[0m \u001b[39m\u001b[39m\u001b[39m\"\"\"Calls the original method with a group name set before and after.\"\"\"\u001b[39;00m\n\u001b[1;32m    439\u001b[0m \u001b[39mif\u001b[39;00m \u001b[39mnot\u001b[39;00m base\u001b[39m.\u001b[39mframe_stack:\n\u001b[0;32m--> 440\u001b[0m   \u001b[39mraise\u001b[39;00m \u001b[39mValueError\u001b[39;00m(\n\u001b[1;32m    441\u001b[0m       \u001b[39m\"\u001b[39m\u001b[39mAll `hk.Module`s must be initialized inside an `hk.transform`.\u001b[39m\u001b[39m\"\u001b[39m)\n\u001b[1;32m    443\u001b[0m \u001b[39m# Submodules are associated with this method. We allow users to associate\u001b[39;00m\n\u001b[1;32m    444\u001b[0m \u001b[39m# submodules with a different method than the one being called via\u001b[39;00m\n\u001b[1;32m    445\u001b[0m \u001b[39m# `@name_like(\"other_method\")`. Interceptors and custom getters are still\u001b[39;00m\n\u001b[1;32m    446\u001b[0m \u001b[39m# provided the actual method name (e.g. \"submodule_method_name\" is only used\u001b[39;00m\n\u001b[1;32m    447\u001b[0m \u001b[39m# for naming submodules).\u001b[39;00m\n\u001b[1;32m    448\u001b[0m submodule_method_name \u001b[39m=\u001b[39m \u001b[39mgetattr\u001b[39m(unbound_method, _CUSTOM_NAME, method_name)\n",
      "\u001b[0;31mValueError\u001b[0m: All `hk.Module`s must be initialized inside an `hk.transform`."
     ]
    }
   ],
   "source": [
    "# Define a function to create the SpatialConvolution instance\n",
    "def create_spatial_convolution(irreps_array, rc, k):\n",
    "    return SpatialConvolution(e3nn.IrrepsArray('1x0e + 24x1o'), radial_cut=rc, k=k)\n",
    "\n",
    "\n",
    "# Define a Haiku transform function that includes the SpatialConvolution\n",
    "@hk.transform\n",
    "def my_model(x):\n",
    "    rc = jnp.sqrt(4.5 * 16)\n",
    "    spatial_convolution = create_spatial_convolution(irreps_array, rc, k=16)\n",
    "    return spatial_convolution(x)\n",
    "\n",
    "model = my_model()\n",
    "#training:\n",
    "epochs=1000\n",
    "input_state = gaussian_state\n",
    "final_desired_state = internal\n",
    "rc = jnp.sqrt(4.5 * 16 ) \n",
    "    \n",
    "for epoch in range(epochs):\n",
    "    model_output_state = model(input_state)\n",
    "    loss = final_desired_state, model_output_state\n",
    "\n",
    "    #update weights?\n"
   ]
  },
  {
   "cell_type": "code",
   "execution_count": null,
   "metadata": {},
   "outputs": [],
   "source": []
  },
  {
   "cell_type": "code",
   "execution_count": 11,
   "metadata": {},
   "outputs": [],
   "source": [
    "tent_coord = internal.irreps_array.filter(\"1o\").array\n",
    "# tent_coord = np.array(tent_coord)[:,:71]\n",
    "#getting the original coordinates back:\n",
    "atom_coord = internal.coord[..., None, :]  + rearrange(\n",
    "    tent_coord, \"... (h c) -> ... h c\", c=3\n",
    ")\n"
   ]
  },
  {
   "cell_type": "code",
   "execution_count": 12,
   "metadata": {},
   "outputs": [
    {
     "data": {
      "text/plain": [
       "(12, 73)"
      ]
     },
     "execution_count": 12,
     "metadata": {},
     "output_type": "execute_result"
    }
   ],
   "source": [
    "internal.irreps_array.shape"
   ]
  },
  {
   "cell_type": "code",
   "execution_count": 13,
   "metadata": {},
   "outputs": [
    {
     "data": {
      "text/plain": [
       "(12, 24, 3)"
      ]
     },
     "execution_count": 13,
     "metadata": {},
     "output_type": "execute_result"
    }
   ],
   "source": [
    "atom_coord.shape"
   ]
  },
  {
   "cell_type": "code",
   "execution_count": 32,
   "metadata": {},
   "outputs": [
    {
     "data": {
      "text/plain": [
       "array([[ 7.65799999, 24.06299973, 18.35400009]])"
      ]
     },
     "execution_count": 32,
     "metadata": {},
     "output_type": "execute_result"
    }
   ],
   "source": [
    "internal.coord[0,None,:]"
   ]
  },
  {
   "cell_type": "code",
   "execution_count": 34,
   "metadata": {},
   "outputs": [
    {
     "data": {
      "text/plain": [
       "array([[  0.        , -16.40499973, -10.6960001 ],\n",
       "       [ 16.40499973,   0.        ,   5.70899963],\n",
       "       [ 10.6960001 ,  -5.70899963,   0.        ]])"
      ]
     },
     "execution_count": 34,
     "metadata": {},
     "output_type": "execute_result"
    }
   ],
   "source": [
    "(internal.coord[0,:,None]-internal.coord[0,None,:])"
   ]
  },
  {
   "cell_type": "code",
   "execution_count": 15,
   "metadata": {},
   "outputs": [
    {
     "ename": "SyntaxError",
     "evalue": "invalid syntax (1958227518.py, line 6)",
     "output_type": "error",
     "traceback": [
      "\u001b[0;36m  Input \u001b[0;32mIn [15]\u001b[0;36m\u001b[0m\n\u001b[0;31m    arrows = np.array(atom_coord).reshape((:,-1))\u001b[0m\n\u001b[0m                                           ^\u001b[0m\n\u001b[0;31mSyntaxError\u001b[0m\u001b[0;31m:\u001b[0m invalid syntax\n"
     ]
    }
   ],
   "source": [
    "import plotly.graph_objs as go\n",
    "import numpy as np\n",
    "\n",
    "def _scatter(name, ca_coord, atom_coord, atom_mask, color, visible=True):\n",
    "    centers = np.array(ca_coord)\n",
    "    arrows = np.array(atom_coord).reshape((:,-1))\n",
    "    bb_x, bb_y, bb_z = centers.T\n",
    "    sc_x, sc_y, sc_z = arrows.T\n",
    "    print(arrows.T.shape)\n",
    "    print(centers.T.shape)\n",
    "    data = [\n",
    "        go.Scatter3d(\n",
    "            name=name + \" coord\",\n",
    "            x=bb_x,\n",
    "            y=bb_y,\n",
    "            z=bb_z,\n",
    "            mode=\"markers\",\n",
    "            marker=dict(size=2, color=color),\n",
    "            line=dict(color=color, width=4),\n",
    "            visible=\"legendonly\" if not visible else True,\n",
    "        ),\n",
    "        go.Scatter3d(\n",
    "            name=name + \" vecs\",\n",
    "            x=sc_x,\n",
    "            y=sc_y,\n",
    "            z=sc_z,\n",
    "            mode=\"lines\",\n",
    "            marker=dict(size=4, color='red'),\n",
    "            line=dict(color='red', width=2),\n",
    "            visible=\"legendonly\"if not visible else True,\n",
    "        ),\n",
    "    ]\n",
    "    return data\n",
    "\n"
   ]
  },
  {
   "cell_type": "code",
   "execution_count": null,
   "metadata": {},
   "outputs": [
    {
     "name": "stdout",
     "output_type": "stream",
     "text": [
      "(3, 24, 12)\n",
      "(3, 12)\n"
     ]
    },
    {
     "data": {
      "application/vnd.plotly.v1+json": {
       "config": {
        "plotlyServerURL": "https://plot.ly"
       },
       "data": [
        {
         "line": {
          "color": "blue",
          "width": 4
         },
         "marker": {
          "color": "blue",
          "size": 2
         },
         "mode": "markers",
         "name": "visualize coord",
         "type": "scatter3d",
         "visible": true,
         "x": [
          7.6579999923706055,
          3.0920000076293945,
          4,
          1.6699999570846558,
          4.822999954223633,
          3.8970000743865967,
          5.13700008392334,
          9.104000091552734,
          11.050000190734863,
          15.13599967956543,
          12.902000427246094,
          16.097999572753906
         ],
         "y": [
          24.062999725341797,
          22.773000717163086,
          18.827999114990234,
          15.3100004196167,
          14.873000144958496,
          11.932999610900879,
          23.31599998474121,
          25.881000518798828,
          21.472999572753906,
          20.033000946044922,
          17.566999435424805,
          14.447999954223633
         ],
         "z": [
          18.354000091552734,
          15.387999534606934,
          12.848999977111816,
          8.666999816894531,
          4.447000026702881,
          -0.7149999737739563,
          -1.0210000276565552,
          2.628000020980835,
          4.441999912261963,
          8.494999885559082,
          12.729000091552734,
          16.93899917602539
         ]
        },
        {
         "line": {
          "color": "red",
          "width": 2
         },
         "marker": {
          "color": "red",
          "size": 4
         },
         "mode": "lines",
         "name": "visualize vecs",
         "type": "scatter3d",
         "visible": true,
         "x": [
          [
           10.781999588012695,
           8.347000122070312,
           5.710000038146973,
           3.559000015258789,
           3.0239999294281006,
           1.2430000305175781,
           2.6689999103546143,
           4.355999946594238,
           8.098999977111816,
           10.416000366210938,
           12.53600025177002,
           14.793000221252441
          ],
          [
           11.727999687194824,
           7.448999881744385,
           7.059999942779541,
           3.744999885559082,
           3.622999906539917,
           2.3289999961853027,
           2.5490000247955322,
           5.622000217437744,
           6.980000019073486,
           11.152000427246094,
           11.269000053405762,
           14.34000015258789
          ],
          [
           11.418999671936035,
           7.800000190734863,
           7.742000102996826,
           4.916999816894531,
           4.76800012588501,
           3.3399999141693115,
           3.513000011444092,
           6.236999988555908,
           7.089000225067139,
           10.501999855041504,
           10.36299991607666,
           13.098999977111816
          ],
          [
           12.97599983215332,
           6.301000118255615,
           7.609000205993652,
           2.7829999923706055,
           2.937000036239624,
           2.4240000247955322,
           1.4219999313354492,
           6.271999835968018,
           5.830999851226807,
           12.42300033569336,
           11.100000381469727,
           15.045000076293945
          ],
          [
           13.315999984741211,
           6.071000099182129,
           6.885000228881836,
           1.6369999647140503,
           1.7160000801086426,
           1.3589999675750732,
           0.4120001792907715,
           5.517000198364258,
           5.744999885559082,
           12.92300033569336,
           12.130000114440918,
           16.26300048828125
          ],
          [
           14.5600004196167,
           6.918000221252441,
           7.452000141143799,
           1.3919999599456787,
           1.066999912261963,
           0.24000000953674316,
           -0.684999942779541,
           4.2220001220703125,
           4.605000019073486,
           12.26200008392334,
           11.909000396728516,
           16.799999237060547
          ],
          [
           12.378000259399414,
           8.154999732971191,
           5.515999794006348,
           2.427999973297119,
           1.1009998321533203,
           0.1640000343322754,
           0.5170001983642578,
           3.552000045776367,
           6.866000175476074,
           10.904999732971191,
           13.414999961853027,
           16.020999908447266
          ],
          [
           11.126999855041504,
           9.022000312805176,
           4.998000144958496,
           2.4040000438690186,
           1.7899999618530273,
           -0.7320001125335693,
           1.6449999809265137,
           2.371000289916992,
           7.982999801635742,
           10.145999908447266,
           13.553999900817871,
           16.326000213623047
          ],
          [
           9.414999961853027,
           6.377999782562256,
           5.170000076293945,
           0.09300005435943604,
           3.7860000133514404,
           -0.6070001125335693,
           3.936000108718872,
           3.75600004196167,
           9.319000244140625,
           13.111000061035156,
           12.675000190734863,
           18.038000106811523
          ],
          [
           9.182000160217285,
           5.251999855041504,
           5.118000030517578,
           -0.40500009059906006,
           4.627999782562256,
           0.002000093460083008,
           4.044000148773193,
           4.760000228881836,
           9.527000427246094,
           14.222999572753906,
           12.208000183105469,
           18.26799964904785
          ],
          [
           7.6579999923706055,
           4.966000080108643,
           4,
           0.4729999303817749,
           4.822999954223633,
           1.1949999332427979,
           5.13700008392334,
           5.869999885559082,
           11.050000190734863,
           14.170999526977539,
           12.902000427246094,
           17.208999633789062
          ],
          [
           7.410999774932861,
           3.8499999046325684,
           3.0320000648498535,
           0.23000001907348633,
           3.4839999675750732,
           2.1470000743865967,
           4.809999942779541,
           7.066999912261963,
           11.538999557495117,
           15.27299976348877,
           14.22599983215332,
           17.149999618530273
          ],
          [
           7.265999794006348,
           2.940000057220459,
           1.8819999694824219,
           0.5549999475479126,
           2.553999900817871,
           2.509000062942505,
           4.090000152587891,
           8.347999572753906,
           12.111000061035156,
           15.593999862670898,
           15.402999877929688,
           16.7189998626709
          ],
          [
           0,
           3.0920000076293945,
           1.2599999904632568,
           1.6699999570846558,
           2.7209999561309814,
           3.8970000743865967,
           0,
           9.104000091552734,
           11.46399974822998,
           15.13599967956543,
           15.559000015258789,
           16.097999572753906
          ],
          [
           0,
           3.7230000495910645,
           0,
           1.5080000162124634,
           0,
           4.460999965667725,
           0,
           8.496000289916992,
           0,
           15.062999725341797,
           0,
           15.467000007629395
          ],
          [
           0,
           4.560999870300293,
           0,
           2.805000066757202,
           0,
           5.423999786376953,
           0,
           8.461999893188477,
           0,
           13.9350004196167,
           0,
           14.003000259399414
          ],
          [
           0,
           6.139999866485596,
           0,
           3.9089999198913574,
           0,
           6.795000076293945,
           0,
           7.735000133514404,
           0,
           12.63700008392334,
           0,
           11.977999687194824
          ],
          [
           7.065999984741211,
           0,
           4.540999889373779,
           0,
           5.86299991607666,
           0,
           6.386000156402588,
           0,
           11.40999984741211,
           0,
           12.11299991607666,
           0
          ],
          [
           8.53600025177002,
           0,
           3.812999963760376,
           0,
           2.86299991607666,
           0,
           4.021999835968018,
           0,
           10.435999870300293,
           0,
           14.050999641418457,
           0
          ],
          [
           8.343999862670898,
           0,
           2.2750000953674316,
           0,
           2.3910000324249268,
           0,
           2.933000087738037,
           0,
           11.208999633789062,
           0,
           15.10099983215332,
           0
          ],
          [
           0,
           1.902999997138977,
           0,
           1.6100000143051147,
           0,
           4.672999858856201,
           0,
           10.508999824523926,
           0,
           16.066999435424805,
           0,
           17.142000198364258
          ],
          [
           0,
           4.3979997634887695,
           0,
           1.059999942779541,
           0,
           3.3429999351501465,
           0,
           7.203000068664551,
           0,
           14.920999526977539,
           0,
           16.218000411987305
          ],
          [
           0,
           4.639999866485596,
           0,
           2.6760001182556152,
           0,
           5.864999771118164,
           0,
           8.062999725341797,
           0,
           13.892999649047852,
           0,
           13.4399995803833
          ],
          [
           0,
           0,
           0,
           0,
           0,
           0,
           0,
           0,
           0,
           0,
           0,
           0
          ]
         ],
         "y": [
          [
           23.91699981689453,
           23.878000259399414,
           21.374000549316406,
           20.673999786376953,
           18.069000244140625,
           16.53700065612793,
           21.430999755859375,
           22.97599983215332,
           22.51300048828125,
           22.900999069213867,
           21.233999252319336,
           20.785999298095703
          ],
          [
           22.927000045776367,
           23.08799934387207,
           21.475000381469727,
           19.304000854492188,
           19.31999969482422,
           15.868000030517578,
           20.03499984741211,
           23.02199935913086,
           21.768999099731445,
           21.75200080871582,
           21.827999114990234,
           19.554000854492188
          ],
          [
           21.819000244140625,
           21.802000045776367,
           20.42799949645996,
           18.836999893188477,
           19.375,
           16.611000061035156,
           19.39699935913086,
           21.832000732421875,
           20.507999420166016,
           20.61199951171875,
           21.11199951171875,
           19.52899932861328
          ],
          [
           23.16200065612793,
           23.48200035095215,
           22.676000595092773,
           18.46299934387207,
           20.42300033569336,
           14.543000221252441,
           19.441999435424805,
           24.135000228881836,
           22.38800048828125,
           21.7189998626709,
           23.110000610351562,
           18.441999435424805
          ],
          [
           24.36199951171875,
           24.795000076293945,
           23.788000106811523,
           19.094999313354492,
           20.312999725341797,
           13.939000129699707,
           20.197999954223633,
           25.238000869750977,
           23.735000610351562,
           22.94499969482422,
           23.819000244140625,
           18.634000778198242
          ],
          [
           24.583999633789062,
           25.68899917602539,
           24.95400047302246,
           20.461999893188477,
           21.423999786376953,
           14.517999649047852,
           19.57699966430664,
           25.29199981689453,
           24.304000854492188,
           24.167999267578125,
           25.094999313354492,
           19.836000442504883
          ],
          [
           25.423999786376953,
           25.240999221801758,
           23.707000732421875,
           21.334999084472656,
           19.042999267578125,
           15.9350004196167,
           21.618999481201172,
           24.07900047302246,
           24.534000396728516,
           24.177000045776367,
           23.225000381469727,
           21.013999938964844
          ],
          [
           25.16699981689453,
           25.91200065612793,
           22.514999389648438,
           22.586000442504883,
           17.95199966430664,
           16.639999389648438,
           22.180999755859375,
           23.944000244140625,
           23.88800048828125,
           25.155000686645508,
           21.94499969482422,
           22.16900062561035
          ],
          [
           23.62299919128418,
           26.97100067138672,
           20.079999923706055,
           20.72100067138672,
           16.893999099731445,
           13.53600025177002,
           22.013999938964844,
           26.604000091552734,
           21.823999404907227,
           25.20800018310547,
           19.83300018310547,
           19.62299919128418
          ],
          [
           23.871000289916992,
           26.819000244140625,
           19.865999221801758,
           19.54199981689453,
           16.304000854492188,
           12.416000366210938,
           22.20199966430664,
           27.30299949645996,
           21.617000579833984,
           24.62299919128418,
           18.85300064086914,
           18.357999801635742
          ],
          [
           24.062999725341797,
           25.51300048828125,
           18.827999114990234,
           18.527999877929688,
           14.873000144958496,
           12.581999778747559,
           23.31599998474121,
           26.540000915527344,
           21.472999572753906,
           23.270999908447266,
           17.566999435424805,
           17.69300079345703
          ],
          [
           24.823999404907227,
           25.024999618530273,
           19.26099967956543,
           17.11400032043457,
           14.567000389099121,
           11.513999938964844,
           24.158000946044922,
           27.065000534057617,
           22.409000396728516,
           22.336999893188477,
           18.08300018310547,
           16.256000518798828
          ],
          [
           26.30500030517578,
           24.04199981689453,
           20.111000061035156,
           16.160999298095703,
           13.71500015258789,
           11.387999534606934,
           25.457000732421875,
           26.927000045776367,
           23.711999893188477,
           21.363000869750977,
           17.884000778198242,
           15.814000129699707
          ],
          [
           0,
           22.773000717163086,
           21.025999069213867,
           15.3100004196167,
           13.388999938964844,
           11.932999610900879,
           0,
           25.881000518798828,
           25.910999298095703,
           20.033000946044922,
           17.732999801635742,
           14.447999954223633
          ],
          [
           0,
           23.179000854492188,
           0,
           15.383000373840332,
           0,
           11.772000312805176,
           0,
           25.86199951171875,
           0,
           20.197999954223633,
           0,
           14.640999794006348
          ],
          [
           0,
           22.134000778198242,
           0,
           15.178000450134277,
           0,
           12.875,
           0,
           24.485000610351562,
           0,
           19.44700050354004,
           0,
           15.053999900817871
          ],
          [
           0,
           22.222999572753906,
           0,
           16.20800018310547,
           0,
           13.63599967956543,
           0,
           23.19300079345703,
           0,
           19.392000198364258,
           0,
           15.442999839782715
          ],
          [
           22.736000061035156,
           0,
           17.542999267578125,
           0,
           14.897000312805176,
           0,
           22.6560001373291,
           0,
           20.1299991607666,
           0,
           17.02899932861328,
           0
          ],
          [
           24.510000228881836,
           0,
           20.010000228881836,
           0,
           15.845000267028809,
           0,
           23.329999923706055,
           0,
           22.618000030517578,
           0,
           19.51300048828125,
           0
          ],
          [
           26.856000900268555,
           0,
           20.809999465942383,
           0,
           14.215999603271484,
           0,
           25.259000778198242,
           0,
           24.40999984741211,
           0,
           18.402000427246094,
           0
          ],
          [
           0,
           22.04199981689453,
           0,
           13.944000244140625,
           0,
           11.22700023651123,
           0,
           26.131999969482422,
           0,
           18.98200035095215,
           0,
           13.468999862670898
          ],
          [
           0,
           24.392000198364258,
           0,
           16.75,
           0,
           11.777999877929688,
           0,
           26.426000595092773,
           0,
           21.604999542236328,
           0,
           15.696999549865723
          ],
          [
           0,
           22.29400062561035,
           0,
           15.831999778747559,
           0,
           12.607999801635742,
           0,
           24.56599998474121,
           0,
           19.843000411987305,
           0,
           14.967000007629395
          ],
          [
           0,
           0,
           0,
           0,
           0,
           0,
           0,
           0,
           0,
           0,
           0,
           0
          ]
         ],
         "z": [
          [
           16.395999908447266,
           13.178000450134277,
           10.815999984741211,
           7.816999912261963,
           4.211999893188477,
           1.0260000228881836,
           0.9869998693466187,
           4.080999851226807,
           6.401000022888184,
           9.380000114440918,
           12.98900032043457,
           16.143999099731445
          ],
          [
           16.461000442504883,
           13.833000183105469,
           10.512999534606934,
           7.9029998779296875,
           4.052000045776367,
           0.5239999890327454,
           0.9169999361038208,
           3.5789999961853027,
           6.76800012588501,
           9.258000373840332,
           13.159000396728516,
           16.542999267578125
          ],
          [
           16.920000076293945,
           13.944000244140625,
           10.418000221252441,
           7.558000087738037,
           3.5810000896453857,
           0.05500000715255737,
           0.45500004291534424,
           3.3980000019073486,
           6.763999938964844,
           9.52400016784668,
           13.619999885559082,
           17.04400062561035
          ],
          [
           16.03700065612793,
           14.352999687194824,
           10.182000160217285,
           8.270999908447266,
           4.427000045776367,
           0.4740000367164612,
           1.343999981880188,
           3.2720000743865967,
           7.0929999351501465,
           8.901000022888184,
           12.854000091552734,
           16.461000442504883
          ],
          [
           15.59000015258789,
           14.130999565124512,
           10.329999923706055,
           8.597999572753906,
           4.955999851226807,
           1.0360000133514404,
           1.8170000314712524,
           3.4830000400543213,
           7.044000148773193,
           8.62600040435791,
           12.355999946594238,
           15.895000457763672
          ],
          [
           15.142000198364258,
           13.520000457763672,
           10.041999816894531,
           8.60200023651123,
           5.2769999504089355,
           1.5959999561309814,
           2.249000072479248,
           3.9649999141693115,
           7.364999771118164,
           8.722999572753906,
           12.086999893188477,
           15.456000328063965
          ],
          [
           15.529000282287598,
           12.986000061035156,
           10.727999687194824,
           8.218000411987305,
           5.1620001792907715,
           1.6319999694824219,
           1.8809999227523804,
           4.269000053405762,
           6.640999794006348,
           9.086000442504883,
           12.156999588012695,
           15.541999816894531
          ],
          [
           15.946999549865723,
           12.413000106811523,
           11.0600004196167,
           8.199999809265137,
           4.775000095367432,
           2.138000011444092,
           1.4620000123977661,
           4.672999858856201,
           6.333000183105469,
           9.182000160217285,
           12.479000091552734,
           15.204999923706055
          ],
          [
           16.836999893188477,
           13.53499984741211,
           11.222000122070312,
           9.04699993133545,
           3.815000057220459,
           2.1040000915527344,
           0.5460000038146973,
           4.002999782562256,
           6.0329999923706055,
           8.34000015258789,
           13.315999984741211,
           14.881999969482422
          ],
          [
           18.333999633789062,
           14.17300033569336,
           12.732000350952148,
           9.288999557495117,
           4.956999778747559,
           1.8410000801086426,
           -0.9620000123977661,
           3.555000066757202,
           4.5370001792907715,
           8.043999671936035,
           12.23900032043457,
           15.00100040435791
          ],
          [
           18.354000091552734,
           14.5,
           12.848999977111816,
           9.02400016784668,
           4.447000026702881,
           1.190999984741211,
           -1.0210000276565552,
           3.239000082015991,
           4.441999912261963,
           8.237000465393066,
           12.729000091552734,
           15.616000175476074
          ],
          [
           17.05500030517578,
           15.315999984741211,
           11.744999885559082,
           9.303999900817871,
           3.7890000343322754,
           0.8700000643730164,
           0.19099998474121094,
           2.6080000400543213,
           5.533999919891357,
           7.926000118255615,
           13.274999618530273,
           15.83899974822998
          ],
          [
           17.187999725341797,
           14.675999641418457,
           12.234999656677246,
           8.187999725341797,
           4.60699987411499,
           -0.5920000076293945,
           -0.06199997663497925,
           3.3299999237060547,
           5.0879998207092285,
           9,
           12.338000297546387,
           17.211000442504883
          ],
          [
           0,
           15.387999534606934,
           14.630000114440918,
           8.666999816894531,
           7.232999801635742,
           -0.7149999737739563,
           0,
           2.628000020980835,
           3.7769999504089355,
           8.494999885559082,
           9.697999954223633,
           16.93899917602539
          ],
          [
           0,
           16.750999450683594,
           0,
           10.208999633789062,
           0,
           0.6809999346733093,
           0,
           1.2089999914169312,
           0,
           6.993000030517578,
           0,
           15.5600004196167
          ],
          [
           0,
           17.37299919128418,
           0,
           10.968000411987305,
           0,
           1.0870001316070557,
           0,
           0.6080000400543213,
           0,
           6.307000160217285,
           0,
           15.619000434875488
          ],
          [
           0,
           19.45800018310547,
           0,
           13.125,
           0,
           3.200000047683716,
           0,
           -1.5059998035430908,
           0,
           4.015999794006348,
           0,
           13.975000381469727
          ],
          [
           18.233999252319336,
           0,
           12.534000396728516,
           0,
           3.4690001010894775,
           0,
           -0.8619999885559082,
           0,
           4.7270002365112305,
           0,
           13.803000450134277,
           0
          ],
          [
           16.191999435424805,
           0,
           10.793000221252441,
           0,
           3.50600004196167,
           0,
           1.0750001668930054,
           0,
           6.431000232696533,
           0,
           13.498000144958496,
           0
          ],
          [
           17.96500015258789,
           0,
           13.430999755859375,
           0,
           5.913000106811523,
           0,
           -0.8619999885559082,
           0,
           4.2270002365112305,
           0,
           11.053999900817871,
           0
          ],
          [
           0,
           15.633000373840332,
           0,
           8.27299976348877,
           0,
           -1.6619999408721924,
           0,
           2.510999917984009,
           0,
           8.833000183105469,
           0,
           16.850000381469727
          ],
          [
           0,
           16.490999221801758,
           0,
           10.416999816894531,
           0,
           1.5759999752044678,
           0,
           1.3259999752044678,
           0,
           6.755000114440918,
           0,
           14.920000076293945
          ],
          [
           0,
           18.80699920654297,
           0,
           12.255000114440918,
           0,
           2.430999994277954,
           0,
           -0.7720000743865967,
           0,
           4.915999889373779,
           0,
           14.305999755859375
          ],
          [
           0,
           0,
           0,
           0,
           0,
           0,
           0,
           0,
           0,
           0,
           0,
           0
          ]
         ]
        }
       ],
       "layout": {
        "template": {
         "data": {
          "bar": [
           {
            "error_x": {
             "color": "#2a3f5f"
            },
            "error_y": {
             "color": "#2a3f5f"
            },
            "marker": {
             "line": {
              "color": "#E5ECF6",
              "width": 0.5
             },
             "pattern": {
              "fillmode": "overlay",
              "size": 10,
              "solidity": 0.2
             }
            },
            "type": "bar"
           }
          ],
          "barpolar": [
           {
            "marker": {
             "line": {
              "color": "#E5ECF6",
              "width": 0.5
             },
             "pattern": {
              "fillmode": "overlay",
              "size": 10,
              "solidity": 0.2
             }
            },
            "type": "barpolar"
           }
          ],
          "carpet": [
           {
            "aaxis": {
             "endlinecolor": "#2a3f5f",
             "gridcolor": "white",
             "linecolor": "white",
             "minorgridcolor": "white",
             "startlinecolor": "#2a3f5f"
            },
            "baxis": {
             "endlinecolor": "#2a3f5f",
             "gridcolor": "white",
             "linecolor": "white",
             "minorgridcolor": "white",
             "startlinecolor": "#2a3f5f"
            },
            "type": "carpet"
           }
          ],
          "choropleth": [
           {
            "colorbar": {
             "outlinewidth": 0,
             "ticks": ""
            },
            "type": "choropleth"
           }
          ],
          "contour": [
           {
            "colorbar": {
             "outlinewidth": 0,
             "ticks": ""
            },
            "colorscale": [
             [
              0,
              "#0d0887"
             ],
             [
              0.1111111111111111,
              "#46039f"
             ],
             [
              0.2222222222222222,
              "#7201a8"
             ],
             [
              0.3333333333333333,
              "#9c179e"
             ],
             [
              0.4444444444444444,
              "#bd3786"
             ],
             [
              0.5555555555555556,
              "#d8576b"
             ],
             [
              0.6666666666666666,
              "#ed7953"
             ],
             [
              0.7777777777777778,
              "#fb9f3a"
             ],
             [
              0.8888888888888888,
              "#fdca26"
             ],
             [
              1,
              "#f0f921"
             ]
            ],
            "type": "contour"
           }
          ],
          "contourcarpet": [
           {
            "colorbar": {
             "outlinewidth": 0,
             "ticks": ""
            },
            "type": "contourcarpet"
           }
          ],
          "heatmap": [
           {
            "colorbar": {
             "outlinewidth": 0,
             "ticks": ""
            },
            "colorscale": [
             [
              0,
              "#0d0887"
             ],
             [
              0.1111111111111111,
              "#46039f"
             ],
             [
              0.2222222222222222,
              "#7201a8"
             ],
             [
              0.3333333333333333,
              "#9c179e"
             ],
             [
              0.4444444444444444,
              "#bd3786"
             ],
             [
              0.5555555555555556,
              "#d8576b"
             ],
             [
              0.6666666666666666,
              "#ed7953"
             ],
             [
              0.7777777777777778,
              "#fb9f3a"
             ],
             [
              0.8888888888888888,
              "#fdca26"
             ],
             [
              1,
              "#f0f921"
             ]
            ],
            "type": "heatmap"
           }
          ],
          "heatmapgl": [
           {
            "colorbar": {
             "outlinewidth": 0,
             "ticks": ""
            },
            "colorscale": [
             [
              0,
              "#0d0887"
             ],
             [
              0.1111111111111111,
              "#46039f"
             ],
             [
              0.2222222222222222,
              "#7201a8"
             ],
             [
              0.3333333333333333,
              "#9c179e"
             ],
             [
              0.4444444444444444,
              "#bd3786"
             ],
             [
              0.5555555555555556,
              "#d8576b"
             ],
             [
              0.6666666666666666,
              "#ed7953"
             ],
             [
              0.7777777777777778,
              "#fb9f3a"
             ],
             [
              0.8888888888888888,
              "#fdca26"
             ],
             [
              1,
              "#f0f921"
             ]
            ],
            "type": "heatmapgl"
           }
          ],
          "histogram": [
           {
            "marker": {
             "pattern": {
              "fillmode": "overlay",
              "size": 10,
              "solidity": 0.2
             }
            },
            "type": "histogram"
           }
          ],
          "histogram2d": [
           {
            "colorbar": {
             "outlinewidth": 0,
             "ticks": ""
            },
            "colorscale": [
             [
              0,
              "#0d0887"
             ],
             [
              0.1111111111111111,
              "#46039f"
             ],
             [
              0.2222222222222222,
              "#7201a8"
             ],
             [
              0.3333333333333333,
              "#9c179e"
             ],
             [
              0.4444444444444444,
              "#bd3786"
             ],
             [
              0.5555555555555556,
              "#d8576b"
             ],
             [
              0.6666666666666666,
              "#ed7953"
             ],
             [
              0.7777777777777778,
              "#fb9f3a"
             ],
             [
              0.8888888888888888,
              "#fdca26"
             ],
             [
              1,
              "#f0f921"
             ]
            ],
            "type": "histogram2d"
           }
          ],
          "histogram2dcontour": [
           {
            "colorbar": {
             "outlinewidth": 0,
             "ticks": ""
            },
            "colorscale": [
             [
              0,
              "#0d0887"
             ],
             [
              0.1111111111111111,
              "#46039f"
             ],
             [
              0.2222222222222222,
              "#7201a8"
             ],
             [
              0.3333333333333333,
              "#9c179e"
             ],
             [
              0.4444444444444444,
              "#bd3786"
             ],
             [
              0.5555555555555556,
              "#d8576b"
             ],
             [
              0.6666666666666666,
              "#ed7953"
             ],
             [
              0.7777777777777778,
              "#fb9f3a"
             ],
             [
              0.8888888888888888,
              "#fdca26"
             ],
             [
              1,
              "#f0f921"
             ]
            ],
            "type": "histogram2dcontour"
           }
          ],
          "mesh3d": [
           {
            "colorbar": {
             "outlinewidth": 0,
             "ticks": ""
            },
            "type": "mesh3d"
           }
          ],
          "parcoords": [
           {
            "line": {
             "colorbar": {
              "outlinewidth": 0,
              "ticks": ""
             }
            },
            "type": "parcoords"
           }
          ],
          "pie": [
           {
            "automargin": true,
            "type": "pie"
           }
          ],
          "scatter": [
           {
            "fillpattern": {
             "fillmode": "overlay",
             "size": 10,
             "solidity": 0.2
            },
            "type": "scatter"
           }
          ],
          "scatter3d": [
           {
            "line": {
             "colorbar": {
              "outlinewidth": 0,
              "ticks": ""
             }
            },
            "marker": {
             "colorbar": {
              "outlinewidth": 0,
              "ticks": ""
             }
            },
            "type": "scatter3d"
           }
          ],
          "scattercarpet": [
           {
            "marker": {
             "colorbar": {
              "outlinewidth": 0,
              "ticks": ""
             }
            },
            "type": "scattercarpet"
           }
          ],
          "scattergeo": [
           {
            "marker": {
             "colorbar": {
              "outlinewidth": 0,
              "ticks": ""
             }
            },
            "type": "scattergeo"
           }
          ],
          "scattergl": [
           {
            "marker": {
             "colorbar": {
              "outlinewidth": 0,
              "ticks": ""
             }
            },
            "type": "scattergl"
           }
          ],
          "scattermapbox": [
           {
            "marker": {
             "colorbar": {
              "outlinewidth": 0,
              "ticks": ""
             }
            },
            "type": "scattermapbox"
           }
          ],
          "scatterpolar": [
           {
            "marker": {
             "colorbar": {
              "outlinewidth": 0,
              "ticks": ""
             }
            },
            "type": "scatterpolar"
           }
          ],
          "scatterpolargl": [
           {
            "marker": {
             "colorbar": {
              "outlinewidth": 0,
              "ticks": ""
             }
            },
            "type": "scatterpolargl"
           }
          ],
          "scatterternary": [
           {
            "marker": {
             "colorbar": {
              "outlinewidth": 0,
              "ticks": ""
             }
            },
            "type": "scatterternary"
           }
          ],
          "surface": [
           {
            "colorbar": {
             "outlinewidth": 0,
             "ticks": ""
            },
            "colorscale": [
             [
              0,
              "#0d0887"
             ],
             [
              0.1111111111111111,
              "#46039f"
             ],
             [
              0.2222222222222222,
              "#7201a8"
             ],
             [
              0.3333333333333333,
              "#9c179e"
             ],
             [
              0.4444444444444444,
              "#bd3786"
             ],
             [
              0.5555555555555556,
              "#d8576b"
             ],
             [
              0.6666666666666666,
              "#ed7953"
             ],
             [
              0.7777777777777778,
              "#fb9f3a"
             ],
             [
              0.8888888888888888,
              "#fdca26"
             ],
             [
              1,
              "#f0f921"
             ]
            ],
            "type": "surface"
           }
          ],
          "table": [
           {
            "cells": {
             "fill": {
              "color": "#EBF0F8"
             },
             "line": {
              "color": "white"
             }
            },
            "header": {
             "fill": {
              "color": "#C8D4E3"
             },
             "line": {
              "color": "white"
             }
            },
            "type": "table"
           }
          ]
         },
         "layout": {
          "annotationdefaults": {
           "arrowcolor": "#2a3f5f",
           "arrowhead": 0,
           "arrowwidth": 1
          },
          "autotypenumbers": "strict",
          "coloraxis": {
           "colorbar": {
            "outlinewidth": 0,
            "ticks": ""
           }
          },
          "colorscale": {
           "diverging": [
            [
             0,
             "#8e0152"
            ],
            [
             0.1,
             "#c51b7d"
            ],
            [
             0.2,
             "#de77ae"
            ],
            [
             0.3,
             "#f1b6da"
            ],
            [
             0.4,
             "#fde0ef"
            ],
            [
             0.5,
             "#f7f7f7"
            ],
            [
             0.6,
             "#e6f5d0"
            ],
            [
             0.7,
             "#b8e186"
            ],
            [
             0.8,
             "#7fbc41"
            ],
            [
             0.9,
             "#4d9221"
            ],
            [
             1,
             "#276419"
            ]
           ],
           "sequential": [
            [
             0,
             "#0d0887"
            ],
            [
             0.1111111111111111,
             "#46039f"
            ],
            [
             0.2222222222222222,
             "#7201a8"
            ],
            [
             0.3333333333333333,
             "#9c179e"
            ],
            [
             0.4444444444444444,
             "#bd3786"
            ],
            [
             0.5555555555555556,
             "#d8576b"
            ],
            [
             0.6666666666666666,
             "#ed7953"
            ],
            [
             0.7777777777777778,
             "#fb9f3a"
            ],
            [
             0.8888888888888888,
             "#fdca26"
            ],
            [
             1,
             "#f0f921"
            ]
           ],
           "sequentialminus": [
            [
             0,
             "#0d0887"
            ],
            [
             0.1111111111111111,
             "#46039f"
            ],
            [
             0.2222222222222222,
             "#7201a8"
            ],
            [
             0.3333333333333333,
             "#9c179e"
            ],
            [
             0.4444444444444444,
             "#bd3786"
            ],
            [
             0.5555555555555556,
             "#d8576b"
            ],
            [
             0.6666666666666666,
             "#ed7953"
            ],
            [
             0.7777777777777778,
             "#fb9f3a"
            ],
            [
             0.8888888888888888,
             "#fdca26"
            ],
            [
             1,
             "#f0f921"
            ]
           ]
          },
          "colorway": [
           "#636efa",
           "#EF553B",
           "#00cc96",
           "#ab63fa",
           "#FFA15A",
           "#19d3f3",
           "#FF6692",
           "#B6E880",
           "#FF97FF",
           "#FECB52"
          ],
          "font": {
           "color": "#2a3f5f"
          },
          "geo": {
           "bgcolor": "white",
           "lakecolor": "white",
           "landcolor": "#E5ECF6",
           "showlakes": true,
           "showland": true,
           "subunitcolor": "white"
          },
          "hoverlabel": {
           "align": "left"
          },
          "hovermode": "closest",
          "mapbox": {
           "style": "light"
          },
          "paper_bgcolor": "white",
          "plot_bgcolor": "#E5ECF6",
          "polar": {
           "angularaxis": {
            "gridcolor": "white",
            "linecolor": "white",
            "ticks": ""
           },
           "bgcolor": "#E5ECF6",
           "radialaxis": {
            "gridcolor": "white",
            "linecolor": "white",
            "ticks": ""
           }
          },
          "scene": {
           "xaxis": {
            "backgroundcolor": "#E5ECF6",
            "gridcolor": "white",
            "gridwidth": 2,
            "linecolor": "white",
            "showbackground": true,
            "ticks": "",
            "zerolinecolor": "white"
           },
           "yaxis": {
            "backgroundcolor": "#E5ECF6",
            "gridcolor": "white",
            "gridwidth": 2,
            "linecolor": "white",
            "showbackground": true,
            "ticks": "",
            "zerolinecolor": "white"
           },
           "zaxis": {
            "backgroundcolor": "#E5ECF6",
            "gridcolor": "white",
            "gridwidth": 2,
            "linecolor": "white",
            "showbackground": true,
            "ticks": "",
            "zerolinecolor": "white"
           }
          },
          "shapedefaults": {
           "line": {
            "color": "#2a3f5f"
           }
          },
          "ternary": {
           "aaxis": {
            "gridcolor": "white",
            "linecolor": "white",
            "ticks": ""
           },
           "baxis": {
            "gridcolor": "white",
            "linecolor": "white",
            "ticks": ""
           },
           "bgcolor": "#E5ECF6",
           "caxis": {
            "gridcolor": "white",
            "linecolor": "white",
            "ticks": ""
           }
          },
          "title": {
           "x": 0.05
          },
          "xaxis": {
           "automargin": true,
           "gridcolor": "white",
           "linecolor": "white",
           "ticks": "",
           "title": {
            "standoff": 15
           },
           "zerolinecolor": "white",
           "zerolinewidth": 2
          },
          "yaxis": {
           "automargin": true,
           "gridcolor": "white",
           "linecolor": "white",
           "ticks": "",
           "title": {
            "standoff": 15
           },
           "zerolinecolor": "white",
           "zerolinewidth": 2
          }
         }
        }
       }
      },
      "text/html": [
       "<div>                            <div id=\"17a723c1-3173-4ed8-a4e6-375ab3e5d202\" class=\"plotly-graph-div\" style=\"height:525px; width:100%;\"></div>            <script type=\"text/javascript\">                require([\"plotly\"], function(Plotly) {                    window.PLOTLYENV=window.PLOTLYENV || {};                                    if (document.getElementById(\"17a723c1-3173-4ed8-a4e6-375ab3e5d202\")) {                    Plotly.newPlot(                        \"17a723c1-3173-4ed8-a4e6-375ab3e5d202\",                        [{\"line\":{\"color\":\"blue\",\"width\":4},\"marker\":{\"color\":\"blue\",\"size\":2},\"mode\":\"markers\",\"name\":\"visualize coord\",\"visible\":true,\"x\":[7.6579999923706055,3.0920000076293945,4.0,1.6699999570846558,4.822999954223633,3.8970000743865967,5.13700008392334,9.104000091552734,11.050000190734863,15.13599967956543,12.902000427246094,16.097999572753906],\"y\":[24.062999725341797,22.773000717163086,18.827999114990234,15.3100004196167,14.873000144958496,11.932999610900879,23.31599998474121,25.881000518798828,21.472999572753906,20.033000946044922,17.566999435424805,14.447999954223633],\"z\":[18.354000091552734,15.387999534606934,12.848999977111816,8.666999816894531,4.447000026702881,-0.7149999737739563,-1.0210000276565552,2.628000020980835,4.441999912261963,8.494999885559082,12.729000091552734,16.93899917602539],\"type\":\"scatter3d\"},{\"line\":{\"color\":\"red\",\"width\":2},\"marker\":{\"color\":\"red\",\"size\":4},\"mode\":\"lines\",\"name\":\"visualize vecs\",\"visible\":true,\"x\":[[10.781999588012695,8.347000122070312,5.710000038146973,3.559000015258789,3.0239999294281006,1.2430000305175781,2.6689999103546143,4.355999946594238,8.098999977111816,10.416000366210938,12.53600025177002,14.793000221252441],[11.727999687194824,7.448999881744385,7.059999942779541,3.744999885559082,3.622999906539917,2.3289999961853027,2.5490000247955322,5.622000217437744,6.980000019073486,11.152000427246094,11.269000053405762,14.34000015258789],[11.418999671936035,7.800000190734863,7.742000102996826,4.916999816894531,4.76800012588501,3.3399999141693115,3.513000011444092,6.236999988555908,7.089000225067139,10.501999855041504,10.36299991607666,13.098999977111816],[12.97599983215332,6.301000118255615,7.609000205993652,2.7829999923706055,2.937000036239624,2.4240000247955322,1.4219999313354492,6.271999835968018,5.830999851226807,12.42300033569336,11.100000381469727,15.045000076293945],[13.315999984741211,6.071000099182129,6.885000228881836,1.6369999647140503,1.7160000801086426,1.3589999675750732,0.4120001792907715,5.517000198364258,5.744999885559082,12.92300033569336,12.130000114440918,16.26300048828125],[14.5600004196167,6.918000221252441,7.452000141143799,1.3919999599456787,1.066999912261963,0.24000000953674316,-0.684999942779541,4.2220001220703125,4.605000019073486,12.26200008392334,11.909000396728516,16.799999237060547],[12.378000259399414,8.154999732971191,5.515999794006348,2.427999973297119,1.1009998321533203,0.1640000343322754,0.5170001983642578,3.552000045776367,6.866000175476074,10.904999732971191,13.414999961853027,16.020999908447266],[11.126999855041504,9.022000312805176,4.998000144958496,2.4040000438690186,1.7899999618530273,-0.7320001125335693,1.6449999809265137,2.371000289916992,7.982999801635742,10.145999908447266,13.553999900817871,16.326000213623047],[9.414999961853027,6.377999782562256,5.170000076293945,0.09300005435943604,3.7860000133514404,-0.6070001125335693,3.936000108718872,3.75600004196167,9.319000244140625,13.111000061035156,12.675000190734863,18.038000106811523],[9.182000160217285,5.251999855041504,5.118000030517578,-0.40500009059906006,4.627999782562256,0.002000093460083008,4.044000148773193,4.760000228881836,9.527000427246094,14.222999572753906,12.208000183105469,18.26799964904785],[7.6579999923706055,4.966000080108643,4.0,0.4729999303817749,4.822999954223633,1.1949999332427979,5.13700008392334,5.869999885559082,11.050000190734863,14.170999526977539,12.902000427246094,17.208999633789062],[7.410999774932861,3.8499999046325684,3.0320000648498535,0.23000001907348633,3.4839999675750732,2.1470000743865967,4.809999942779541,7.066999912261963,11.538999557495117,15.27299976348877,14.22599983215332,17.149999618530273],[7.265999794006348,2.940000057220459,1.8819999694824219,0.5549999475479126,2.553999900817871,2.509000062942505,4.090000152587891,8.347999572753906,12.111000061035156,15.593999862670898,15.402999877929688,16.7189998626709],[0.0,3.0920000076293945,1.2599999904632568,1.6699999570846558,2.7209999561309814,3.8970000743865967,0.0,9.104000091552734,11.46399974822998,15.13599967956543,15.559000015258789,16.097999572753906],[0.0,3.7230000495910645,0.0,1.5080000162124634,0.0,4.460999965667725,0.0,8.496000289916992,0.0,15.062999725341797,0.0,15.467000007629395],[0.0,4.560999870300293,0.0,2.805000066757202,0.0,5.423999786376953,0.0,8.461999893188477,0.0,13.9350004196167,0.0,14.003000259399414],[0.0,6.139999866485596,0.0,3.9089999198913574,0.0,6.795000076293945,0.0,7.735000133514404,0.0,12.63700008392334,0.0,11.977999687194824],[7.065999984741211,0.0,4.540999889373779,0.0,5.86299991607666,0.0,6.386000156402588,0.0,11.40999984741211,0.0,12.11299991607666,0.0],[8.53600025177002,0.0,3.812999963760376,0.0,2.86299991607666,0.0,4.021999835968018,0.0,10.435999870300293,0.0,14.050999641418457,0.0],[8.343999862670898,0.0,2.2750000953674316,0.0,2.3910000324249268,0.0,2.933000087738037,0.0,11.208999633789062,0.0,15.10099983215332,0.0],[0.0,1.902999997138977,0.0,1.6100000143051147,0.0,4.672999858856201,0.0,10.508999824523926,0.0,16.066999435424805,0.0,17.142000198364258],[0.0,4.3979997634887695,0.0,1.059999942779541,0.0,3.3429999351501465,0.0,7.203000068664551,0.0,14.920999526977539,0.0,16.218000411987305],[0.0,4.639999866485596,0.0,2.6760001182556152,0.0,5.864999771118164,0.0,8.062999725341797,0.0,13.892999649047852,0.0,13.4399995803833],[0.0,0.0,0.0,0.0,0.0,0.0,0.0,0.0,0.0,0.0,0.0,0.0]],\"y\":[[23.91699981689453,23.878000259399414,21.374000549316406,20.673999786376953,18.069000244140625,16.53700065612793,21.430999755859375,22.97599983215332,22.51300048828125,22.900999069213867,21.233999252319336,20.785999298095703],[22.927000045776367,23.08799934387207,21.475000381469727,19.304000854492188,19.31999969482422,15.868000030517578,20.03499984741211,23.02199935913086,21.768999099731445,21.75200080871582,21.827999114990234,19.554000854492188],[21.819000244140625,21.802000045776367,20.42799949645996,18.836999893188477,19.375,16.611000061035156,19.39699935913086,21.832000732421875,20.507999420166016,20.61199951171875,21.11199951171875,19.52899932861328],[23.16200065612793,23.48200035095215,22.676000595092773,18.46299934387207,20.42300033569336,14.543000221252441,19.441999435424805,24.135000228881836,22.38800048828125,21.7189998626709,23.110000610351562,18.441999435424805],[24.36199951171875,24.795000076293945,23.788000106811523,19.094999313354492,20.312999725341797,13.939000129699707,20.197999954223633,25.238000869750977,23.735000610351562,22.94499969482422,23.819000244140625,18.634000778198242],[24.583999633789062,25.68899917602539,24.95400047302246,20.461999893188477,21.423999786376953,14.517999649047852,19.57699966430664,25.29199981689453,24.304000854492188,24.167999267578125,25.094999313354492,19.836000442504883],[25.423999786376953,25.240999221801758,23.707000732421875,21.334999084472656,19.042999267578125,15.9350004196167,21.618999481201172,24.07900047302246,24.534000396728516,24.177000045776367,23.225000381469727,21.013999938964844],[25.16699981689453,25.91200065612793,22.514999389648438,22.586000442504883,17.95199966430664,16.639999389648438,22.180999755859375,23.944000244140625,23.88800048828125,25.155000686645508,21.94499969482422,22.16900062561035],[23.62299919128418,26.97100067138672,20.079999923706055,20.72100067138672,16.893999099731445,13.53600025177002,22.013999938964844,26.604000091552734,21.823999404907227,25.20800018310547,19.83300018310547,19.62299919128418],[23.871000289916992,26.819000244140625,19.865999221801758,19.54199981689453,16.304000854492188,12.416000366210938,22.20199966430664,27.30299949645996,21.617000579833984,24.62299919128418,18.85300064086914,18.357999801635742],[24.062999725341797,25.51300048828125,18.827999114990234,18.527999877929688,14.873000144958496,12.581999778747559,23.31599998474121,26.540000915527344,21.472999572753906,23.270999908447266,17.566999435424805,17.69300079345703],[24.823999404907227,25.024999618530273,19.26099967956543,17.11400032043457,14.567000389099121,11.513999938964844,24.158000946044922,27.065000534057617,22.409000396728516,22.336999893188477,18.08300018310547,16.256000518798828],[26.30500030517578,24.04199981689453,20.111000061035156,16.160999298095703,13.71500015258789,11.387999534606934,25.457000732421875,26.927000045776367,23.711999893188477,21.363000869750977,17.884000778198242,15.814000129699707],[0.0,22.773000717163086,21.025999069213867,15.3100004196167,13.388999938964844,11.932999610900879,0.0,25.881000518798828,25.910999298095703,20.033000946044922,17.732999801635742,14.447999954223633],[0.0,23.179000854492188,0.0,15.383000373840332,0.0,11.772000312805176,0.0,25.86199951171875,0.0,20.197999954223633,0.0,14.640999794006348],[0.0,22.134000778198242,0.0,15.178000450134277,0.0,12.875,0.0,24.485000610351562,0.0,19.44700050354004,0.0,15.053999900817871],[0.0,22.222999572753906,0.0,16.20800018310547,0.0,13.63599967956543,0.0,23.19300079345703,0.0,19.392000198364258,0.0,15.442999839782715],[22.736000061035156,0.0,17.542999267578125,0.0,14.897000312805176,0.0,22.6560001373291,0.0,20.1299991607666,0.0,17.02899932861328,0.0],[24.510000228881836,0.0,20.010000228881836,0.0,15.845000267028809,0.0,23.329999923706055,0.0,22.618000030517578,0.0,19.51300048828125,0.0],[26.856000900268555,0.0,20.809999465942383,0.0,14.215999603271484,0.0,25.259000778198242,0.0,24.40999984741211,0.0,18.402000427246094,0.0],[0.0,22.04199981689453,0.0,13.944000244140625,0.0,11.22700023651123,0.0,26.131999969482422,0.0,18.98200035095215,0.0,13.468999862670898],[0.0,24.392000198364258,0.0,16.75,0.0,11.777999877929688,0.0,26.426000595092773,0.0,21.604999542236328,0.0,15.696999549865723],[0.0,22.29400062561035,0.0,15.831999778747559,0.0,12.607999801635742,0.0,24.56599998474121,0.0,19.843000411987305,0.0,14.967000007629395],[0.0,0.0,0.0,0.0,0.0,0.0,0.0,0.0,0.0,0.0,0.0,0.0]],\"z\":[[16.395999908447266,13.178000450134277,10.815999984741211,7.816999912261963,4.211999893188477,1.0260000228881836,0.9869998693466187,4.080999851226807,6.401000022888184,9.380000114440918,12.98900032043457,16.143999099731445],[16.461000442504883,13.833000183105469,10.512999534606934,7.9029998779296875,4.052000045776367,0.5239999890327454,0.9169999361038208,3.5789999961853027,6.76800012588501,9.258000373840332,13.159000396728516,16.542999267578125],[16.920000076293945,13.944000244140625,10.418000221252441,7.558000087738037,3.5810000896453857,0.05500000715255737,0.45500004291534424,3.3980000019073486,6.763999938964844,9.52400016784668,13.619999885559082,17.04400062561035],[16.03700065612793,14.352999687194824,10.182000160217285,8.270999908447266,4.427000045776367,0.4740000367164612,1.343999981880188,3.2720000743865967,7.0929999351501465,8.901000022888184,12.854000091552734,16.461000442504883],[15.59000015258789,14.130999565124512,10.329999923706055,8.597999572753906,4.955999851226807,1.0360000133514404,1.8170000314712524,3.4830000400543213,7.044000148773193,8.62600040435791,12.355999946594238,15.895000457763672],[15.142000198364258,13.520000457763672,10.041999816894531,8.60200023651123,5.2769999504089355,1.5959999561309814,2.249000072479248,3.9649999141693115,7.364999771118164,8.722999572753906,12.086999893188477,15.456000328063965],[15.529000282287598,12.986000061035156,10.727999687194824,8.218000411987305,5.1620001792907715,1.6319999694824219,1.8809999227523804,4.269000053405762,6.640999794006348,9.086000442504883,12.156999588012695,15.541999816894531],[15.946999549865723,12.413000106811523,11.0600004196167,8.199999809265137,4.775000095367432,2.138000011444092,1.4620000123977661,4.672999858856201,6.333000183105469,9.182000160217285,12.479000091552734,15.204999923706055],[16.836999893188477,13.53499984741211,11.222000122070312,9.04699993133545,3.815000057220459,2.1040000915527344,0.5460000038146973,4.002999782562256,6.0329999923706055,8.34000015258789,13.315999984741211,14.881999969482422],[18.333999633789062,14.17300033569336,12.732000350952148,9.288999557495117,4.956999778747559,1.8410000801086426,-0.9620000123977661,3.555000066757202,4.5370001792907715,8.043999671936035,12.23900032043457,15.00100040435791],[18.354000091552734,14.5,12.848999977111816,9.02400016784668,4.447000026702881,1.190999984741211,-1.0210000276565552,3.239000082015991,4.441999912261963,8.237000465393066,12.729000091552734,15.616000175476074],[17.05500030517578,15.315999984741211,11.744999885559082,9.303999900817871,3.7890000343322754,0.8700000643730164,0.19099998474121094,2.6080000400543213,5.533999919891357,7.926000118255615,13.274999618530273,15.83899974822998],[17.187999725341797,14.675999641418457,12.234999656677246,8.187999725341797,4.60699987411499,-0.5920000076293945,-0.06199997663497925,3.3299999237060547,5.0879998207092285,9.0,12.338000297546387,17.211000442504883],[0.0,15.387999534606934,14.630000114440918,8.666999816894531,7.232999801635742,-0.7149999737739563,0.0,2.628000020980835,3.7769999504089355,8.494999885559082,9.697999954223633,16.93899917602539],[0.0,16.750999450683594,0.0,10.208999633789062,0.0,0.6809999346733093,0.0,1.2089999914169312,0.0,6.993000030517578,0.0,15.5600004196167],[0.0,17.37299919128418,0.0,10.968000411987305,0.0,1.0870001316070557,0.0,0.6080000400543213,0.0,6.307000160217285,0.0,15.619000434875488],[0.0,19.45800018310547,0.0,13.125,0.0,3.200000047683716,0.0,-1.5059998035430908,0.0,4.015999794006348,0.0,13.975000381469727],[18.233999252319336,0.0,12.534000396728516,0.0,3.4690001010894775,0.0,-0.8619999885559082,0.0,4.7270002365112305,0.0,13.803000450134277,0.0],[16.191999435424805,0.0,10.793000221252441,0.0,3.50600004196167,0.0,1.0750001668930054,0.0,6.431000232696533,0.0,13.498000144958496,0.0],[17.96500015258789,0.0,13.430999755859375,0.0,5.913000106811523,0.0,-0.8619999885559082,0.0,4.2270002365112305,0.0,11.053999900817871,0.0],[0.0,15.633000373840332,0.0,8.27299976348877,0.0,-1.6619999408721924,0.0,2.510999917984009,0.0,8.833000183105469,0.0,16.850000381469727],[0.0,16.490999221801758,0.0,10.416999816894531,0.0,1.5759999752044678,0.0,1.3259999752044678,0.0,6.755000114440918,0.0,14.920000076293945],[0.0,18.80699920654297,0.0,12.255000114440918,0.0,2.430999994277954,0.0,-0.7720000743865967,0.0,4.915999889373779,0.0,14.305999755859375],[0.0,0.0,0.0,0.0,0.0,0.0,0.0,0.0,0.0,0.0,0.0,0.0]],\"type\":\"scatter3d\"}],                        {\"template\":{\"data\":{\"histogram2dcontour\":[{\"type\":\"histogram2dcontour\",\"colorbar\":{\"outlinewidth\":0,\"ticks\":\"\"},\"colorscale\":[[0.0,\"#0d0887\"],[0.1111111111111111,\"#46039f\"],[0.2222222222222222,\"#7201a8\"],[0.3333333333333333,\"#9c179e\"],[0.4444444444444444,\"#bd3786\"],[0.5555555555555556,\"#d8576b\"],[0.6666666666666666,\"#ed7953\"],[0.7777777777777778,\"#fb9f3a\"],[0.8888888888888888,\"#fdca26\"],[1.0,\"#f0f921\"]]}],\"choropleth\":[{\"type\":\"choropleth\",\"colorbar\":{\"outlinewidth\":0,\"ticks\":\"\"}}],\"histogram2d\":[{\"type\":\"histogram2d\",\"colorbar\":{\"outlinewidth\":0,\"ticks\":\"\"},\"colorscale\":[[0.0,\"#0d0887\"],[0.1111111111111111,\"#46039f\"],[0.2222222222222222,\"#7201a8\"],[0.3333333333333333,\"#9c179e\"],[0.4444444444444444,\"#bd3786\"],[0.5555555555555556,\"#d8576b\"],[0.6666666666666666,\"#ed7953\"],[0.7777777777777778,\"#fb9f3a\"],[0.8888888888888888,\"#fdca26\"],[1.0,\"#f0f921\"]]}],\"heatmap\":[{\"type\":\"heatmap\",\"colorbar\":{\"outlinewidth\":0,\"ticks\":\"\"},\"colorscale\":[[0.0,\"#0d0887\"],[0.1111111111111111,\"#46039f\"],[0.2222222222222222,\"#7201a8\"],[0.3333333333333333,\"#9c179e\"],[0.4444444444444444,\"#bd3786\"],[0.5555555555555556,\"#d8576b\"],[0.6666666666666666,\"#ed7953\"],[0.7777777777777778,\"#fb9f3a\"],[0.8888888888888888,\"#fdca26\"],[1.0,\"#f0f921\"]]}],\"heatmapgl\":[{\"type\":\"heatmapgl\",\"colorbar\":{\"outlinewidth\":0,\"ticks\":\"\"},\"colorscale\":[[0.0,\"#0d0887\"],[0.1111111111111111,\"#46039f\"],[0.2222222222222222,\"#7201a8\"],[0.3333333333333333,\"#9c179e\"],[0.4444444444444444,\"#bd3786\"],[0.5555555555555556,\"#d8576b\"],[0.6666666666666666,\"#ed7953\"],[0.7777777777777778,\"#fb9f3a\"],[0.8888888888888888,\"#fdca26\"],[1.0,\"#f0f921\"]]}],\"contourcarpet\":[{\"type\":\"contourcarpet\",\"colorbar\":{\"outlinewidth\":0,\"ticks\":\"\"}}],\"contour\":[{\"type\":\"contour\",\"colorbar\":{\"outlinewidth\":0,\"ticks\":\"\"},\"colorscale\":[[0.0,\"#0d0887\"],[0.1111111111111111,\"#46039f\"],[0.2222222222222222,\"#7201a8\"],[0.3333333333333333,\"#9c179e\"],[0.4444444444444444,\"#bd3786\"],[0.5555555555555556,\"#d8576b\"],[0.6666666666666666,\"#ed7953\"],[0.7777777777777778,\"#fb9f3a\"],[0.8888888888888888,\"#fdca26\"],[1.0,\"#f0f921\"]]}],\"surface\":[{\"type\":\"surface\",\"colorbar\":{\"outlinewidth\":0,\"ticks\":\"\"},\"colorscale\":[[0.0,\"#0d0887\"],[0.1111111111111111,\"#46039f\"],[0.2222222222222222,\"#7201a8\"],[0.3333333333333333,\"#9c179e\"],[0.4444444444444444,\"#bd3786\"],[0.5555555555555556,\"#d8576b\"],[0.6666666666666666,\"#ed7953\"],[0.7777777777777778,\"#fb9f3a\"],[0.8888888888888888,\"#fdca26\"],[1.0,\"#f0f921\"]]}],\"mesh3d\":[{\"type\":\"mesh3d\",\"colorbar\":{\"outlinewidth\":0,\"ticks\":\"\"}}],\"scatter\":[{\"fillpattern\":{\"fillmode\":\"overlay\",\"size\":10,\"solidity\":0.2},\"type\":\"scatter\"}],\"parcoords\":[{\"type\":\"parcoords\",\"line\":{\"colorbar\":{\"outlinewidth\":0,\"ticks\":\"\"}}}],\"scatterpolargl\":[{\"type\":\"scatterpolargl\",\"marker\":{\"colorbar\":{\"outlinewidth\":0,\"ticks\":\"\"}}}],\"bar\":[{\"error_x\":{\"color\":\"#2a3f5f\"},\"error_y\":{\"color\":\"#2a3f5f\"},\"marker\":{\"line\":{\"color\":\"#E5ECF6\",\"width\":0.5},\"pattern\":{\"fillmode\":\"overlay\",\"size\":10,\"solidity\":0.2}},\"type\":\"bar\"}],\"scattergeo\":[{\"type\":\"scattergeo\",\"marker\":{\"colorbar\":{\"outlinewidth\":0,\"ticks\":\"\"}}}],\"scatterpolar\":[{\"type\":\"scatterpolar\",\"marker\":{\"colorbar\":{\"outlinewidth\":0,\"ticks\":\"\"}}}],\"histogram\":[{\"marker\":{\"pattern\":{\"fillmode\":\"overlay\",\"size\":10,\"solidity\":0.2}},\"type\":\"histogram\"}],\"scattergl\":[{\"type\":\"scattergl\",\"marker\":{\"colorbar\":{\"outlinewidth\":0,\"ticks\":\"\"}}}],\"scatter3d\":[{\"type\":\"scatter3d\",\"line\":{\"colorbar\":{\"outlinewidth\":0,\"ticks\":\"\"}},\"marker\":{\"colorbar\":{\"outlinewidth\":0,\"ticks\":\"\"}}}],\"scattermapbox\":[{\"type\":\"scattermapbox\",\"marker\":{\"colorbar\":{\"outlinewidth\":0,\"ticks\":\"\"}}}],\"scatterternary\":[{\"type\":\"scatterternary\",\"marker\":{\"colorbar\":{\"outlinewidth\":0,\"ticks\":\"\"}}}],\"scattercarpet\":[{\"type\":\"scattercarpet\",\"marker\":{\"colorbar\":{\"outlinewidth\":0,\"ticks\":\"\"}}}],\"carpet\":[{\"aaxis\":{\"endlinecolor\":\"#2a3f5f\",\"gridcolor\":\"white\",\"linecolor\":\"white\",\"minorgridcolor\":\"white\",\"startlinecolor\":\"#2a3f5f\"},\"baxis\":{\"endlinecolor\":\"#2a3f5f\",\"gridcolor\":\"white\",\"linecolor\":\"white\",\"minorgridcolor\":\"white\",\"startlinecolor\":\"#2a3f5f\"},\"type\":\"carpet\"}],\"table\":[{\"cells\":{\"fill\":{\"color\":\"#EBF0F8\"},\"line\":{\"color\":\"white\"}},\"header\":{\"fill\":{\"color\":\"#C8D4E3\"},\"line\":{\"color\":\"white\"}},\"type\":\"table\"}],\"barpolar\":[{\"marker\":{\"line\":{\"color\":\"#E5ECF6\",\"width\":0.5},\"pattern\":{\"fillmode\":\"overlay\",\"size\":10,\"solidity\":0.2}},\"type\":\"barpolar\"}],\"pie\":[{\"automargin\":true,\"type\":\"pie\"}]},\"layout\":{\"autotypenumbers\":\"strict\",\"colorway\":[\"#636efa\",\"#EF553B\",\"#00cc96\",\"#ab63fa\",\"#FFA15A\",\"#19d3f3\",\"#FF6692\",\"#B6E880\",\"#FF97FF\",\"#FECB52\"],\"font\":{\"color\":\"#2a3f5f\"},\"hovermode\":\"closest\",\"hoverlabel\":{\"align\":\"left\"},\"paper_bgcolor\":\"white\",\"plot_bgcolor\":\"#E5ECF6\",\"polar\":{\"bgcolor\":\"#E5ECF6\",\"angularaxis\":{\"gridcolor\":\"white\",\"linecolor\":\"white\",\"ticks\":\"\"},\"radialaxis\":{\"gridcolor\":\"white\",\"linecolor\":\"white\",\"ticks\":\"\"}},\"ternary\":{\"bgcolor\":\"#E5ECF6\",\"aaxis\":{\"gridcolor\":\"white\",\"linecolor\":\"white\",\"ticks\":\"\"},\"baxis\":{\"gridcolor\":\"white\",\"linecolor\":\"white\",\"ticks\":\"\"},\"caxis\":{\"gridcolor\":\"white\",\"linecolor\":\"white\",\"ticks\":\"\"}},\"coloraxis\":{\"colorbar\":{\"outlinewidth\":0,\"ticks\":\"\"}},\"colorscale\":{\"sequential\":[[0.0,\"#0d0887\"],[0.1111111111111111,\"#46039f\"],[0.2222222222222222,\"#7201a8\"],[0.3333333333333333,\"#9c179e\"],[0.4444444444444444,\"#bd3786\"],[0.5555555555555556,\"#d8576b\"],[0.6666666666666666,\"#ed7953\"],[0.7777777777777778,\"#fb9f3a\"],[0.8888888888888888,\"#fdca26\"],[1.0,\"#f0f921\"]],\"sequentialminus\":[[0.0,\"#0d0887\"],[0.1111111111111111,\"#46039f\"],[0.2222222222222222,\"#7201a8\"],[0.3333333333333333,\"#9c179e\"],[0.4444444444444444,\"#bd3786\"],[0.5555555555555556,\"#d8576b\"],[0.6666666666666666,\"#ed7953\"],[0.7777777777777778,\"#fb9f3a\"],[0.8888888888888888,\"#fdca26\"],[1.0,\"#f0f921\"]],\"diverging\":[[0,\"#8e0152\"],[0.1,\"#c51b7d\"],[0.2,\"#de77ae\"],[0.3,\"#f1b6da\"],[0.4,\"#fde0ef\"],[0.5,\"#f7f7f7\"],[0.6,\"#e6f5d0\"],[0.7,\"#b8e186\"],[0.8,\"#7fbc41\"],[0.9,\"#4d9221\"],[1,\"#276419\"]]},\"xaxis\":{\"gridcolor\":\"white\",\"linecolor\":\"white\",\"ticks\":\"\",\"title\":{\"standoff\":15},\"zerolinecolor\":\"white\",\"automargin\":true,\"zerolinewidth\":2},\"yaxis\":{\"gridcolor\":\"white\",\"linecolor\":\"white\",\"ticks\":\"\",\"title\":{\"standoff\":15},\"zerolinecolor\":\"white\",\"automargin\":true,\"zerolinewidth\":2},\"scene\":{\"xaxis\":{\"backgroundcolor\":\"#E5ECF6\",\"gridcolor\":\"white\",\"linecolor\":\"white\",\"showbackground\":true,\"ticks\":\"\",\"zerolinecolor\":\"white\",\"gridwidth\":2},\"yaxis\":{\"backgroundcolor\":\"#E5ECF6\",\"gridcolor\":\"white\",\"linecolor\":\"white\",\"showbackground\":true,\"ticks\":\"\",\"zerolinecolor\":\"white\",\"gridwidth\":2},\"zaxis\":{\"backgroundcolor\":\"#E5ECF6\",\"gridcolor\":\"white\",\"linecolor\":\"white\",\"showbackground\":true,\"ticks\":\"\",\"zerolinecolor\":\"white\",\"gridwidth\":2}},\"shapedefaults\":{\"line\":{\"color\":\"#2a3f5f\"}},\"annotationdefaults\":{\"arrowcolor\":\"#2a3f5f\",\"arrowhead\":0,\"arrowwidth\":1},\"geo\":{\"bgcolor\":\"white\",\"landcolor\":\"#E5ECF6\",\"subunitcolor\":\"white\",\"showland\":true,\"showlakes\":true,\"lakecolor\":\"white\"},\"title\":{\"x\":0.05},\"mapbox\":{\"style\":\"light\"}}}},                        {\"responsive\": true}                    ).then(function(){\n",
       "                            \n",
       "var gd = document.getElementById('17a723c1-3173-4ed8-a4e6-375ab3e5d202');\n",
       "var x = new MutationObserver(function (mutations, observer) {{\n",
       "        var display = window.getComputedStyle(gd).display;\n",
       "        if (!display || display === 'none') {{\n",
       "            console.log([gd, 'removed!']);\n",
       "            Plotly.purge(gd);\n",
       "            observer.disconnect();\n",
       "        }}\n",
       "}});\n",
       "\n",
       "// Listen for the removal of the full notebook cells\n",
       "var notebookContainer = gd.closest('#notebook-container');\n",
       "if (notebookContainer) {{\n",
       "    x.observe(notebookContainer, {childList: true});\n",
       "}}\n",
       "\n",
       "// Listen for the clearing of the current output cell\n",
       "var outputEl = gd.closest('.output');\n",
       "if (outputEl) {{\n",
       "    x.observe(outputEl, {childList: true});\n",
       "}}\n",
       "\n",
       "                        })                };                });            </script>        </div>"
      ]
     },
     "metadata": {},
     "output_type": "display_data"
    }
   ],
   "source": [
    "scatter_data = _scatter(name='visualize', ca_coord = internal.coord, atom_coord=atom_coord, atom_mask=np.array(internal.mask_coord).astype(bool), color='blue', visible=True)\n",
    "fig = go.Figure(data=scatter_data)\n",
    "\n",
    "fig.show()"
   ]
  },
  {
   "cell_type": "code",
   "execution_count": null,
   "metadata": {},
   "outputs": [
    {
     "data": {
      "text/plain": [
       "(12, 3)"
      ]
     },
     "execution_count": 48,
     "metadata": {},
     "output_type": "execute_result"
    }
   ],
   "source": [
    "start_coords.shape"
   ]
  },
  {
   "cell_type": "code",
   "execution_count": 49,
   "metadata": {},
   "outputs": [
    {
     "data": {
      "application/vnd.plotly.v1+json": {
       "config": {
        "plotlyServerURL": "https://plot.ly"
       },
       "data": [
        {
         "line": {
          "color": "blue",
          "width": 2
         },
         "mode": "lines",
         "type": "scatter3d",
         "x": [
          7.6579999923706055,
          10.781999588012695
         ],
         "y": [
          24.062999725341797,
          23.91699981689453
         ],
         "z": [
          18.354000091552734,
          16.395999908447266
         ]
        },
        {
         "line": {
          "color": "blue",
          "width": 2
         },
         "mode": "lines",
         "type": "scatter3d",
         "x": [
          7.6579999923706055,
          11.727999687194824
         ],
         "y": [
          24.062999725341797,
          22.927000045776367
         ],
         "z": [
          18.354000091552734,
          16.461000442504883
         ]
        },
        {
         "line": {
          "color": "blue",
          "width": 2
         },
         "mode": "lines",
         "type": "scatter3d",
         "x": [
          7.6579999923706055,
          11.418999671936035
         ],
         "y": [
          24.062999725341797,
          21.819000244140625
         ],
         "z": [
          18.354000091552734,
          16.920000076293945
         ]
        },
        {
         "line": {
          "color": "blue",
          "width": 2
         },
         "mode": "lines",
         "type": "scatter3d",
         "x": [
          7.6579999923706055,
          12.97599983215332
         ],
         "y": [
          24.062999725341797,
          23.16200065612793
         ],
         "z": [
          18.354000091552734,
          16.03700065612793
         ]
        },
        {
         "line": {
          "color": "blue",
          "width": 2
         },
         "mode": "lines",
         "type": "scatter3d",
         "x": [
          7.6579999923706055,
          13.315999984741211
         ],
         "y": [
          24.062999725341797,
          24.36199951171875
         ],
         "z": [
          18.354000091552734,
          15.59000015258789
         ]
        },
        {
         "line": {
          "color": "blue",
          "width": 2
         },
         "mode": "lines",
         "type": "scatter3d",
         "x": [
          7.6579999923706055,
          14.5600004196167
         ],
         "y": [
          24.062999725341797,
          24.583999633789062
         ],
         "z": [
          18.354000091552734,
          15.142000198364258
         ]
        },
        {
         "line": {
          "color": "blue",
          "width": 2
         },
         "mode": "lines",
         "type": "scatter3d",
         "x": [
          7.6579999923706055,
          12.378000259399414
         ],
         "y": [
          24.062999725341797,
          25.423999786376953
         ],
         "z": [
          18.354000091552734,
          15.529000282287598
         ]
        },
        {
         "line": {
          "color": "blue",
          "width": 2
         },
         "mode": "lines",
         "type": "scatter3d",
         "x": [
          7.6579999923706055,
          11.126999855041504
         ],
         "y": [
          24.062999725341797,
          25.16699981689453
         ],
         "z": [
          18.354000091552734,
          15.946999549865723
         ]
        },
        {
         "line": {
          "color": "blue",
          "width": 2
         },
         "mode": "lines",
         "type": "scatter3d",
         "x": [
          7.6579999923706055,
          9.414999961853027
         ],
         "y": [
          24.062999725341797,
          23.62299919128418
         ],
         "z": [
          18.354000091552734,
          16.836999893188477
         ]
        },
        {
         "line": {
          "color": "blue",
          "width": 2
         },
         "mode": "lines",
         "type": "scatter3d",
         "x": [
          7.6579999923706055,
          9.182000160217285
         ],
         "y": [
          24.062999725341797,
          23.871000289916992
         ],
         "z": [
          18.354000091552734,
          18.333999633789062
         ]
        },
        {
         "line": {
          "color": "blue",
          "width": 2
         },
         "mode": "lines",
         "type": "scatter3d",
         "x": [
          7.6579999923706055,
          7.6579999923706055
         ],
         "y": [
          24.062999725341797,
          24.062999725341797
         ],
         "z": [
          18.354000091552734,
          18.354000091552734
         ]
        },
        {
         "line": {
          "color": "blue",
          "width": 2
         },
         "mode": "lines",
         "type": "scatter3d",
         "x": [
          7.6579999923706055,
          7.410999774932861
         ],
         "y": [
          24.062999725341797,
          24.823999404907227
         ],
         "z": [
          18.354000091552734,
          17.05500030517578
         ]
        },
        {
         "line": {
          "color": "blue",
          "width": 2
         },
         "mode": "lines",
         "type": "scatter3d",
         "x": [
          7.6579999923706055,
          7.265999794006348
         ],
         "y": [
          24.062999725341797,
          26.30500030517578
         ],
         "z": [
          18.354000091552734,
          17.187999725341797
         ]
        },
        {
         "line": {
          "color": "blue",
          "width": 2
         },
         "mode": "lines",
         "type": "scatter3d",
         "x": [
          7.6579999923706055,
          0
         ],
         "y": [
          24.062999725341797,
          0
         ],
         "z": [
          18.354000091552734,
          0
         ]
        },
        {
         "line": {
          "color": "blue",
          "width": 2
         },
         "mode": "lines",
         "type": "scatter3d",
         "x": [
          7.6579999923706055,
          0
         ],
         "y": [
          24.062999725341797,
          0
         ],
         "z": [
          18.354000091552734,
          0
         ]
        },
        {
         "line": {
          "color": "blue",
          "width": 2
         },
         "mode": "lines",
         "type": "scatter3d",
         "x": [
          7.6579999923706055,
          0
         ],
         "y": [
          24.062999725341797,
          0
         ],
         "z": [
          18.354000091552734,
          0
         ]
        },
        {
         "line": {
          "color": "blue",
          "width": 2
         },
         "mode": "lines",
         "type": "scatter3d",
         "x": [
          7.6579999923706055,
          0
         ],
         "y": [
          24.062999725341797,
          0
         ],
         "z": [
          18.354000091552734,
          0
         ]
        },
        {
         "line": {
          "color": "blue",
          "width": 2
         },
         "mode": "lines",
         "type": "scatter3d",
         "x": [
          7.6579999923706055,
          7.065999984741211
         ],
         "y": [
          24.062999725341797,
          22.736000061035156
         ],
         "z": [
          18.354000091552734,
          18.233999252319336
         ]
        },
        {
         "line": {
          "color": "blue",
          "width": 2
         },
         "mode": "lines",
         "type": "scatter3d",
         "x": [
          7.6579999923706055,
          8.53600025177002
         ],
         "y": [
          24.062999725341797,
          24.510000228881836
         ],
         "z": [
          18.354000091552734,
          16.191999435424805
         ]
        },
        {
         "line": {
          "color": "blue",
          "width": 2
         },
         "mode": "lines",
         "type": "scatter3d",
         "x": [
          7.6579999923706055,
          8.343999862670898
         ],
         "y": [
          24.062999725341797,
          26.856000900268555
         ],
         "z": [
          18.354000091552734,
          17.96500015258789
         ]
        },
        {
         "line": {
          "color": "blue",
          "width": 2
         },
         "mode": "lines",
         "type": "scatter3d",
         "x": [
          7.6579999923706055,
          0
         ],
         "y": [
          24.062999725341797,
          0
         ],
         "z": [
          18.354000091552734,
          0
         ]
        },
        {
         "line": {
          "color": "blue",
          "width": 2
         },
         "mode": "lines",
         "type": "scatter3d",
         "x": [
          7.6579999923706055,
          0
         ],
         "y": [
          24.062999725341797,
          0
         ],
         "z": [
          18.354000091552734,
          0
         ]
        },
        {
         "line": {
          "color": "blue",
          "width": 2
         },
         "mode": "lines",
         "type": "scatter3d",
         "x": [
          7.6579999923706055,
          0
         ],
         "y": [
          24.062999725341797,
          0
         ],
         "z": [
          18.354000091552734,
          0
         ]
        },
        {
         "line": {
          "color": "blue",
          "width": 2
         },
         "mode": "lines",
         "type": "scatter3d",
         "x": [
          7.6579999923706055,
          0
         ],
         "y": [
          24.062999725341797,
          0
         ],
         "z": [
          18.354000091552734,
          0
         ]
        },
        {
         "line": {
          "color": "blue",
          "width": 2
         },
         "mode": "lines",
         "type": "scatter3d",
         "x": [
          3.0920000076293945,
          8.347000122070312
         ],
         "y": [
          22.773000717163086,
          23.878000259399414
         ],
         "z": [
          15.387999534606934,
          13.178000450134277
         ]
        },
        {
         "line": {
          "color": "blue",
          "width": 2
         },
         "mode": "lines",
         "type": "scatter3d",
         "x": [
          3.0920000076293945,
          7.448999881744385
         ],
         "y": [
          22.773000717163086,
          23.08799934387207
         ],
         "z": [
          15.387999534606934,
          13.833000183105469
         ]
        },
        {
         "line": {
          "color": "blue",
          "width": 2
         },
         "mode": "lines",
         "type": "scatter3d",
         "x": [
          3.0920000076293945,
          7.800000190734863
         ],
         "y": [
          22.773000717163086,
          21.802000045776367
         ],
         "z": [
          15.387999534606934,
          13.944000244140625
         ]
        },
        {
         "line": {
          "color": "blue",
          "width": 2
         },
         "mode": "lines",
         "type": "scatter3d",
         "x": [
          3.0920000076293945,
          6.301000118255615
         ],
         "y": [
          22.773000717163086,
          23.48200035095215
         ],
         "z": [
          15.387999534606934,
          14.352999687194824
         ]
        },
        {
         "line": {
          "color": "blue",
          "width": 2
         },
         "mode": "lines",
         "type": "scatter3d",
         "x": [
          3.0920000076293945,
          6.071000099182129
         ],
         "y": [
          22.773000717163086,
          24.795000076293945
         ],
         "z": [
          15.387999534606934,
          14.130999565124512
         ]
        },
        {
         "line": {
          "color": "blue",
          "width": 2
         },
         "mode": "lines",
         "type": "scatter3d",
         "x": [
          3.0920000076293945,
          6.918000221252441
         ],
         "y": [
          22.773000717163086,
          25.68899917602539
         ],
         "z": [
          15.387999534606934,
          13.520000457763672
         ]
        },
        {
         "line": {
          "color": "blue",
          "width": 2
         },
         "mode": "lines",
         "type": "scatter3d",
         "x": [
          3.0920000076293945,
          8.154999732971191
         ],
         "y": [
          22.773000717163086,
          25.240999221801758
         ],
         "z": [
          15.387999534606934,
          12.986000061035156
         ]
        },
        {
         "line": {
          "color": "blue",
          "width": 2
         },
         "mode": "lines",
         "type": "scatter3d",
         "x": [
          3.0920000076293945,
          9.022000312805176
         ],
         "y": [
          22.773000717163086,
          25.91200065612793
         ],
         "z": [
          15.387999534606934,
          12.413000106811523
         ]
        },
        {
         "line": {
          "color": "blue",
          "width": 2
         },
         "mode": "lines",
         "type": "scatter3d",
         "x": [
          3.0920000076293945,
          6.377999782562256
         ],
         "y": [
          22.773000717163086,
          26.97100067138672
         ],
         "z": [
          15.387999534606934,
          13.53499984741211
         ]
        },
        {
         "line": {
          "color": "blue",
          "width": 2
         },
         "mode": "lines",
         "type": "scatter3d",
         "x": [
          3.0920000076293945,
          5.251999855041504
         ],
         "y": [
          22.773000717163086,
          26.819000244140625
         ],
         "z": [
          15.387999534606934,
          14.17300033569336
         ]
        },
        {
         "line": {
          "color": "blue",
          "width": 2
         },
         "mode": "lines",
         "type": "scatter3d",
         "x": [
          3.0920000076293945,
          4.966000080108643
         ],
         "y": [
          22.773000717163086,
          25.51300048828125
         ],
         "z": [
          15.387999534606934,
          14.5
         ]
        },
        {
         "line": {
          "color": "blue",
          "width": 2
         },
         "mode": "lines",
         "type": "scatter3d",
         "x": [
          3.0920000076293945,
          3.8499999046325684
         ],
         "y": [
          22.773000717163086,
          25.024999618530273
         ],
         "z": [
          15.387999534606934,
          15.315999984741211
         ]
        },
        {
         "line": {
          "color": "blue",
          "width": 2
         },
         "mode": "lines",
         "type": "scatter3d",
         "x": [
          3.0920000076293945,
          2.940000057220459
         ],
         "y": [
          22.773000717163086,
          24.04199981689453
         ],
         "z": [
          15.387999534606934,
          14.675999641418457
         ]
        },
        {
         "line": {
          "color": "blue",
          "width": 2
         },
         "mode": "lines",
         "type": "scatter3d",
         "x": [
          3.0920000076293945,
          3.0920000076293945
         ],
         "y": [
          22.773000717163086,
          22.773000717163086
         ],
         "z": [
          15.387999534606934,
          15.387999534606934
         ]
        },
        {
         "line": {
          "color": "blue",
          "width": 2
         },
         "mode": "lines",
         "type": "scatter3d",
         "x": [
          3.0920000076293945,
          3.7230000495910645
         ],
         "y": [
          22.773000717163086,
          23.179000854492188
         ],
         "z": [
          15.387999534606934,
          16.750999450683594
         ]
        },
        {
         "line": {
          "color": "blue",
          "width": 2
         },
         "mode": "lines",
         "type": "scatter3d",
         "x": [
          3.0920000076293945,
          4.560999870300293
         ],
         "y": [
          22.773000717163086,
          22.134000778198242
         ],
         "z": [
          15.387999534606934,
          17.37299919128418
         ]
        },
        {
         "line": {
          "color": "blue",
          "width": 2
         },
         "mode": "lines",
         "type": "scatter3d",
         "x": [
          3.0920000076293945,
          6.139999866485596
         ],
         "y": [
          22.773000717163086,
          22.222999572753906
         ],
         "z": [
          15.387999534606934,
          19.45800018310547
         ]
        },
        {
         "line": {
          "color": "blue",
          "width": 2
         },
         "mode": "lines",
         "type": "scatter3d",
         "x": [
          3.0920000076293945,
          0
         ],
         "y": [
          22.773000717163086,
          0
         ],
         "z": [
          15.387999534606934,
          0
         ]
        },
        {
         "line": {
          "color": "blue",
          "width": 2
         },
         "mode": "lines",
         "type": "scatter3d",
         "x": [
          3.0920000076293945,
          0
         ],
         "y": [
          22.773000717163086,
          0
         ],
         "z": [
          15.387999534606934,
          0
         ]
        },
        {
         "line": {
          "color": "blue",
          "width": 2
         },
         "mode": "lines",
         "type": "scatter3d",
         "x": [
          3.0920000076293945,
          0
         ],
         "y": [
          22.773000717163086,
          0
         ],
         "z": [
          15.387999534606934,
          0
         ]
        },
        {
         "line": {
          "color": "blue",
          "width": 2
         },
         "mode": "lines",
         "type": "scatter3d",
         "x": [
          3.0920000076293945,
          1.902999997138977
         ],
         "y": [
          22.773000717163086,
          22.04199981689453
         ],
         "z": [
          15.387999534606934,
          15.633000373840332
         ]
        },
        {
         "line": {
          "color": "blue",
          "width": 2
         },
         "mode": "lines",
         "type": "scatter3d",
         "x": [
          3.0920000076293945,
          4.3979997634887695
         ],
         "y": [
          22.773000717163086,
          24.392000198364258
         ],
         "z": [
          15.387999534606934,
          16.490999221801758
         ]
        },
        {
         "line": {
          "color": "blue",
          "width": 2
         },
         "mode": "lines",
         "type": "scatter3d",
         "x": [
          3.0920000076293945,
          4.639999866485596
         ],
         "y": [
          22.773000717163086,
          22.29400062561035
         ],
         "z": [
          15.387999534606934,
          18.80699920654297
         ]
        },
        {
         "line": {
          "color": "blue",
          "width": 2
         },
         "mode": "lines",
         "type": "scatter3d",
         "x": [
          3.0920000076293945,
          0
         ],
         "y": [
          22.773000717163086,
          0
         ],
         "z": [
          15.387999534606934,
          0
         ]
        },
        {
         "line": {
          "color": "blue",
          "width": 2
         },
         "mode": "lines",
         "type": "scatter3d",
         "x": [
          4,
          5.710000038146973
         ],
         "y": [
          18.827999114990234,
          21.374000549316406
         ],
         "z": [
          12.848999977111816,
          10.815999984741211
         ]
        },
        {
         "line": {
          "color": "blue",
          "width": 2
         },
         "mode": "lines",
         "type": "scatter3d",
         "x": [
          4,
          7.059999942779541
         ],
         "y": [
          18.827999114990234,
          21.475000381469727
         ],
         "z": [
          12.848999977111816,
          10.512999534606934
         ]
        },
        {
         "line": {
          "color": "blue",
          "width": 2
         },
         "mode": "lines",
         "type": "scatter3d",
         "x": [
          4,
          7.742000102996826
         ],
         "y": [
          18.827999114990234,
          20.42799949645996
         ],
         "z": [
          12.848999977111816,
          10.418000221252441
         ]
        },
        {
         "line": {
          "color": "blue",
          "width": 2
         },
         "mode": "lines",
         "type": "scatter3d",
         "x": [
          4,
          7.609000205993652
         ],
         "y": [
          18.827999114990234,
          22.676000595092773
         ],
         "z": [
          12.848999977111816,
          10.182000160217285
         ]
        },
        {
         "line": {
          "color": "blue",
          "width": 2
         },
         "mode": "lines",
         "type": "scatter3d",
         "x": [
          4,
          6.885000228881836
         ],
         "y": [
          18.827999114990234,
          23.788000106811523
         ],
         "z": [
          12.848999977111816,
          10.329999923706055
         ]
        },
        {
         "line": {
          "color": "blue",
          "width": 2
         },
         "mode": "lines",
         "type": "scatter3d",
         "x": [
          4,
          7.452000141143799
         ],
         "y": [
          18.827999114990234,
          24.95400047302246
         ],
         "z": [
          12.848999977111816,
          10.041999816894531
         ]
        },
        {
         "line": {
          "color": "blue",
          "width": 2
         },
         "mode": "lines",
         "type": "scatter3d",
         "x": [
          4,
          5.515999794006348
         ],
         "y": [
          18.827999114990234,
          23.707000732421875
         ],
         "z": [
          12.848999977111816,
          10.727999687194824
         ]
        },
        {
         "line": {
          "color": "blue",
          "width": 2
         },
         "mode": "lines",
         "type": "scatter3d",
         "x": [
          4,
          4.998000144958496
         ],
         "y": [
          18.827999114990234,
          22.514999389648438
         ],
         "z": [
          12.848999977111816,
          11.0600004196167
         ]
        },
        {
         "line": {
          "color": "blue",
          "width": 2
         },
         "mode": "lines",
         "type": "scatter3d",
         "x": [
          4,
          5.170000076293945
         ],
         "y": [
          18.827999114990234,
          20.079999923706055
         ],
         "z": [
          12.848999977111816,
          11.222000122070312
         ]
        },
        {
         "line": {
          "color": "blue",
          "width": 2
         },
         "mode": "lines",
         "type": "scatter3d",
         "x": [
          4,
          5.118000030517578
         ],
         "y": [
          18.827999114990234,
          19.865999221801758
         ],
         "z": [
          12.848999977111816,
          12.732000350952148
         ]
        },
        {
         "line": {
          "color": "blue",
          "width": 2
         },
         "mode": "lines",
         "type": "scatter3d",
         "x": [
          4,
          4
         ],
         "y": [
          18.827999114990234,
          18.827999114990234
         ],
         "z": [
          12.848999977111816,
          12.848999977111816
         ]
        },
        {
         "line": {
          "color": "blue",
          "width": 2
         },
         "mode": "lines",
         "type": "scatter3d",
         "x": [
          4,
          3.0320000648498535
         ],
         "y": [
          18.827999114990234,
          19.26099967956543
         ],
         "z": [
          12.848999977111816,
          11.744999885559082
         ]
        },
        {
         "line": {
          "color": "blue",
          "width": 2
         },
         "mode": "lines",
         "type": "scatter3d",
         "x": [
          4,
          1.8819999694824219
         ],
         "y": [
          18.827999114990234,
          20.111000061035156
         ],
         "z": [
          12.848999977111816,
          12.234999656677246
         ]
        },
        {
         "line": {
          "color": "blue",
          "width": 2
         },
         "mode": "lines",
         "type": "scatter3d",
         "x": [
          4,
          1.2599999904632568
         ],
         "y": [
          18.827999114990234,
          21.025999069213867
         ],
         "z": [
          12.848999977111816,
          14.630000114440918
         ]
        },
        {
         "line": {
          "color": "blue",
          "width": 2
         },
         "mode": "lines",
         "type": "scatter3d",
         "x": [
          4,
          0
         ],
         "y": [
          18.827999114990234,
          0
         ],
         "z": [
          12.848999977111816,
          0
         ]
        },
        {
         "line": {
          "color": "blue",
          "width": 2
         },
         "mode": "lines",
         "type": "scatter3d",
         "x": [
          4,
          0
         ],
         "y": [
          18.827999114990234,
          0
         ],
         "z": [
          12.848999977111816,
          0
         ]
        },
        {
         "line": {
          "color": "blue",
          "width": 2
         },
         "mode": "lines",
         "type": "scatter3d",
         "x": [
          4,
          0
         ],
         "y": [
          18.827999114990234,
          0
         ],
         "z": [
          12.848999977111816,
          0
         ]
        },
        {
         "line": {
          "color": "blue",
          "width": 2
         },
         "mode": "lines",
         "type": "scatter3d",
         "x": [
          4,
          4.540999889373779
         ],
         "y": [
          18.827999114990234,
          17.542999267578125
         ],
         "z": [
          12.848999977111816,
          12.534000396728516
         ]
        },
        {
         "line": {
          "color": "blue",
          "width": 2
         },
         "mode": "lines",
         "type": "scatter3d",
         "x": [
          4,
          3.812999963760376
         ],
         "y": [
          18.827999114990234,
          20.010000228881836
         ],
         "z": [
          12.848999977111816,
          10.793000221252441
         ]
        },
        {
         "line": {
          "color": "blue",
          "width": 2
         },
         "mode": "lines",
         "type": "scatter3d",
         "x": [
          4,
          2.2750000953674316
         ],
         "y": [
          18.827999114990234,
          20.809999465942383
         ],
         "z": [
          12.848999977111816,
          13.430999755859375
         ]
        },
        {
         "line": {
          "color": "blue",
          "width": 2
         },
         "mode": "lines",
         "type": "scatter3d",
         "x": [
          4,
          0
         ],
         "y": [
          18.827999114990234,
          0
         ],
         "z": [
          12.848999977111816,
          0
         ]
        },
        {
         "line": {
          "color": "blue",
          "width": 2
         },
         "mode": "lines",
         "type": "scatter3d",
         "x": [
          4,
          0
         ],
         "y": [
          18.827999114990234,
          0
         ],
         "z": [
          12.848999977111816,
          0
         ]
        },
        {
         "line": {
          "color": "blue",
          "width": 2
         },
         "mode": "lines",
         "type": "scatter3d",
         "x": [
          4,
          0
         ],
         "y": [
          18.827999114990234,
          0
         ],
         "z": [
          12.848999977111816,
          0
         ]
        },
        {
         "line": {
          "color": "blue",
          "width": 2
         },
         "mode": "lines",
         "type": "scatter3d",
         "x": [
          4,
          0
         ],
         "y": [
          18.827999114990234,
          0
         ],
         "z": [
          12.848999977111816,
          0
         ]
        },
        {
         "line": {
          "color": "blue",
          "width": 2
         },
         "mode": "lines",
         "type": "scatter3d",
         "x": [
          1.6699999570846558,
          3.559000015258789
         ],
         "y": [
          15.3100004196167,
          20.673999786376953
         ],
         "z": [
          8.666999816894531,
          7.816999912261963
         ]
        },
        {
         "line": {
          "color": "blue",
          "width": 2
         },
         "mode": "lines",
         "type": "scatter3d",
         "x": [
          1.6699999570846558,
          3.744999885559082
         ],
         "y": [
          15.3100004196167,
          19.304000854492188
         ],
         "z": [
          8.666999816894531,
          7.9029998779296875
         ]
        },
        {
         "line": {
          "color": "blue",
          "width": 2
         },
         "mode": "lines",
         "type": "scatter3d",
         "x": [
          1.6699999570846558,
          4.916999816894531
         ],
         "y": [
          15.3100004196167,
          18.836999893188477
         ],
         "z": [
          8.666999816894531,
          7.558000087738037
         ]
        },
        {
         "line": {
          "color": "blue",
          "width": 2
         },
         "mode": "lines",
         "type": "scatter3d",
         "x": [
          1.6699999570846558,
          2.7829999923706055
         ],
         "y": [
          15.3100004196167,
          18.46299934387207
         ],
         "z": [
          8.666999816894531,
          8.270999908447266
         ]
        },
        {
         "line": {
          "color": "blue",
          "width": 2
         },
         "mode": "lines",
         "type": "scatter3d",
         "x": [
          1.6699999570846558,
          1.6369999647140503
         ],
         "y": [
          15.3100004196167,
          19.094999313354492
         ],
         "z": [
          8.666999816894531,
          8.597999572753906
         ]
        },
        {
         "line": {
          "color": "blue",
          "width": 2
         },
         "mode": "lines",
         "type": "scatter3d",
         "x": [
          1.6699999570846558,
          1.3919999599456787
         ],
         "y": [
          15.3100004196167,
          20.461999893188477
         ],
         "z": [
          8.666999816894531,
          8.60200023651123
         ]
        },
        {
         "line": {
          "color": "blue",
          "width": 2
         },
         "mode": "lines",
         "type": "scatter3d",
         "x": [
          1.6699999570846558,
          2.427999973297119
         ],
         "y": [
          15.3100004196167,
          21.334999084472656
         ],
         "z": [
          8.666999816894531,
          8.218000411987305
         ]
        },
        {
         "line": {
          "color": "blue",
          "width": 2
         },
         "mode": "lines",
         "type": "scatter3d",
         "x": [
          1.6699999570846558,
          2.4040000438690186
         ],
         "y": [
          15.3100004196167,
          22.586000442504883
         ],
         "z": [
          8.666999816894531,
          8.199999809265137
         ]
        },
        {
         "line": {
          "color": "blue",
          "width": 2
         },
         "mode": "lines",
         "type": "scatter3d",
         "x": [
          1.6699999570846558,
          0.09300005435943604
         ],
         "y": [
          15.3100004196167,
          20.72100067138672
         ],
         "z": [
          8.666999816894531,
          9.04699993133545
         ]
        },
        {
         "line": {
          "color": "blue",
          "width": 2
         },
         "mode": "lines",
         "type": "scatter3d",
         "x": [
          1.6699999570846558,
          -0.40500009059906006
         ],
         "y": [
          15.3100004196167,
          19.54199981689453
         ],
         "z": [
          8.666999816894531,
          9.288999557495117
         ]
        },
        {
         "line": {
          "color": "blue",
          "width": 2
         },
         "mode": "lines",
         "type": "scatter3d",
         "x": [
          1.6699999570846558,
          0.4729999303817749
         ],
         "y": [
          15.3100004196167,
          18.527999877929688
         ],
         "z": [
          8.666999816894531,
          9.02400016784668
         ]
        },
        {
         "line": {
          "color": "blue",
          "width": 2
         },
         "mode": "lines",
         "type": "scatter3d",
         "x": [
          1.6699999570846558,
          0.23000001907348633
         ],
         "y": [
          15.3100004196167,
          17.11400032043457
         ],
         "z": [
          8.666999816894531,
          9.303999900817871
         ]
        },
        {
         "line": {
          "color": "blue",
          "width": 2
         },
         "mode": "lines",
         "type": "scatter3d",
         "x": [
          1.6699999570846558,
          0.5549999475479126
         ],
         "y": [
          15.3100004196167,
          16.160999298095703
         ],
         "z": [
          8.666999816894531,
          8.187999725341797
         ]
        },
        {
         "line": {
          "color": "blue",
          "width": 2
         },
         "mode": "lines",
         "type": "scatter3d",
         "x": [
          1.6699999570846558,
          1.6699999570846558
         ],
         "y": [
          15.3100004196167,
          15.3100004196167
         ],
         "z": [
          8.666999816894531,
          8.666999816894531
         ]
        },
        {
         "line": {
          "color": "blue",
          "width": 2
         },
         "mode": "lines",
         "type": "scatter3d",
         "x": [
          1.6699999570846558,
          1.5080000162124634
         ],
         "y": [
          15.3100004196167,
          15.383000373840332
         ],
         "z": [
          8.666999816894531,
          10.208999633789062
         ]
        },
        {
         "line": {
          "color": "blue",
          "width": 2
         },
         "mode": "lines",
         "type": "scatter3d",
         "x": [
          1.6699999570846558,
          2.805000066757202
         ],
         "y": [
          15.3100004196167,
          15.178000450134277
         ],
         "z": [
          8.666999816894531,
          10.968000411987305
         ]
        },
        {
         "line": {
          "color": "blue",
          "width": 2
         },
         "mode": "lines",
         "type": "scatter3d",
         "x": [
          1.6699999570846558,
          3.9089999198913574
         ],
         "y": [
          15.3100004196167,
          16.20800018310547
         ],
         "z": [
          8.666999816894531,
          13.125
         ]
        },
        {
         "line": {
          "color": "blue",
          "width": 2
         },
         "mode": "lines",
         "type": "scatter3d",
         "x": [
          1.6699999570846558,
          0
         ],
         "y": [
          15.3100004196167,
          0
         ],
         "z": [
          8.666999816894531,
          0
         ]
        },
        {
         "line": {
          "color": "blue",
          "width": 2
         },
         "mode": "lines",
         "type": "scatter3d",
         "x": [
          1.6699999570846558,
          0
         ],
         "y": [
          15.3100004196167,
          0
         ],
         "z": [
          8.666999816894531,
          0
         ]
        },
        {
         "line": {
          "color": "blue",
          "width": 2
         },
         "mode": "lines",
         "type": "scatter3d",
         "x": [
          1.6699999570846558,
          0
         ],
         "y": [
          15.3100004196167,
          0
         ],
         "z": [
          8.666999816894531,
          0
         ]
        },
        {
         "line": {
          "color": "blue",
          "width": 2
         },
         "mode": "lines",
         "type": "scatter3d",
         "x": [
          1.6699999570846558,
          1.6100000143051147
         ],
         "y": [
          15.3100004196167,
          13.944000244140625
         ],
         "z": [
          8.666999816894531,
          8.27299976348877
         ]
        },
        {
         "line": {
          "color": "blue",
          "width": 2
         },
         "mode": "lines",
         "type": "scatter3d",
         "x": [
          1.6699999570846558,
          1.059999942779541
         ],
         "y": [
          15.3100004196167,
          16.75
         ],
         "z": [
          8.666999816894531,
          10.416999816894531
         ]
        },
        {
         "line": {
          "color": "blue",
          "width": 2
         },
         "mode": "lines",
         "type": "scatter3d",
         "x": [
          1.6699999570846558,
          2.6760001182556152
         ],
         "y": [
          15.3100004196167,
          15.831999778747559
         ],
         "z": [
          8.666999816894531,
          12.255000114440918
         ]
        },
        {
         "line": {
          "color": "blue",
          "width": 2
         },
         "mode": "lines",
         "type": "scatter3d",
         "x": [
          1.6699999570846558,
          0
         ],
         "y": [
          15.3100004196167,
          0
         ],
         "z": [
          8.666999816894531,
          0
         ]
        },
        {
         "line": {
          "color": "blue",
          "width": 2
         },
         "mode": "lines",
         "type": "scatter3d",
         "x": [
          4.822999954223633,
          3.0239999294281006
         ],
         "y": [
          14.873000144958496,
          18.069000244140625
         ],
         "z": [
          4.447000026702881,
          4.211999893188477
         ]
        },
        {
         "line": {
          "color": "blue",
          "width": 2
         },
         "mode": "lines",
         "type": "scatter3d",
         "x": [
          4.822999954223633,
          3.622999906539917
         ],
         "y": [
          14.873000144958496,
          19.31999969482422
         ],
         "z": [
          4.447000026702881,
          4.052000045776367
         ]
        },
        {
         "line": {
          "color": "blue",
          "width": 2
         },
         "mode": "lines",
         "type": "scatter3d",
         "x": [
          4.822999954223633,
          4.76800012588501
         ],
         "y": [
          14.873000144958496,
          19.375
         ],
         "z": [
          4.447000026702881,
          3.5810000896453857
         ]
        },
        {
         "line": {
          "color": "blue",
          "width": 2
         },
         "mode": "lines",
         "type": "scatter3d",
         "x": [
          4.822999954223633,
          2.937000036239624
         ],
         "y": [
          14.873000144958496,
          20.42300033569336
         ],
         "z": [
          4.447000026702881,
          4.427000045776367
         ]
        },
        {
         "line": {
          "color": "blue",
          "width": 2
         },
         "mode": "lines",
         "type": "scatter3d",
         "x": [
          4.822999954223633,
          1.7160000801086426
         ],
         "y": [
          14.873000144958496,
          20.312999725341797
         ],
         "z": [
          4.447000026702881,
          4.955999851226807
         ]
        },
        {
         "line": {
          "color": "blue",
          "width": 2
         },
         "mode": "lines",
         "type": "scatter3d",
         "x": [
          4.822999954223633,
          1.066999912261963
         ],
         "y": [
          14.873000144958496,
          21.423999786376953
         ],
         "z": [
          4.447000026702881,
          5.2769999504089355
         ]
        },
        {
         "line": {
          "color": "blue",
          "width": 2
         },
         "mode": "lines",
         "type": "scatter3d",
         "x": [
          4.822999954223633,
          1.1009998321533203
         ],
         "y": [
          14.873000144958496,
          19.042999267578125
         ],
         "z": [
          4.447000026702881,
          5.1620001792907715
         ]
        },
        {
         "line": {
          "color": "blue",
          "width": 2
         },
         "mode": "lines",
         "type": "scatter3d",
         "x": [
          4.822999954223633,
          1.7899999618530273
         ],
         "y": [
          14.873000144958496,
          17.95199966430664
         ],
         "z": [
          4.447000026702881,
          4.775000095367432
         ]
        },
        {
         "line": {
          "color": "blue",
          "width": 2
         },
         "mode": "lines",
         "type": "scatter3d",
         "x": [
          4.822999954223633,
          3.7860000133514404
         ],
         "y": [
          14.873000144958496,
          16.893999099731445
         ],
         "z": [
          4.447000026702881,
          3.815000057220459
         ]
        },
        {
         "line": {
          "color": "blue",
          "width": 2
         },
         "mode": "lines",
         "type": "scatter3d",
         "x": [
          4.822999954223633,
          4.627999782562256
         ],
         "y": [
          14.873000144958496,
          16.304000854492188
         ],
         "z": [
          4.447000026702881,
          4.956999778747559
         ]
        },
        {
         "line": {
          "color": "blue",
          "width": 2
         },
         "mode": "lines",
         "type": "scatter3d",
         "x": [
          4.822999954223633,
          4.822999954223633
         ],
         "y": [
          14.873000144958496,
          14.873000144958496
         ],
         "z": [
          4.447000026702881,
          4.447000026702881
         ]
        },
        {
         "line": {
          "color": "blue",
          "width": 2
         },
         "mode": "lines",
         "type": "scatter3d",
         "x": [
          4.822999954223633,
          3.4839999675750732
         ],
         "y": [
          14.873000144958496,
          14.567000389099121
         ],
         "z": [
          4.447000026702881,
          3.7890000343322754
         ]
        },
        {
         "line": {
          "color": "blue",
          "width": 2
         },
         "mode": "lines",
         "type": "scatter3d",
         "x": [
          4.822999954223633,
          2.553999900817871
         ],
         "y": [
          14.873000144958496,
          13.71500015258789
         ],
         "z": [
          4.447000026702881,
          4.60699987411499
         ]
        },
        {
         "line": {
          "color": "blue",
          "width": 2
         },
         "mode": "lines",
         "type": "scatter3d",
         "x": [
          4.822999954223633,
          2.7209999561309814
         ],
         "y": [
          14.873000144958496,
          13.388999938964844
         ],
         "z": [
          4.447000026702881,
          7.232999801635742
         ]
        },
        {
         "line": {
          "color": "blue",
          "width": 2
         },
         "mode": "lines",
         "type": "scatter3d",
         "x": [
          4.822999954223633,
          0
         ],
         "y": [
          14.873000144958496,
          0
         ],
         "z": [
          4.447000026702881,
          0
         ]
        },
        {
         "line": {
          "color": "blue",
          "width": 2
         },
         "mode": "lines",
         "type": "scatter3d",
         "x": [
          4.822999954223633,
          0
         ],
         "y": [
          14.873000144958496,
          0
         ],
         "z": [
          4.447000026702881,
          0
         ]
        },
        {
         "line": {
          "color": "blue",
          "width": 2
         },
         "mode": "lines",
         "type": "scatter3d",
         "x": [
          4.822999954223633,
          0
         ],
         "y": [
          14.873000144958496,
          0
         ],
         "z": [
          4.447000026702881,
          0
         ]
        },
        {
         "line": {
          "color": "blue",
          "width": 2
         },
         "mode": "lines",
         "type": "scatter3d",
         "x": [
          4.822999954223633,
          5.86299991607666
         ],
         "y": [
          14.873000144958496,
          14.897000312805176
         ],
         "z": [
          4.447000026702881,
          3.4690001010894775
         ]
        },
        {
         "line": {
          "color": "blue",
          "width": 2
         },
         "mode": "lines",
         "type": "scatter3d",
         "x": [
          4.822999954223633,
          2.86299991607666
         ],
         "y": [
          14.873000144958496,
          15.845000267028809
         ],
         "z": [
          4.447000026702881,
          3.50600004196167
         ]
        },
        {
         "line": {
          "color": "blue",
          "width": 2
         },
         "mode": "lines",
         "type": "scatter3d",
         "x": [
          4.822999954223633,
          2.3910000324249268
         ],
         "y": [
          14.873000144958496,
          14.215999603271484
         ],
         "z": [
          4.447000026702881,
          5.913000106811523
         ]
        },
        {
         "line": {
          "color": "blue",
          "width": 2
         },
         "mode": "lines",
         "type": "scatter3d",
         "x": [
          4.822999954223633,
          0
         ],
         "y": [
          14.873000144958496,
          0
         ],
         "z": [
          4.447000026702881,
          0
         ]
        },
        {
         "line": {
          "color": "blue",
          "width": 2
         },
         "mode": "lines",
         "type": "scatter3d",
         "x": [
          4.822999954223633,
          0
         ],
         "y": [
          14.873000144958496,
          0
         ],
         "z": [
          4.447000026702881,
          0
         ]
        },
        {
         "line": {
          "color": "blue",
          "width": 2
         },
         "mode": "lines",
         "type": "scatter3d",
         "x": [
          4.822999954223633,
          0
         ],
         "y": [
          14.873000144958496,
          0
         ],
         "z": [
          4.447000026702881,
          0
         ]
        },
        {
         "line": {
          "color": "blue",
          "width": 2
         },
         "mode": "lines",
         "type": "scatter3d",
         "x": [
          4.822999954223633,
          0
         ],
         "y": [
          14.873000144958496,
          0
         ],
         "z": [
          4.447000026702881,
          0
         ]
        },
        {
         "line": {
          "color": "blue",
          "width": 2
         },
         "mode": "lines",
         "type": "scatter3d",
         "x": [
          3.8970000743865967,
          1.2430000305175781
         ],
         "y": [
          11.932999610900879,
          16.53700065612793
         ],
         "z": [
          -0.7149999737739563,
          1.0260000228881836
         ]
        },
        {
         "line": {
          "color": "blue",
          "width": 2
         },
         "mode": "lines",
         "type": "scatter3d",
         "x": [
          3.8970000743865967,
          2.3289999961853027
         ],
         "y": [
          11.932999610900879,
          15.868000030517578
         ],
         "z": [
          -0.7149999737739563,
          0.5239999890327454
         ]
        },
        {
         "line": {
          "color": "blue",
          "width": 2
         },
         "mode": "lines",
         "type": "scatter3d",
         "x": [
          3.8970000743865967,
          3.3399999141693115
         ],
         "y": [
          11.932999610900879,
          16.611000061035156
         ],
         "z": [
          -0.7149999737739563,
          0.05500000715255737
         ]
        },
        {
         "line": {
          "color": "blue",
          "width": 2
         },
         "mode": "lines",
         "type": "scatter3d",
         "x": [
          3.8970000743865967,
          2.4240000247955322
         ],
         "y": [
          11.932999610900879,
          14.543000221252441
         ],
         "z": [
          -0.7149999737739563,
          0.4740000367164612
         ]
        },
        {
         "line": {
          "color": "blue",
          "width": 2
         },
         "mode": "lines",
         "type": "scatter3d",
         "x": [
          3.8970000743865967,
          1.3589999675750732
         ],
         "y": [
          11.932999610900879,
          13.939000129699707
         ],
         "z": [
          -0.7149999737739563,
          1.0360000133514404
         ]
        },
        {
         "line": {
          "color": "blue",
          "width": 2
         },
         "mode": "lines",
         "type": "scatter3d",
         "x": [
          3.8970000743865967,
          0.24000000953674316
         ],
         "y": [
          11.932999610900879,
          14.517999649047852
         ],
         "z": [
          -0.7149999737739563,
          1.5959999561309814
         ]
        },
        {
         "line": {
          "color": "blue",
          "width": 2
         },
         "mode": "lines",
         "type": "scatter3d",
         "x": [
          3.8970000743865967,
          0.1640000343322754
         ],
         "y": [
          11.932999610900879,
          15.9350004196167
         ],
         "z": [
          -0.7149999737739563,
          1.6319999694824219
         ]
        },
        {
         "line": {
          "color": "blue",
          "width": 2
         },
         "mode": "lines",
         "type": "scatter3d",
         "x": [
          3.8970000743865967,
          -0.7320001125335693
         ],
         "y": [
          11.932999610900879,
          16.639999389648438
         ],
         "z": [
          -0.7149999737739563,
          2.138000011444092
         ]
        },
        {
         "line": {
          "color": "blue",
          "width": 2
         },
         "mode": "lines",
         "type": "scatter3d",
         "x": [
          3.8970000743865967,
          -0.6070001125335693
         ],
         "y": [
          11.932999610900879,
          13.53600025177002
         ],
         "z": [
          -0.7149999737739563,
          2.1040000915527344
         ]
        },
        {
         "line": {
          "color": "blue",
          "width": 2
         },
         "mode": "lines",
         "type": "scatter3d",
         "x": [
          3.8970000743865967,
          0.002000093460083008
         ],
         "y": [
          11.932999610900879,
          12.416000366210938
         ],
         "z": [
          -0.7149999737739563,
          1.8410000801086426
         ]
        },
        {
         "line": {
          "color": "blue",
          "width": 2
         },
         "mode": "lines",
         "type": "scatter3d",
         "x": [
          3.8970000743865967,
          1.1949999332427979
         ],
         "y": [
          11.932999610900879,
          12.581999778747559
         ],
         "z": [
          -0.7149999737739563,
          1.190999984741211
         ]
        },
        {
         "line": {
          "color": "blue",
          "width": 2
         },
         "mode": "lines",
         "type": "scatter3d",
         "x": [
          3.8970000743865967,
          2.1470000743865967
         ],
         "y": [
          11.932999610900879,
          11.513999938964844
         ],
         "z": [
          -0.7149999737739563,
          0.8700000643730164
         ]
        },
        {
         "line": {
          "color": "blue",
          "width": 2
         },
         "mode": "lines",
         "type": "scatter3d",
         "x": [
          3.8970000743865967,
          2.509000062942505
         ],
         "y": [
          11.932999610900879,
          11.387999534606934
         ],
         "z": [
          -0.7149999737739563,
          -0.5920000076293945
         ]
        },
        {
         "line": {
          "color": "blue",
          "width": 2
         },
         "mode": "lines",
         "type": "scatter3d",
         "x": [
          3.8970000743865967,
          3.8970000743865967
         ],
         "y": [
          11.932999610900879,
          11.932999610900879
         ],
         "z": [
          -0.7149999737739563,
          -0.7149999737739563
         ]
        },
        {
         "line": {
          "color": "blue",
          "width": 2
         },
         "mode": "lines",
         "type": "scatter3d",
         "x": [
          3.8970000743865967,
          4.460999965667725
         ],
         "y": [
          11.932999610900879,
          11.772000312805176
         ],
         "z": [
          -0.7149999737739563,
          0.6809999346733093
         ]
        },
        {
         "line": {
          "color": "blue",
          "width": 2
         },
         "mode": "lines",
         "type": "scatter3d",
         "x": [
          3.8970000743865967,
          5.423999786376953
         ],
         "y": [
          11.932999610900879,
          12.875
         ],
         "z": [
          -0.7149999737739563,
          1.0870001316070557
         ]
        },
        {
         "line": {
          "color": "blue",
          "width": 2
         },
         "mode": "lines",
         "type": "scatter3d",
         "x": [
          3.8970000743865967,
          6.795000076293945
         ],
         "y": [
          11.932999610900879,
          13.63599967956543
         ],
         "z": [
          -0.7149999737739563,
          3.200000047683716
         ]
        },
        {
         "line": {
          "color": "blue",
          "width": 2
         },
         "mode": "lines",
         "type": "scatter3d",
         "x": [
          3.8970000743865967,
          0
         ],
         "y": [
          11.932999610900879,
          0
         ],
         "z": [
          -0.7149999737739563,
          0
         ]
        },
        {
         "line": {
          "color": "blue",
          "width": 2
         },
         "mode": "lines",
         "type": "scatter3d",
         "x": [
          3.8970000743865967,
          0
         ],
         "y": [
          11.932999610900879,
          0
         ],
         "z": [
          -0.7149999737739563,
          0
         ]
        },
        {
         "line": {
          "color": "blue",
          "width": 2
         },
         "mode": "lines",
         "type": "scatter3d",
         "x": [
          3.8970000743865967,
          0
         ],
         "y": [
          11.932999610900879,
          0
         ],
         "z": [
          -0.7149999737739563,
          0
         ]
        },
        {
         "line": {
          "color": "blue",
          "width": 2
         },
         "mode": "lines",
         "type": "scatter3d",
         "x": [
          3.8970000743865967,
          4.672999858856201
         ],
         "y": [
          11.932999610900879,
          11.22700023651123
         ],
         "z": [
          -0.7149999737739563,
          -1.6619999408721924
         ]
        },
        {
         "line": {
          "color": "blue",
          "width": 2
         },
         "mode": "lines",
         "type": "scatter3d",
         "x": [
          3.8970000743865967,
          3.3429999351501465
         ],
         "y": [
          11.932999610900879,
          11.777999877929688
         ],
         "z": [
          -0.7149999737739563,
          1.5759999752044678
         ]
        },
        {
         "line": {
          "color": "blue",
          "width": 2
         },
         "mode": "lines",
         "type": "scatter3d",
         "x": [
          3.8970000743865967,
          5.864999771118164
         ],
         "y": [
          11.932999610900879,
          12.607999801635742
         ],
         "z": [
          -0.7149999737739563,
          2.430999994277954
         ]
        },
        {
         "line": {
          "color": "blue",
          "width": 2
         },
         "mode": "lines",
         "type": "scatter3d",
         "x": [
          3.8970000743865967,
          0
         ],
         "y": [
          11.932999610900879,
          0
         ],
         "z": [
          -0.7149999737739563,
          0
         ]
        },
        {
         "line": {
          "color": "blue",
          "width": 2
         },
         "mode": "lines",
         "type": "scatter3d",
         "x": [
          5.13700008392334,
          2.6689999103546143
         ],
         "y": [
          23.31599998474121,
          21.430999755859375
         ],
         "z": [
          -1.0210000276565552,
          0.9869998693466187
         ]
        },
        {
         "line": {
          "color": "blue",
          "width": 2
         },
         "mode": "lines",
         "type": "scatter3d",
         "x": [
          5.13700008392334,
          2.5490000247955322
         ],
         "y": [
          23.31599998474121,
          20.03499984741211
         ],
         "z": [
          -1.0210000276565552,
          0.9169999361038208
         ]
        },
        {
         "line": {
          "color": "blue",
          "width": 2
         },
         "mode": "lines",
         "type": "scatter3d",
         "x": [
          5.13700008392334,
          3.513000011444092
         ],
         "y": [
          23.31599998474121,
          19.39699935913086
         ],
         "z": [
          -1.0210000276565552,
          0.45500004291534424
         ]
        },
        {
         "line": {
          "color": "blue",
          "width": 2
         },
         "mode": "lines",
         "type": "scatter3d",
         "x": [
          5.13700008392334,
          1.4219999313354492
         ],
         "y": [
          23.31599998474121,
          19.441999435424805
         ],
         "z": [
          -1.0210000276565552,
          1.343999981880188
         ]
        },
        {
         "line": {
          "color": "blue",
          "width": 2
         },
         "mode": "lines",
         "type": "scatter3d",
         "x": [
          5.13700008392334,
          0.4120001792907715
         ],
         "y": [
          23.31599998474121,
          20.197999954223633
         ],
         "z": [
          -1.0210000276565552,
          1.8170000314712524
         ]
        },
        {
         "line": {
          "color": "blue",
          "width": 2
         },
         "mode": "lines",
         "type": "scatter3d",
         "x": [
          5.13700008392334,
          -0.684999942779541
         ],
         "y": [
          23.31599998474121,
          19.57699966430664
         ],
         "z": [
          -1.0210000276565552,
          2.249000072479248
         ]
        },
        {
         "line": {
          "color": "blue",
          "width": 2
         },
         "mode": "lines",
         "type": "scatter3d",
         "x": [
          5.13700008392334,
          0.5170001983642578
         ],
         "y": [
          23.31599998474121,
          21.618999481201172
         ],
         "z": [
          -1.0210000276565552,
          1.8809999227523804
         ]
        },
        {
         "line": {
          "color": "blue",
          "width": 2
         },
         "mode": "lines",
         "type": "scatter3d",
         "x": [
          5.13700008392334,
          1.6449999809265137
         ],
         "y": [
          23.31599998474121,
          22.180999755859375
         ],
         "z": [
          -1.0210000276565552,
          1.4620000123977661
         ]
        },
        {
         "line": {
          "color": "blue",
          "width": 2
         },
         "mode": "lines",
         "type": "scatter3d",
         "x": [
          5.13700008392334,
          3.936000108718872
         ],
         "y": [
          23.31599998474121,
          22.013999938964844
         ],
         "z": [
          -1.0210000276565552,
          0.5460000038146973
         ]
        },
        {
         "line": {
          "color": "blue",
          "width": 2
         },
         "mode": "lines",
         "type": "scatter3d",
         "x": [
          5.13700008392334,
          4.044000148773193
         ],
         "y": [
          23.31599998474121,
          22.20199966430664
         ],
         "z": [
          -1.0210000276565552,
          -0.9620000123977661
         ]
        },
        {
         "line": {
          "color": "blue",
          "width": 2
         },
         "mode": "lines",
         "type": "scatter3d",
         "x": [
          5.13700008392334,
          5.13700008392334
         ],
         "y": [
          23.31599998474121,
          23.31599998474121
         ],
         "z": [
          -1.0210000276565552,
          -1.0210000276565552
         ]
        },
        {
         "line": {
          "color": "blue",
          "width": 2
         },
         "mode": "lines",
         "type": "scatter3d",
         "x": [
          5.13700008392334,
          4.809999942779541
         ],
         "y": [
          23.31599998474121,
          24.158000946044922
         ],
         "z": [
          -1.0210000276565552,
          0.19099998474121094
         ]
        },
        {
         "line": {
          "color": "blue",
          "width": 2
         },
         "mode": "lines",
         "type": "scatter3d",
         "x": [
          5.13700008392334,
          4.090000152587891
         ],
         "y": [
          23.31599998474121,
          25.457000732421875
         ],
         "z": [
          -1.0210000276565552,
          -0.06199997663497925
         ]
        },
        {
         "line": {
          "color": "blue",
          "width": 2
         },
         "mode": "lines",
         "type": "scatter3d",
         "x": [
          5.13700008392334,
          0
         ],
         "y": [
          23.31599998474121,
          0
         ],
         "z": [
          -1.0210000276565552,
          0
         ]
        },
        {
         "line": {
          "color": "blue",
          "width": 2
         },
         "mode": "lines",
         "type": "scatter3d",
         "x": [
          5.13700008392334,
          0
         ],
         "y": [
          23.31599998474121,
          0
         ],
         "z": [
          -1.0210000276565552,
          0
         ]
        },
        {
         "line": {
          "color": "blue",
          "width": 2
         },
         "mode": "lines",
         "type": "scatter3d",
         "x": [
          5.13700008392334,
          0
         ],
         "y": [
          23.31599998474121,
          0
         ],
         "z": [
          -1.0210000276565552,
          0
         ]
        },
        {
         "line": {
          "color": "blue",
          "width": 2
         },
         "mode": "lines",
         "type": "scatter3d",
         "x": [
          5.13700008392334,
          0
         ],
         "y": [
          23.31599998474121,
          0
         ],
         "z": [
          -1.0210000276565552,
          0
         ]
        },
        {
         "line": {
          "color": "blue",
          "width": 2
         },
         "mode": "lines",
         "type": "scatter3d",
         "x": [
          5.13700008392334,
          6.386000156402588
         ],
         "y": [
          23.31599998474121,
          22.6560001373291
         ],
         "z": [
          -1.0210000276565552,
          -0.8619999885559082
         ]
        },
        {
         "line": {
          "color": "blue",
          "width": 2
         },
         "mode": "lines",
         "type": "scatter3d",
         "x": [
          5.13700008392334,
          4.021999835968018
         ],
         "y": [
          23.31599998474121,
          23.329999923706055
         ],
         "z": [
          -1.0210000276565552,
          1.0750001668930054
         ]
        },
        {
         "line": {
          "color": "blue",
          "width": 2
         },
         "mode": "lines",
         "type": "scatter3d",
         "x": [
          5.13700008392334,
          2.933000087738037
         ],
         "y": [
          23.31599998474121,
          25.259000778198242
         ],
         "z": [
          -1.0210000276565552,
          -0.8619999885559082
         ]
        },
        {
         "line": {
          "color": "blue",
          "width": 2
         },
         "mode": "lines",
         "type": "scatter3d",
         "x": [
          5.13700008392334,
          0
         ],
         "y": [
          23.31599998474121,
          0
         ],
         "z": [
          -1.0210000276565552,
          0
         ]
        },
        {
         "line": {
          "color": "blue",
          "width": 2
         },
         "mode": "lines",
         "type": "scatter3d",
         "x": [
          5.13700008392334,
          0
         ],
         "y": [
          23.31599998474121,
          0
         ],
         "z": [
          -1.0210000276565552,
          0
         ]
        },
        {
         "line": {
          "color": "blue",
          "width": 2
         },
         "mode": "lines",
         "type": "scatter3d",
         "x": [
          5.13700008392334,
          0
         ],
         "y": [
          23.31599998474121,
          0
         ],
         "z": [
          -1.0210000276565552,
          0
         ]
        },
        {
         "line": {
          "color": "blue",
          "width": 2
         },
         "mode": "lines",
         "type": "scatter3d",
         "x": [
          5.13700008392334,
          0
         ],
         "y": [
          23.31599998474121,
          0
         ],
         "z": [
          -1.0210000276565552,
          0
         ]
        },
        {
         "line": {
          "color": "blue",
          "width": 2
         },
         "mode": "lines",
         "type": "scatter3d",
         "x": [
          9.104000091552734,
          4.355999946594238
         ],
         "y": [
          25.881000518798828,
          22.97599983215332
         ],
         "z": [
          2.628000020980835,
          4.080999851226807
         ]
        },
        {
         "line": {
          "color": "blue",
          "width": 2
         },
         "mode": "lines",
         "type": "scatter3d",
         "x": [
          9.104000091552734,
          5.622000217437744
         ],
         "y": [
          25.881000518798828,
          23.02199935913086
         ],
         "z": [
          2.628000020980835,
          3.5789999961853027
         ]
        },
        {
         "line": {
          "color": "blue",
          "width": 2
         },
         "mode": "lines",
         "type": "scatter3d",
         "x": [
          9.104000091552734,
          6.236999988555908
         ],
         "y": [
          25.881000518798828,
          21.832000732421875
         ],
         "z": [
          2.628000020980835,
          3.3980000019073486
         ]
        },
        {
         "line": {
          "color": "blue",
          "width": 2
         },
         "mode": "lines",
         "type": "scatter3d",
         "x": [
          9.104000091552734,
          6.271999835968018
         ],
         "y": [
          25.881000518798828,
          24.135000228881836
         ],
         "z": [
          2.628000020980835,
          3.2720000743865967
         ]
        },
        {
         "line": {
          "color": "blue",
          "width": 2
         },
         "mode": "lines",
         "type": "scatter3d",
         "x": [
          9.104000091552734,
          5.517000198364258
         ],
         "y": [
          25.881000518798828,
          25.238000869750977
         ],
         "z": [
          2.628000020980835,
          3.4830000400543213
         ]
        },
        {
         "line": {
          "color": "blue",
          "width": 2
         },
         "mode": "lines",
         "type": "scatter3d",
         "x": [
          9.104000091552734,
          4.2220001220703125
         ],
         "y": [
          25.881000518798828,
          25.29199981689453
         ],
         "z": [
          2.628000020980835,
          3.9649999141693115
         ]
        },
        {
         "line": {
          "color": "blue",
          "width": 2
         },
         "mode": "lines",
         "type": "scatter3d",
         "x": [
          9.104000091552734,
          3.552000045776367
         ],
         "y": [
          25.881000518798828,
          24.07900047302246
         ],
         "z": [
          2.628000020980835,
          4.269000053405762
         ]
        },
        {
         "line": {
          "color": "blue",
          "width": 2
         },
         "mode": "lines",
         "type": "scatter3d",
         "x": [
          9.104000091552734,
          2.371000289916992
         ],
         "y": [
          25.881000518798828,
          23.944000244140625
         ],
         "z": [
          2.628000020980835,
          4.672999858856201
         ]
        },
        {
         "line": {
          "color": "blue",
          "width": 2
         },
         "mode": "lines",
         "type": "scatter3d",
         "x": [
          9.104000091552734,
          3.75600004196167
         ],
         "y": [
          25.881000518798828,
          26.604000091552734
         ],
         "z": [
          2.628000020980835,
          4.002999782562256
         ]
        },
        {
         "line": {
          "color": "blue",
          "width": 2
         },
         "mode": "lines",
         "type": "scatter3d",
         "x": [
          9.104000091552734,
          4.760000228881836
         ],
         "y": [
          25.881000518798828,
          27.30299949645996
         ],
         "z": [
          2.628000020980835,
          3.555000066757202
         ]
        },
        {
         "line": {
          "color": "blue",
          "width": 2
         },
         "mode": "lines",
         "type": "scatter3d",
         "x": [
          9.104000091552734,
          5.869999885559082
         ],
         "y": [
          25.881000518798828,
          26.540000915527344
         ],
         "z": [
          2.628000020980835,
          3.239000082015991
         ]
        },
        {
         "line": {
          "color": "blue",
          "width": 2
         },
         "mode": "lines",
         "type": "scatter3d",
         "x": [
          9.104000091552734,
          7.066999912261963
         ],
         "y": [
          25.881000518798828,
          27.065000534057617
         ],
         "z": [
          2.628000020980835,
          2.6080000400543213
         ]
        },
        {
         "line": {
          "color": "blue",
          "width": 2
         },
         "mode": "lines",
         "type": "scatter3d",
         "x": [
          9.104000091552734,
          8.347999572753906
         ],
         "y": [
          25.881000518798828,
          26.927000045776367
         ],
         "z": [
          2.628000020980835,
          3.3299999237060547
         ]
        },
        {
         "line": {
          "color": "blue",
          "width": 2
         },
         "mode": "lines",
         "type": "scatter3d",
         "x": [
          9.104000091552734,
          9.104000091552734
         ],
         "y": [
          25.881000518798828,
          25.881000518798828
         ],
         "z": [
          2.628000020980835,
          2.628000020980835
         ]
        },
        {
         "line": {
          "color": "blue",
          "width": 2
         },
         "mode": "lines",
         "type": "scatter3d",
         "x": [
          9.104000091552734,
          8.496000289916992
         ],
         "y": [
          25.881000518798828,
          25.86199951171875
         ],
         "z": [
          2.628000020980835,
          1.2089999914169312
         ]
        },
        {
         "line": {
          "color": "blue",
          "width": 2
         },
         "mode": "lines",
         "type": "scatter3d",
         "x": [
          9.104000091552734,
          8.461999893188477
         ],
         "y": [
          25.881000518798828,
          24.485000610351562
         ],
         "z": [
          2.628000020980835,
          0.6080000400543213
         ]
        },
        {
         "line": {
          "color": "blue",
          "width": 2
         },
         "mode": "lines",
         "type": "scatter3d",
         "x": [
          9.104000091552734,
          7.735000133514404
         ],
         "y": [
          25.881000518798828,
          23.19300079345703
         ],
         "z": [
          2.628000020980835,
          -1.5059998035430908
         ]
        },
        {
         "line": {
          "color": "blue",
          "width": 2
         },
         "mode": "lines",
         "type": "scatter3d",
         "x": [
          9.104000091552734,
          0
         ],
         "y": [
          25.881000518798828,
          0
         ],
         "z": [
          2.628000020980835,
          0
         ]
        },
        {
         "line": {
          "color": "blue",
          "width": 2
         },
         "mode": "lines",
         "type": "scatter3d",
         "x": [
          9.104000091552734,
          0
         ],
         "y": [
          25.881000518798828,
          0
         ],
         "z": [
          2.628000020980835,
          0
         ]
        },
        {
         "line": {
          "color": "blue",
          "width": 2
         },
         "mode": "lines",
         "type": "scatter3d",
         "x": [
          9.104000091552734,
          0
         ],
         "y": [
          25.881000518798828,
          0
         ],
         "z": [
          2.628000020980835,
          0
         ]
        },
        {
         "line": {
          "color": "blue",
          "width": 2
         },
         "mode": "lines",
         "type": "scatter3d",
         "x": [
          9.104000091552734,
          10.508999824523926
         ],
         "y": [
          25.881000518798828,
          26.131999969482422
         ],
         "z": [
          2.628000020980835,
          2.510999917984009
         ]
        },
        {
         "line": {
          "color": "blue",
          "width": 2
         },
         "mode": "lines",
         "type": "scatter3d",
         "x": [
          9.104000091552734,
          7.203000068664551
         ],
         "y": [
          25.881000518798828,
          26.426000595092773
         ],
         "z": [
          2.628000020980835,
          1.3259999752044678
         ]
        },
        {
         "line": {
          "color": "blue",
          "width": 2
         },
         "mode": "lines",
         "type": "scatter3d",
         "x": [
          9.104000091552734,
          8.062999725341797
         ],
         "y": [
          25.881000518798828,
          24.56599998474121
         ],
         "z": [
          2.628000020980835,
          -0.7720000743865967
         ]
        },
        {
         "line": {
          "color": "blue",
          "width": 2
         },
         "mode": "lines",
         "type": "scatter3d",
         "x": [
          9.104000091552734,
          0
         ],
         "y": [
          25.881000518798828,
          0
         ],
         "z": [
          2.628000020980835,
          0
         ]
        },
        {
         "line": {
          "color": "blue",
          "width": 2
         },
         "mode": "lines",
         "type": "scatter3d",
         "x": [
          11.050000190734863,
          8.098999977111816
         ],
         "y": [
          21.472999572753906,
          22.51300048828125
         ],
         "z": [
          4.441999912261963,
          6.401000022888184
         ]
        },
        {
         "line": {
          "color": "blue",
          "width": 2
         },
         "mode": "lines",
         "type": "scatter3d",
         "x": [
          11.050000190734863,
          6.980000019073486
         ],
         "y": [
          21.472999572753906,
          21.768999099731445
         ],
         "z": [
          4.441999912261963,
          6.76800012588501
         ]
        },
        {
         "line": {
          "color": "blue",
          "width": 2
         },
         "mode": "lines",
         "type": "scatter3d",
         "x": [
          11.050000190734863,
          7.089000225067139
         ],
         "y": [
          21.472999572753906,
          20.507999420166016
         ],
         "z": [
          4.441999912261963,
          6.763999938964844
         ]
        },
        {
         "line": {
          "color": "blue",
          "width": 2
         },
         "mode": "lines",
         "type": "scatter3d",
         "x": [
          11.050000190734863,
          5.830999851226807
         ],
         "y": [
          21.472999572753906,
          22.38800048828125
         ],
         "z": [
          4.441999912261963,
          7.0929999351501465
         ]
        },
        {
         "line": {
          "color": "blue",
          "width": 2
         },
         "mode": "lines",
         "type": "scatter3d",
         "x": [
          11.050000190734863,
          5.744999885559082
         ],
         "y": [
          21.472999572753906,
          23.735000610351562
         ],
         "z": [
          4.441999912261963,
          7.044000148773193
         ]
        },
        {
         "line": {
          "color": "blue",
          "width": 2
         },
         "mode": "lines",
         "type": "scatter3d",
         "x": [
          11.050000190734863,
          4.605000019073486
         ],
         "y": [
          21.472999572753906,
          24.304000854492188
         ],
         "z": [
          4.441999912261963,
          7.364999771118164
         ]
        },
        {
         "line": {
          "color": "blue",
          "width": 2
         },
         "mode": "lines",
         "type": "scatter3d",
         "x": [
          11.050000190734863,
          6.866000175476074
         ],
         "y": [
          21.472999572753906,
          24.534000396728516
         ],
         "z": [
          4.441999912261963,
          6.640999794006348
         ]
        },
        {
         "line": {
          "color": "blue",
          "width": 2
         },
         "mode": "lines",
         "type": "scatter3d",
         "x": [
          11.050000190734863,
          7.982999801635742
         ],
         "y": [
          21.472999572753906,
          23.88800048828125
         ],
         "z": [
          4.441999912261963,
          6.333000183105469
         ]
        },
        {
         "line": {
          "color": "blue",
          "width": 2
         },
         "mode": "lines",
         "type": "scatter3d",
         "x": [
          11.050000190734863,
          9.319000244140625
         ],
         "y": [
          21.472999572753906,
          21.823999404907227
         ],
         "z": [
          4.441999912261963,
          6.0329999923706055
         ]
        },
        {
         "line": {
          "color": "blue",
          "width": 2
         },
         "mode": "lines",
         "type": "scatter3d",
         "x": [
          11.050000190734863,
          9.527000427246094
         ],
         "y": [
          21.472999572753906,
          21.617000579833984
         ],
         "z": [
          4.441999912261963,
          4.5370001792907715
         ]
        },
        {
         "line": {
          "color": "blue",
          "width": 2
         },
         "mode": "lines",
         "type": "scatter3d",
         "x": [
          11.050000190734863,
          11.050000190734863
         ],
         "y": [
          21.472999572753906,
          21.472999572753906
         ],
         "z": [
          4.441999912261963,
          4.441999912261963
         ]
        },
        {
         "line": {
          "color": "blue",
          "width": 2
         },
         "mode": "lines",
         "type": "scatter3d",
         "x": [
          11.050000190734863,
          11.538999557495117
         ],
         "y": [
          21.472999572753906,
          22.409000396728516
         ],
         "z": [
          4.441999912261963,
          5.533999919891357
         ]
        },
        {
         "line": {
          "color": "blue",
          "width": 2
         },
         "mode": "lines",
         "type": "scatter3d",
         "x": [
          11.050000190734863,
          12.111000061035156
         ],
         "y": [
          21.472999572753906,
          23.711999893188477
         ],
         "z": [
          4.441999912261963,
          5.0879998207092285
         ]
        },
        {
         "line": {
          "color": "blue",
          "width": 2
         },
         "mode": "lines",
         "type": "scatter3d",
         "x": [
          11.050000190734863,
          11.46399974822998
         ],
         "y": [
          21.472999572753906,
          25.910999298095703
         ],
         "z": [
          4.441999912261963,
          3.7769999504089355
         ]
        },
        {
         "line": {
          "color": "blue",
          "width": 2
         },
         "mode": "lines",
         "type": "scatter3d",
         "x": [
          11.050000190734863,
          0
         ],
         "y": [
          21.472999572753906,
          0
         ],
         "z": [
          4.441999912261963,
          0
         ]
        },
        {
         "line": {
          "color": "blue",
          "width": 2
         },
         "mode": "lines",
         "type": "scatter3d",
         "x": [
          11.050000190734863,
          0
         ],
         "y": [
          21.472999572753906,
          0
         ],
         "z": [
          4.441999912261963,
          0
         ]
        },
        {
         "line": {
          "color": "blue",
          "width": 2
         },
         "mode": "lines",
         "type": "scatter3d",
         "x": [
          11.050000190734863,
          0
         ],
         "y": [
          21.472999572753906,
          0
         ],
         "z": [
          4.441999912261963,
          0
         ]
        },
        {
         "line": {
          "color": "blue",
          "width": 2
         },
         "mode": "lines",
         "type": "scatter3d",
         "x": [
          11.050000190734863,
          11.40999984741211
         ],
         "y": [
          21.472999572753906,
          20.1299991607666
         ],
         "z": [
          4.441999912261963,
          4.7270002365112305
         ]
        },
        {
         "line": {
          "color": "blue",
          "width": 2
         },
         "mode": "lines",
         "type": "scatter3d",
         "x": [
          11.050000190734863,
          10.435999870300293
         ],
         "y": [
          21.472999572753906,
          22.618000030517578
         ],
         "z": [
          4.441999912261963,
          6.431000232696533
         ]
        },
        {
         "line": {
          "color": "blue",
          "width": 2
         },
         "mode": "lines",
         "type": "scatter3d",
         "x": [
          11.050000190734863,
          11.208999633789062
         ],
         "y": [
          21.472999572753906,
          24.40999984741211
         ],
         "z": [
          4.441999912261963,
          4.2270002365112305
         ]
        },
        {
         "line": {
          "color": "blue",
          "width": 2
         },
         "mode": "lines",
         "type": "scatter3d",
         "x": [
          11.050000190734863,
          0
         ],
         "y": [
          21.472999572753906,
          0
         ],
         "z": [
          4.441999912261963,
          0
         ]
        },
        {
         "line": {
          "color": "blue",
          "width": 2
         },
         "mode": "lines",
         "type": "scatter3d",
         "x": [
          11.050000190734863,
          0
         ],
         "y": [
          21.472999572753906,
          0
         ],
         "z": [
          4.441999912261963,
          0
         ]
        },
        {
         "line": {
          "color": "blue",
          "width": 2
         },
         "mode": "lines",
         "type": "scatter3d",
         "x": [
          11.050000190734863,
          0
         ],
         "y": [
          21.472999572753906,
          0
         ],
         "z": [
          4.441999912261963,
          0
         ]
        },
        {
         "line": {
          "color": "blue",
          "width": 2
         },
         "mode": "lines",
         "type": "scatter3d",
         "x": [
          11.050000190734863,
          0
         ],
         "y": [
          21.472999572753906,
          0
         ],
         "z": [
          4.441999912261963,
          0
         ]
        },
        {
         "line": {
          "color": "blue",
          "width": 2
         },
         "mode": "lines",
         "type": "scatter3d",
         "x": [
          15.13599967956543,
          10.416000366210938
         ],
         "y": [
          20.033000946044922,
          22.900999069213867
         ],
         "z": [
          8.494999885559082,
          9.380000114440918
         ]
        },
        {
         "line": {
          "color": "blue",
          "width": 2
         },
         "mode": "lines",
         "type": "scatter3d",
         "x": [
          15.13599967956543,
          11.152000427246094
         ],
         "y": [
          20.033000946044922,
          21.75200080871582
         ],
         "z": [
          8.494999885559082,
          9.258000373840332
         ]
        },
        {
         "line": {
          "color": "blue",
          "width": 2
         },
         "mode": "lines",
         "type": "scatter3d",
         "x": [
          15.13599967956543,
          10.501999855041504
         ],
         "y": [
          20.033000946044922,
          20.61199951171875
         ],
         "z": [
          8.494999885559082,
          9.52400016784668
         ]
        },
        {
         "line": {
          "color": "blue",
          "width": 2
         },
         "mode": "lines",
         "type": "scatter3d",
         "x": [
          15.13599967956543,
          12.42300033569336
         ],
         "y": [
          20.033000946044922,
          21.7189998626709
         ],
         "z": [
          8.494999885559082,
          8.901000022888184
         ]
        },
        {
         "line": {
          "color": "blue",
          "width": 2
         },
         "mode": "lines",
         "type": "scatter3d",
         "x": [
          15.13599967956543,
          12.92300033569336
         ],
         "y": [
          20.033000946044922,
          22.94499969482422
         ],
         "z": [
          8.494999885559082,
          8.62600040435791
         ]
        },
        {
         "line": {
          "color": "blue",
          "width": 2
         },
         "mode": "lines",
         "type": "scatter3d",
         "x": [
          15.13599967956543,
          12.26200008392334
         ],
         "y": [
          20.033000946044922,
          24.167999267578125
         ],
         "z": [
          8.494999885559082,
          8.722999572753906
         ]
        },
        {
         "line": {
          "color": "blue",
          "width": 2
         },
         "mode": "lines",
         "type": "scatter3d",
         "x": [
          15.13599967956543,
          10.904999732971191
         ],
         "y": [
          20.033000946044922,
          24.177000045776367
         ],
         "z": [
          8.494999885559082,
          9.086000442504883
         ]
        },
        {
         "line": {
          "color": "blue",
          "width": 2
         },
         "mode": "lines",
         "type": "scatter3d",
         "x": [
          15.13599967956543,
          10.145999908447266
         ],
         "y": [
          20.033000946044922,
          25.155000686645508
         ],
         "z": [
          8.494999885559082,
          9.182000160217285
         ]
        },
        {
         "line": {
          "color": "blue",
          "width": 2
         },
         "mode": "lines",
         "type": "scatter3d",
         "x": [
          15.13599967956543,
          13.111000061035156
         ],
         "y": [
          20.033000946044922,
          25.20800018310547
         ],
         "z": [
          8.494999885559082,
          8.34000015258789
         ]
        },
        {
         "line": {
          "color": "blue",
          "width": 2
         },
         "mode": "lines",
         "type": "scatter3d",
         "x": [
          15.13599967956543,
          14.222999572753906
         ],
         "y": [
          20.033000946044922,
          24.62299919128418
         ],
         "z": [
          8.494999885559082,
          8.043999671936035
         ]
        },
        {
         "line": {
          "color": "blue",
          "width": 2
         },
         "mode": "lines",
         "type": "scatter3d",
         "x": [
          15.13599967956543,
          14.170999526977539
         ],
         "y": [
          20.033000946044922,
          23.270999908447266
         ],
         "z": [
          8.494999885559082,
          8.237000465393066
         ]
        },
        {
         "line": {
          "color": "blue",
          "width": 2
         },
         "mode": "lines",
         "type": "scatter3d",
         "x": [
          15.13599967956543,
          15.27299976348877
         ],
         "y": [
          20.033000946044922,
          22.336999893188477
         ],
         "z": [
          8.494999885559082,
          7.926000118255615
         ]
        },
        {
         "line": {
          "color": "blue",
          "width": 2
         },
         "mode": "lines",
         "type": "scatter3d",
         "x": [
          15.13599967956543,
          15.593999862670898
         ],
         "y": [
          20.033000946044922,
          21.363000869750977
         ],
         "z": [
          8.494999885559082,
          9
         ]
        },
        {
         "line": {
          "color": "blue",
          "width": 2
         },
         "mode": "lines",
         "type": "scatter3d",
         "x": [
          15.13599967956543,
          15.13599967956543
         ],
         "y": [
          20.033000946044922,
          20.033000946044922
         ],
         "z": [
          8.494999885559082,
          8.494999885559082
         ]
        },
        {
         "line": {
          "color": "blue",
          "width": 2
         },
         "mode": "lines",
         "type": "scatter3d",
         "x": [
          15.13599967956543,
          15.062999725341797
         ],
         "y": [
          20.033000946044922,
          20.197999954223633
         ],
         "z": [
          8.494999885559082,
          6.993000030517578
         ]
        },
        {
         "line": {
          "color": "blue",
          "width": 2
         },
         "mode": "lines",
         "type": "scatter3d",
         "x": [
          15.13599967956543,
          13.9350004196167
         ],
         "y": [
          20.033000946044922,
          19.44700050354004
         ],
         "z": [
          8.494999885559082,
          6.307000160217285
         ]
        },
        {
         "line": {
          "color": "blue",
          "width": 2
         },
         "mode": "lines",
         "type": "scatter3d",
         "x": [
          15.13599967956543,
          12.63700008392334
         ],
         "y": [
          20.033000946044922,
          19.392000198364258
         ],
         "z": [
          8.494999885559082,
          4.015999794006348
         ]
        },
        {
         "line": {
          "color": "blue",
          "width": 2
         },
         "mode": "lines",
         "type": "scatter3d",
         "x": [
          15.13599967956543,
          0
         ],
         "y": [
          20.033000946044922,
          0
         ],
         "z": [
          8.494999885559082,
          0
         ]
        },
        {
         "line": {
          "color": "blue",
          "width": 2
         },
         "mode": "lines",
         "type": "scatter3d",
         "x": [
          15.13599967956543,
          0
         ],
         "y": [
          20.033000946044922,
          0
         ],
         "z": [
          8.494999885559082,
          0
         ]
        },
        {
         "line": {
          "color": "blue",
          "width": 2
         },
         "mode": "lines",
         "type": "scatter3d",
         "x": [
          15.13599967956543,
          0
         ],
         "y": [
          20.033000946044922,
          0
         ],
         "z": [
          8.494999885559082,
          0
         ]
        },
        {
         "line": {
          "color": "blue",
          "width": 2
         },
         "mode": "lines",
         "type": "scatter3d",
         "x": [
          15.13599967956543,
          16.066999435424805
         ],
         "y": [
          20.033000946044922,
          18.98200035095215
         ],
         "z": [
          8.494999885559082,
          8.833000183105469
         ]
        },
        {
         "line": {
          "color": "blue",
          "width": 2
         },
         "mode": "lines",
         "type": "scatter3d",
         "x": [
          15.13599967956543,
          14.920999526977539
         ],
         "y": [
          20.033000946044922,
          21.604999542236328
         ],
         "z": [
          8.494999885559082,
          6.755000114440918
         ]
        },
        {
         "line": {
          "color": "blue",
          "width": 2
         },
         "mode": "lines",
         "type": "scatter3d",
         "x": [
          15.13599967956543,
          13.892999649047852
         ],
         "y": [
          20.033000946044922,
          19.843000411987305
         ],
         "z": [
          8.494999885559082,
          4.915999889373779
         ]
        },
        {
         "line": {
          "color": "blue",
          "width": 2
         },
         "mode": "lines",
         "type": "scatter3d",
         "x": [
          15.13599967956543,
          0
         ],
         "y": [
          20.033000946044922,
          0
         ],
         "z": [
          8.494999885559082,
          0
         ]
        },
        {
         "line": {
          "color": "blue",
          "width": 2
         },
         "mode": "lines",
         "type": "scatter3d",
         "x": [
          12.902000427246094,
          12.53600025177002
         ],
         "y": [
          17.566999435424805,
          21.233999252319336
         ],
         "z": [
          12.729000091552734,
          12.98900032043457
         ]
        },
        {
         "line": {
          "color": "blue",
          "width": 2
         },
         "mode": "lines",
         "type": "scatter3d",
         "x": [
          12.902000427246094,
          11.269000053405762
         ],
         "y": [
          17.566999435424805,
          21.827999114990234
         ],
         "z": [
          12.729000091552734,
          13.159000396728516
         ]
        },
        {
         "line": {
          "color": "blue",
          "width": 2
         },
         "mode": "lines",
         "type": "scatter3d",
         "x": [
          12.902000427246094,
          10.36299991607666
         ],
         "y": [
          17.566999435424805,
          21.11199951171875
         ],
         "z": [
          12.729000091552734,
          13.619999885559082
         ]
        },
        {
         "line": {
          "color": "blue",
          "width": 2
         },
         "mode": "lines",
         "type": "scatter3d",
         "x": [
          12.902000427246094,
          11.100000381469727
         ],
         "y": [
          17.566999435424805,
          23.110000610351562
         ],
         "z": [
          12.729000091552734,
          12.854000091552734
         ]
        },
        {
         "line": {
          "color": "blue",
          "width": 2
         },
         "mode": "lines",
         "type": "scatter3d",
         "x": [
          12.902000427246094,
          12.130000114440918
         ],
         "y": [
          17.566999435424805,
          23.819000244140625
         ],
         "z": [
          12.729000091552734,
          12.355999946594238
         ]
        },
        {
         "line": {
          "color": "blue",
          "width": 2
         },
         "mode": "lines",
         "type": "scatter3d",
         "x": [
          12.902000427246094,
          11.909000396728516
         ],
         "y": [
          17.566999435424805,
          25.094999313354492
         ],
         "z": [
          12.729000091552734,
          12.086999893188477
         ]
        },
        {
         "line": {
          "color": "blue",
          "width": 2
         },
         "mode": "lines",
         "type": "scatter3d",
         "x": [
          12.902000427246094,
          13.414999961853027
         ],
         "y": [
          17.566999435424805,
          23.225000381469727
         ],
         "z": [
          12.729000091552734,
          12.156999588012695
         ]
        },
        {
         "line": {
          "color": "blue",
          "width": 2
         },
         "mode": "lines",
         "type": "scatter3d",
         "x": [
          12.902000427246094,
          13.553999900817871
         ],
         "y": [
          17.566999435424805,
          21.94499969482422
         ],
         "z": [
          12.729000091552734,
          12.479000091552734
         ]
        },
        {
         "line": {
          "color": "blue",
          "width": 2
         },
         "mode": "lines",
         "type": "scatter3d",
         "x": [
          12.902000427246094,
          12.675000190734863
         ],
         "y": [
          17.566999435424805,
          19.83300018310547
         ],
         "z": [
          12.729000091552734,
          13.315999984741211
         ]
        },
        {
         "line": {
          "color": "blue",
          "width": 2
         },
         "mode": "lines",
         "type": "scatter3d",
         "x": [
          12.902000427246094,
          12.208000183105469
         ],
         "y": [
          17.566999435424805,
          18.85300064086914
         ],
         "z": [
          12.729000091552734,
          12.23900032043457
         ]
        },
        {
         "line": {
          "color": "blue",
          "width": 2
         },
         "mode": "lines",
         "type": "scatter3d",
         "x": [
          12.902000427246094,
          12.902000427246094
         ],
         "y": [
          17.566999435424805,
          17.566999435424805
         ],
         "z": [
          12.729000091552734,
          12.729000091552734
         ]
        },
        {
         "line": {
          "color": "blue",
          "width": 2
         },
         "mode": "lines",
         "type": "scatter3d",
         "x": [
          12.902000427246094,
          14.22599983215332
         ],
         "y": [
          17.566999435424805,
          18.08300018310547
         ],
         "z": [
          12.729000091552734,
          13.274999618530273
         ]
        },
        {
         "line": {
          "color": "blue",
          "width": 2
         },
         "mode": "lines",
         "type": "scatter3d",
         "x": [
          12.902000427246094,
          15.402999877929688
         ],
         "y": [
          17.566999435424805,
          17.884000778198242
         ],
         "z": [
          12.729000091552734,
          12.338000297546387
         ]
        },
        {
         "line": {
          "color": "blue",
          "width": 2
         },
         "mode": "lines",
         "type": "scatter3d",
         "x": [
          12.902000427246094,
          15.559000015258789
         ],
         "y": [
          17.566999435424805,
          17.732999801635742
         ],
         "z": [
          12.729000091552734,
          9.697999954223633
         ]
        },
        {
         "line": {
          "color": "blue",
          "width": 2
         },
         "mode": "lines",
         "type": "scatter3d",
         "x": [
          12.902000427246094,
          0
         ],
         "y": [
          17.566999435424805,
          0
         ],
         "z": [
          12.729000091552734,
          0
         ]
        },
        {
         "line": {
          "color": "blue",
          "width": 2
         },
         "mode": "lines",
         "type": "scatter3d",
         "x": [
          12.902000427246094,
          0
         ],
         "y": [
          17.566999435424805,
          0
         ],
         "z": [
          12.729000091552734,
          0
         ]
        },
        {
         "line": {
          "color": "blue",
          "width": 2
         },
         "mode": "lines",
         "type": "scatter3d",
         "x": [
          12.902000427246094,
          0
         ],
         "y": [
          17.566999435424805,
          0
         ],
         "z": [
          12.729000091552734,
          0
         ]
        },
        {
         "line": {
          "color": "blue",
          "width": 2
         },
         "mode": "lines",
         "type": "scatter3d",
         "x": [
          12.902000427246094,
          12.11299991607666
         ],
         "y": [
          17.566999435424805,
          17.02899932861328
         ],
         "z": [
          12.729000091552734,
          13.803000450134277
         ]
        },
        {
         "line": {
          "color": "blue",
          "width": 2
         },
         "mode": "lines",
         "type": "scatter3d",
         "x": [
          12.902000427246094,
          14.050999641418457
         ],
         "y": [
          17.566999435424805,
          19.51300048828125
         ],
         "z": [
          12.729000091552734,
          13.498000144958496
         ]
        },
        {
         "line": {
          "color": "blue",
          "width": 2
         },
         "mode": "lines",
         "type": "scatter3d",
         "x": [
          12.902000427246094,
          15.10099983215332
         ],
         "y": [
          17.566999435424805,
          18.402000427246094
         ],
         "z": [
          12.729000091552734,
          11.053999900817871
         ]
        },
        {
         "line": {
          "color": "blue",
          "width": 2
         },
         "mode": "lines",
         "type": "scatter3d",
         "x": [
          12.902000427246094,
          0
         ],
         "y": [
          17.566999435424805,
          0
         ],
         "z": [
          12.729000091552734,
          0
         ]
        },
        {
         "line": {
          "color": "blue",
          "width": 2
         },
         "mode": "lines",
         "type": "scatter3d",
         "x": [
          12.902000427246094,
          0
         ],
         "y": [
          17.566999435424805,
          0
         ],
         "z": [
          12.729000091552734,
          0
         ]
        },
        {
         "line": {
          "color": "blue",
          "width": 2
         },
         "mode": "lines",
         "type": "scatter3d",
         "x": [
          12.902000427246094,
          0
         ],
         "y": [
          17.566999435424805,
          0
         ],
         "z": [
          12.729000091552734,
          0
         ]
        },
        {
         "line": {
          "color": "blue",
          "width": 2
         },
         "mode": "lines",
         "type": "scatter3d",
         "x": [
          12.902000427246094,
          0
         ],
         "y": [
          17.566999435424805,
          0
         ],
         "z": [
          12.729000091552734,
          0
         ]
        },
        {
         "line": {
          "color": "blue",
          "width": 2
         },
         "mode": "lines",
         "type": "scatter3d",
         "x": [
          16.097999572753906,
          14.793000221252441
         ],
         "y": [
          14.447999954223633,
          20.785999298095703
         ],
         "z": [
          16.93899917602539,
          16.143999099731445
         ]
        },
        {
         "line": {
          "color": "blue",
          "width": 2
         },
         "mode": "lines",
         "type": "scatter3d",
         "x": [
          16.097999572753906,
          14.34000015258789
         ],
         "y": [
          14.447999954223633,
          19.554000854492188
         ],
         "z": [
          16.93899917602539,
          16.542999267578125
         ]
        },
        {
         "line": {
          "color": "blue",
          "width": 2
         },
         "mode": "lines",
         "type": "scatter3d",
         "x": [
          16.097999572753906,
          13.098999977111816
         ],
         "y": [
          14.447999954223633,
          19.52899932861328
         ],
         "z": [
          16.93899917602539,
          17.04400062561035
         ]
        },
        {
         "line": {
          "color": "blue",
          "width": 2
         },
         "mode": "lines",
         "type": "scatter3d",
         "x": [
          16.097999572753906,
          15.045000076293945
         ],
         "y": [
          14.447999954223633,
          18.441999435424805
         ],
         "z": [
          16.93899917602539,
          16.461000442504883
         ]
        },
        {
         "line": {
          "color": "blue",
          "width": 2
         },
         "mode": "lines",
         "type": "scatter3d",
         "x": [
          16.097999572753906,
          16.26300048828125
         ],
         "y": [
          14.447999954223633,
          18.634000778198242
         ],
         "z": [
          16.93899917602539,
          15.895000457763672
         ]
        },
        {
         "line": {
          "color": "blue",
          "width": 2
         },
         "mode": "lines",
         "type": "scatter3d",
         "x": [
          16.097999572753906,
          16.799999237060547
         ],
         "y": [
          14.447999954223633,
          19.836000442504883
         ],
         "z": [
          16.93899917602539,
          15.456000328063965
         ]
        },
        {
         "line": {
          "color": "blue",
          "width": 2
         },
         "mode": "lines",
         "type": "scatter3d",
         "x": [
          16.097999572753906,
          16.020999908447266
         ],
         "y": [
          14.447999954223633,
          21.013999938964844
         ],
         "z": [
          16.93899917602539,
          15.541999816894531
         ]
        },
        {
         "line": {
          "color": "blue",
          "width": 2
         },
         "mode": "lines",
         "type": "scatter3d",
         "x": [
          16.097999572753906,
          16.326000213623047
         ],
         "y": [
          14.447999954223633,
          22.16900062561035
         ],
         "z": [
          16.93899917602539,
          15.204999923706055
         ]
        },
        {
         "line": {
          "color": "blue",
          "width": 2
         },
         "mode": "lines",
         "type": "scatter3d",
         "x": [
          16.097999572753906,
          18.038000106811523
         ],
         "y": [
          14.447999954223633,
          19.62299919128418
         ],
         "z": [
          16.93899917602539,
          14.881999969482422
         ]
        },
        {
         "line": {
          "color": "blue",
          "width": 2
         },
         "mode": "lines",
         "type": "scatter3d",
         "x": [
          16.097999572753906,
          18.26799964904785
         ],
         "y": [
          14.447999954223633,
          18.357999801635742
         ],
         "z": [
          16.93899917602539,
          15.00100040435791
         ]
        },
        {
         "line": {
          "color": "blue",
          "width": 2
         },
         "mode": "lines",
         "type": "scatter3d",
         "x": [
          16.097999572753906,
          17.208999633789062
         ],
         "y": [
          14.447999954223633,
          17.69300079345703
         ],
         "z": [
          16.93899917602539,
          15.616000175476074
         ]
        },
        {
         "line": {
          "color": "blue",
          "width": 2
         },
         "mode": "lines",
         "type": "scatter3d",
         "x": [
          16.097999572753906,
          17.149999618530273
         ],
         "y": [
          14.447999954223633,
          16.256000518798828
         ],
         "z": [
          16.93899917602539,
          15.83899974822998
         ]
        },
        {
         "line": {
          "color": "blue",
          "width": 2
         },
         "mode": "lines",
         "type": "scatter3d",
         "x": [
          16.097999572753906,
          16.7189998626709
         ],
         "y": [
          14.447999954223633,
          15.814000129699707
         ],
         "z": [
          16.93899917602539,
          17.211000442504883
         ]
        },
        {
         "line": {
          "color": "blue",
          "width": 2
         },
         "mode": "lines",
         "type": "scatter3d",
         "x": [
          16.097999572753906,
          16.097999572753906
         ],
         "y": [
          14.447999954223633,
          14.447999954223633
         ],
         "z": [
          16.93899917602539,
          16.93899917602539
         ]
        },
        {
         "line": {
          "color": "blue",
          "width": 2
         },
         "mode": "lines",
         "type": "scatter3d",
         "x": [
          16.097999572753906,
          15.467000007629395
         ],
         "y": [
          14.447999954223633,
          14.640999794006348
         ],
         "z": [
          16.93899917602539,
          15.5600004196167
         ]
        },
        {
         "line": {
          "color": "blue",
          "width": 2
         },
         "mode": "lines",
         "type": "scatter3d",
         "x": [
          16.097999572753906,
          14.003000259399414
         ],
         "y": [
          14.447999954223633,
          15.053999900817871
         ],
         "z": [
          16.93899917602539,
          15.619000434875488
         ]
        },
        {
         "line": {
          "color": "blue",
          "width": 2
         },
         "mode": "lines",
         "type": "scatter3d",
         "x": [
          16.097999572753906,
          11.977999687194824
         ],
         "y": [
          14.447999954223633,
          15.442999839782715
         ],
         "z": [
          16.93899917602539,
          13.975000381469727
         ]
        },
        {
         "line": {
          "color": "blue",
          "width": 2
         },
         "mode": "lines",
         "type": "scatter3d",
         "x": [
          16.097999572753906,
          0
         ],
         "y": [
          14.447999954223633,
          0
         ],
         "z": [
          16.93899917602539,
          0
         ]
        },
        {
         "line": {
          "color": "blue",
          "width": 2
         },
         "mode": "lines",
         "type": "scatter3d",
         "x": [
          16.097999572753906,
          0
         ],
         "y": [
          14.447999954223633,
          0
         ],
         "z": [
          16.93899917602539,
          0
         ]
        },
        {
         "line": {
          "color": "blue",
          "width": 2
         },
         "mode": "lines",
         "type": "scatter3d",
         "x": [
          16.097999572753906,
          0
         ],
         "y": [
          14.447999954223633,
          0
         ],
         "z": [
          16.93899917602539,
          0
         ]
        },
        {
         "line": {
          "color": "blue",
          "width": 2
         },
         "mode": "lines",
         "type": "scatter3d",
         "x": [
          16.097999572753906,
          17.142000198364258
         ],
         "y": [
          14.447999954223633,
          13.468999862670898
         ],
         "z": [
          16.93899917602539,
          16.850000381469727
         ]
        },
        {
         "line": {
          "color": "blue",
          "width": 2
         },
         "mode": "lines",
         "type": "scatter3d",
         "x": [
          16.097999572753906,
          16.218000411987305
         ],
         "y": [
          14.447999954223633,
          15.696999549865723
         ],
         "z": [
          16.93899917602539,
          14.920000076293945
         ]
        },
        {
         "line": {
          "color": "blue",
          "width": 2
         },
         "mode": "lines",
         "type": "scatter3d",
         "x": [
          16.097999572753906,
          13.4399995803833
         ],
         "y": [
          14.447999954223633,
          14.967000007629395
         ],
         "z": [
          16.93899917602539,
          14.305999755859375
         ]
        },
        {
         "line": {
          "color": "blue",
          "width": 2
         },
         "mode": "lines",
         "type": "scatter3d",
         "x": [
          16.097999572753906,
          0
         ],
         "y": [
          14.447999954223633,
          0
         ],
         "z": [
          16.93899917602539,
          0
         ]
        }
       ],
       "layout": {
        "scene": {
         "xaxis": {
          "title": {
           "text": "X-axis"
          }
         },
         "yaxis": {
          "title": {
           "text": "Y-axis"
          }
         },
         "zaxis": {
          "title": {
           "text": "Z-axis"
          }
         }
        },
        "template": {
         "data": {
          "bar": [
           {
            "error_x": {
             "color": "#2a3f5f"
            },
            "error_y": {
             "color": "#2a3f5f"
            },
            "marker": {
             "line": {
              "color": "#E5ECF6",
              "width": 0.5
             },
             "pattern": {
              "fillmode": "overlay",
              "size": 10,
              "solidity": 0.2
             }
            },
            "type": "bar"
           }
          ],
          "barpolar": [
           {
            "marker": {
             "line": {
              "color": "#E5ECF6",
              "width": 0.5
             },
             "pattern": {
              "fillmode": "overlay",
              "size": 10,
              "solidity": 0.2
             }
            },
            "type": "barpolar"
           }
          ],
          "carpet": [
           {
            "aaxis": {
             "endlinecolor": "#2a3f5f",
             "gridcolor": "white",
             "linecolor": "white",
             "minorgridcolor": "white",
             "startlinecolor": "#2a3f5f"
            },
            "baxis": {
             "endlinecolor": "#2a3f5f",
             "gridcolor": "white",
             "linecolor": "white",
             "minorgridcolor": "white",
             "startlinecolor": "#2a3f5f"
            },
            "type": "carpet"
           }
          ],
          "choropleth": [
           {
            "colorbar": {
             "outlinewidth": 0,
             "ticks": ""
            },
            "type": "choropleth"
           }
          ],
          "contour": [
           {
            "colorbar": {
             "outlinewidth": 0,
             "ticks": ""
            },
            "colorscale": [
             [
              0,
              "#0d0887"
             ],
             [
              0.1111111111111111,
              "#46039f"
             ],
             [
              0.2222222222222222,
              "#7201a8"
             ],
             [
              0.3333333333333333,
              "#9c179e"
             ],
             [
              0.4444444444444444,
              "#bd3786"
             ],
             [
              0.5555555555555556,
              "#d8576b"
             ],
             [
              0.6666666666666666,
              "#ed7953"
             ],
             [
              0.7777777777777778,
              "#fb9f3a"
             ],
             [
              0.8888888888888888,
              "#fdca26"
             ],
             [
              1,
              "#f0f921"
             ]
            ],
            "type": "contour"
           }
          ],
          "contourcarpet": [
           {
            "colorbar": {
             "outlinewidth": 0,
             "ticks": ""
            },
            "type": "contourcarpet"
           }
          ],
          "heatmap": [
           {
            "colorbar": {
             "outlinewidth": 0,
             "ticks": ""
            },
            "colorscale": [
             [
              0,
              "#0d0887"
             ],
             [
              0.1111111111111111,
              "#46039f"
             ],
             [
              0.2222222222222222,
              "#7201a8"
             ],
             [
              0.3333333333333333,
              "#9c179e"
             ],
             [
              0.4444444444444444,
              "#bd3786"
             ],
             [
              0.5555555555555556,
              "#d8576b"
             ],
             [
              0.6666666666666666,
              "#ed7953"
             ],
             [
              0.7777777777777778,
              "#fb9f3a"
             ],
             [
              0.8888888888888888,
              "#fdca26"
             ],
             [
              1,
              "#f0f921"
             ]
            ],
            "type": "heatmap"
           }
          ],
          "heatmapgl": [
           {
            "colorbar": {
             "outlinewidth": 0,
             "ticks": ""
            },
            "colorscale": [
             [
              0,
              "#0d0887"
             ],
             [
              0.1111111111111111,
              "#46039f"
             ],
             [
              0.2222222222222222,
              "#7201a8"
             ],
             [
              0.3333333333333333,
              "#9c179e"
             ],
             [
              0.4444444444444444,
              "#bd3786"
             ],
             [
              0.5555555555555556,
              "#d8576b"
             ],
             [
              0.6666666666666666,
              "#ed7953"
             ],
             [
              0.7777777777777778,
              "#fb9f3a"
             ],
             [
              0.8888888888888888,
              "#fdca26"
             ],
             [
              1,
              "#f0f921"
             ]
            ],
            "type": "heatmapgl"
           }
          ],
          "histogram": [
           {
            "marker": {
             "pattern": {
              "fillmode": "overlay",
              "size": 10,
              "solidity": 0.2
             }
            },
            "type": "histogram"
           }
          ],
          "histogram2d": [
           {
            "colorbar": {
             "outlinewidth": 0,
             "ticks": ""
            },
            "colorscale": [
             [
              0,
              "#0d0887"
             ],
             [
              0.1111111111111111,
              "#46039f"
             ],
             [
              0.2222222222222222,
              "#7201a8"
             ],
             [
              0.3333333333333333,
              "#9c179e"
             ],
             [
              0.4444444444444444,
              "#bd3786"
             ],
             [
              0.5555555555555556,
              "#d8576b"
             ],
             [
              0.6666666666666666,
              "#ed7953"
             ],
             [
              0.7777777777777778,
              "#fb9f3a"
             ],
             [
              0.8888888888888888,
              "#fdca26"
             ],
             [
              1,
              "#f0f921"
             ]
            ],
            "type": "histogram2d"
           }
          ],
          "histogram2dcontour": [
           {
            "colorbar": {
             "outlinewidth": 0,
             "ticks": ""
            },
            "colorscale": [
             [
              0,
              "#0d0887"
             ],
             [
              0.1111111111111111,
              "#46039f"
             ],
             [
              0.2222222222222222,
              "#7201a8"
             ],
             [
              0.3333333333333333,
              "#9c179e"
             ],
             [
              0.4444444444444444,
              "#bd3786"
             ],
             [
              0.5555555555555556,
              "#d8576b"
             ],
             [
              0.6666666666666666,
              "#ed7953"
             ],
             [
              0.7777777777777778,
              "#fb9f3a"
             ],
             [
              0.8888888888888888,
              "#fdca26"
             ],
             [
              1,
              "#f0f921"
             ]
            ],
            "type": "histogram2dcontour"
           }
          ],
          "mesh3d": [
           {
            "colorbar": {
             "outlinewidth": 0,
             "ticks": ""
            },
            "type": "mesh3d"
           }
          ],
          "parcoords": [
           {
            "line": {
             "colorbar": {
              "outlinewidth": 0,
              "ticks": ""
             }
            },
            "type": "parcoords"
           }
          ],
          "pie": [
           {
            "automargin": true,
            "type": "pie"
           }
          ],
          "scatter": [
           {
            "fillpattern": {
             "fillmode": "overlay",
             "size": 10,
             "solidity": 0.2
            },
            "type": "scatter"
           }
          ],
          "scatter3d": [
           {
            "line": {
             "colorbar": {
              "outlinewidth": 0,
              "ticks": ""
             }
            },
            "marker": {
             "colorbar": {
              "outlinewidth": 0,
              "ticks": ""
             }
            },
            "type": "scatter3d"
           }
          ],
          "scattercarpet": [
           {
            "marker": {
             "colorbar": {
              "outlinewidth": 0,
              "ticks": ""
             }
            },
            "type": "scattercarpet"
           }
          ],
          "scattergeo": [
           {
            "marker": {
             "colorbar": {
              "outlinewidth": 0,
              "ticks": ""
             }
            },
            "type": "scattergeo"
           }
          ],
          "scattergl": [
           {
            "marker": {
             "colorbar": {
              "outlinewidth": 0,
              "ticks": ""
             }
            },
            "type": "scattergl"
           }
          ],
          "scattermapbox": [
           {
            "marker": {
             "colorbar": {
              "outlinewidth": 0,
              "ticks": ""
             }
            },
            "type": "scattermapbox"
           }
          ],
          "scatterpolar": [
           {
            "marker": {
             "colorbar": {
              "outlinewidth": 0,
              "ticks": ""
             }
            },
            "type": "scatterpolar"
           }
          ],
          "scatterpolargl": [
           {
            "marker": {
             "colorbar": {
              "outlinewidth": 0,
              "ticks": ""
             }
            },
            "type": "scatterpolargl"
           }
          ],
          "scatterternary": [
           {
            "marker": {
             "colorbar": {
              "outlinewidth": 0,
              "ticks": ""
             }
            },
            "type": "scatterternary"
           }
          ],
          "surface": [
           {
            "colorbar": {
             "outlinewidth": 0,
             "ticks": ""
            },
            "colorscale": [
             [
              0,
              "#0d0887"
             ],
             [
              0.1111111111111111,
              "#46039f"
             ],
             [
              0.2222222222222222,
              "#7201a8"
             ],
             [
              0.3333333333333333,
              "#9c179e"
             ],
             [
              0.4444444444444444,
              "#bd3786"
             ],
             [
              0.5555555555555556,
              "#d8576b"
             ],
             [
              0.6666666666666666,
              "#ed7953"
             ],
             [
              0.7777777777777778,
              "#fb9f3a"
             ],
             [
              0.8888888888888888,
              "#fdca26"
             ],
             [
              1,
              "#f0f921"
             ]
            ],
            "type": "surface"
           }
          ],
          "table": [
           {
            "cells": {
             "fill": {
              "color": "#EBF0F8"
             },
             "line": {
              "color": "white"
             }
            },
            "header": {
             "fill": {
              "color": "#C8D4E3"
             },
             "line": {
              "color": "white"
             }
            },
            "type": "table"
           }
          ]
         },
         "layout": {
          "annotationdefaults": {
           "arrowcolor": "#2a3f5f",
           "arrowhead": 0,
           "arrowwidth": 1
          },
          "autotypenumbers": "strict",
          "coloraxis": {
           "colorbar": {
            "outlinewidth": 0,
            "ticks": ""
           }
          },
          "colorscale": {
           "diverging": [
            [
             0,
             "#8e0152"
            ],
            [
             0.1,
             "#c51b7d"
            ],
            [
             0.2,
             "#de77ae"
            ],
            [
             0.3,
             "#f1b6da"
            ],
            [
             0.4,
             "#fde0ef"
            ],
            [
             0.5,
             "#f7f7f7"
            ],
            [
             0.6,
             "#e6f5d0"
            ],
            [
             0.7,
             "#b8e186"
            ],
            [
             0.8,
             "#7fbc41"
            ],
            [
             0.9,
             "#4d9221"
            ],
            [
             1,
             "#276419"
            ]
           ],
           "sequential": [
            [
             0,
             "#0d0887"
            ],
            [
             0.1111111111111111,
             "#46039f"
            ],
            [
             0.2222222222222222,
             "#7201a8"
            ],
            [
             0.3333333333333333,
             "#9c179e"
            ],
            [
             0.4444444444444444,
             "#bd3786"
            ],
            [
             0.5555555555555556,
             "#d8576b"
            ],
            [
             0.6666666666666666,
             "#ed7953"
            ],
            [
             0.7777777777777778,
             "#fb9f3a"
            ],
            [
             0.8888888888888888,
             "#fdca26"
            ],
            [
             1,
             "#f0f921"
            ]
           ],
           "sequentialminus": [
            [
             0,
             "#0d0887"
            ],
            [
             0.1111111111111111,
             "#46039f"
            ],
            [
             0.2222222222222222,
             "#7201a8"
            ],
            [
             0.3333333333333333,
             "#9c179e"
            ],
            [
             0.4444444444444444,
             "#bd3786"
            ],
            [
             0.5555555555555556,
             "#d8576b"
            ],
            [
             0.6666666666666666,
             "#ed7953"
            ],
            [
             0.7777777777777778,
             "#fb9f3a"
            ],
            [
             0.8888888888888888,
             "#fdca26"
            ],
            [
             1,
             "#f0f921"
            ]
           ]
          },
          "colorway": [
           "#636efa",
           "#EF553B",
           "#00cc96",
           "#ab63fa",
           "#FFA15A",
           "#19d3f3",
           "#FF6692",
           "#B6E880",
           "#FF97FF",
           "#FECB52"
          ],
          "font": {
           "color": "#2a3f5f"
          },
          "geo": {
           "bgcolor": "white",
           "lakecolor": "white",
           "landcolor": "#E5ECF6",
           "showlakes": true,
           "showland": true,
           "subunitcolor": "white"
          },
          "hoverlabel": {
           "align": "left"
          },
          "hovermode": "closest",
          "mapbox": {
           "style": "light"
          },
          "paper_bgcolor": "white",
          "plot_bgcolor": "#E5ECF6",
          "polar": {
           "angularaxis": {
            "gridcolor": "white",
            "linecolor": "white",
            "ticks": ""
           },
           "bgcolor": "#E5ECF6",
           "radialaxis": {
            "gridcolor": "white",
            "linecolor": "white",
            "ticks": ""
           }
          },
          "scene": {
           "xaxis": {
            "backgroundcolor": "#E5ECF6",
            "gridcolor": "white",
            "gridwidth": 2,
            "linecolor": "white",
            "showbackground": true,
            "ticks": "",
            "zerolinecolor": "white"
           },
           "yaxis": {
            "backgroundcolor": "#E5ECF6",
            "gridcolor": "white",
            "gridwidth": 2,
            "linecolor": "white",
            "showbackground": true,
            "ticks": "",
            "zerolinecolor": "white"
           },
           "zaxis": {
            "backgroundcolor": "#E5ECF6",
            "gridcolor": "white",
            "gridwidth": 2,
            "linecolor": "white",
            "showbackground": true,
            "ticks": "",
            "zerolinecolor": "white"
           }
          },
          "shapedefaults": {
           "line": {
            "color": "#2a3f5f"
           }
          },
          "ternary": {
           "aaxis": {
            "gridcolor": "white",
            "linecolor": "white",
            "ticks": ""
           },
           "baxis": {
            "gridcolor": "white",
            "linecolor": "white",
            "ticks": ""
           },
           "bgcolor": "#E5ECF6",
           "caxis": {
            "gridcolor": "white",
            "linecolor": "white",
            "ticks": ""
           }
          },
          "title": {
           "x": 0.05
          },
          "xaxis": {
           "automargin": true,
           "gridcolor": "white",
           "linecolor": "white",
           "ticks": "",
           "title": {
            "standoff": 15
           },
           "zerolinecolor": "white",
           "zerolinewidth": 2
          },
          "yaxis": {
           "automargin": true,
           "gridcolor": "white",
           "linecolor": "white",
           "ticks": "",
           "title": {
            "standoff": 15
           },
           "zerolinecolor": "white",
           "zerolinewidth": 2
          }
         }
        },
        "title": {
         "text": "Line in 3D Space"
        }
       }
      },
      "text/html": [
       "<div>                            <div id=\"f139d121-f1f9-40ab-b178-71c2a46177aa\" class=\"plotly-graph-div\" style=\"height:525px; width:100%;\"></div>            <script type=\"text/javascript\">                require([\"plotly\"], function(Plotly) {                    window.PLOTLYENV=window.PLOTLYENV || {};                                    if (document.getElementById(\"f139d121-f1f9-40ab-b178-71c2a46177aa\")) {                    Plotly.newPlot(                        \"f139d121-f1f9-40ab-b178-71c2a46177aa\",                        [{\"line\":{\"color\":\"blue\",\"width\":2},\"mode\":\"lines\",\"x\":[7.6579999923706055,10.781999588012695],\"y\":[24.062999725341797,23.91699981689453],\"z\":[18.354000091552734,16.395999908447266],\"type\":\"scatter3d\"},{\"line\":{\"color\":\"blue\",\"width\":2},\"mode\":\"lines\",\"x\":[7.6579999923706055,11.727999687194824],\"y\":[24.062999725341797,22.927000045776367],\"z\":[18.354000091552734,16.461000442504883],\"type\":\"scatter3d\"},{\"line\":{\"color\":\"blue\",\"width\":2},\"mode\":\"lines\",\"x\":[7.6579999923706055,11.418999671936035],\"y\":[24.062999725341797,21.819000244140625],\"z\":[18.354000091552734,16.920000076293945],\"type\":\"scatter3d\"},{\"line\":{\"color\":\"blue\",\"width\":2},\"mode\":\"lines\",\"x\":[7.6579999923706055,12.97599983215332],\"y\":[24.062999725341797,23.16200065612793],\"z\":[18.354000091552734,16.03700065612793],\"type\":\"scatter3d\"},{\"line\":{\"color\":\"blue\",\"width\":2},\"mode\":\"lines\",\"x\":[7.6579999923706055,13.315999984741211],\"y\":[24.062999725341797,24.36199951171875],\"z\":[18.354000091552734,15.59000015258789],\"type\":\"scatter3d\"},{\"line\":{\"color\":\"blue\",\"width\":2},\"mode\":\"lines\",\"x\":[7.6579999923706055,14.5600004196167],\"y\":[24.062999725341797,24.583999633789062],\"z\":[18.354000091552734,15.142000198364258],\"type\":\"scatter3d\"},{\"line\":{\"color\":\"blue\",\"width\":2},\"mode\":\"lines\",\"x\":[7.6579999923706055,12.378000259399414],\"y\":[24.062999725341797,25.423999786376953],\"z\":[18.354000091552734,15.529000282287598],\"type\":\"scatter3d\"},{\"line\":{\"color\":\"blue\",\"width\":2},\"mode\":\"lines\",\"x\":[7.6579999923706055,11.126999855041504],\"y\":[24.062999725341797,25.16699981689453],\"z\":[18.354000091552734,15.946999549865723],\"type\":\"scatter3d\"},{\"line\":{\"color\":\"blue\",\"width\":2},\"mode\":\"lines\",\"x\":[7.6579999923706055,9.414999961853027],\"y\":[24.062999725341797,23.62299919128418],\"z\":[18.354000091552734,16.836999893188477],\"type\":\"scatter3d\"},{\"line\":{\"color\":\"blue\",\"width\":2},\"mode\":\"lines\",\"x\":[7.6579999923706055,9.182000160217285],\"y\":[24.062999725341797,23.871000289916992],\"z\":[18.354000091552734,18.333999633789062],\"type\":\"scatter3d\"},{\"line\":{\"color\":\"blue\",\"width\":2},\"mode\":\"lines\",\"x\":[7.6579999923706055,7.6579999923706055],\"y\":[24.062999725341797,24.062999725341797],\"z\":[18.354000091552734,18.354000091552734],\"type\":\"scatter3d\"},{\"line\":{\"color\":\"blue\",\"width\":2},\"mode\":\"lines\",\"x\":[7.6579999923706055,7.410999774932861],\"y\":[24.062999725341797,24.823999404907227],\"z\":[18.354000091552734,17.05500030517578],\"type\":\"scatter3d\"},{\"line\":{\"color\":\"blue\",\"width\":2},\"mode\":\"lines\",\"x\":[7.6579999923706055,7.265999794006348],\"y\":[24.062999725341797,26.30500030517578],\"z\":[18.354000091552734,17.187999725341797],\"type\":\"scatter3d\"},{\"line\":{\"color\":\"blue\",\"width\":2},\"mode\":\"lines\",\"x\":[7.6579999923706055,0.0],\"y\":[24.062999725341797,0.0],\"z\":[18.354000091552734,0.0],\"type\":\"scatter3d\"},{\"line\":{\"color\":\"blue\",\"width\":2},\"mode\":\"lines\",\"x\":[7.6579999923706055,0.0],\"y\":[24.062999725341797,0.0],\"z\":[18.354000091552734,0.0],\"type\":\"scatter3d\"},{\"line\":{\"color\":\"blue\",\"width\":2},\"mode\":\"lines\",\"x\":[7.6579999923706055,0.0],\"y\":[24.062999725341797,0.0],\"z\":[18.354000091552734,0.0],\"type\":\"scatter3d\"},{\"line\":{\"color\":\"blue\",\"width\":2},\"mode\":\"lines\",\"x\":[7.6579999923706055,0.0],\"y\":[24.062999725341797,0.0],\"z\":[18.354000091552734,0.0],\"type\":\"scatter3d\"},{\"line\":{\"color\":\"blue\",\"width\":2},\"mode\":\"lines\",\"x\":[7.6579999923706055,7.065999984741211],\"y\":[24.062999725341797,22.736000061035156],\"z\":[18.354000091552734,18.233999252319336],\"type\":\"scatter3d\"},{\"line\":{\"color\":\"blue\",\"width\":2},\"mode\":\"lines\",\"x\":[7.6579999923706055,8.53600025177002],\"y\":[24.062999725341797,24.510000228881836],\"z\":[18.354000091552734,16.191999435424805],\"type\":\"scatter3d\"},{\"line\":{\"color\":\"blue\",\"width\":2},\"mode\":\"lines\",\"x\":[7.6579999923706055,8.343999862670898],\"y\":[24.062999725341797,26.856000900268555],\"z\":[18.354000091552734,17.96500015258789],\"type\":\"scatter3d\"},{\"line\":{\"color\":\"blue\",\"width\":2},\"mode\":\"lines\",\"x\":[7.6579999923706055,0.0],\"y\":[24.062999725341797,0.0],\"z\":[18.354000091552734,0.0],\"type\":\"scatter3d\"},{\"line\":{\"color\":\"blue\",\"width\":2},\"mode\":\"lines\",\"x\":[7.6579999923706055,0.0],\"y\":[24.062999725341797,0.0],\"z\":[18.354000091552734,0.0],\"type\":\"scatter3d\"},{\"line\":{\"color\":\"blue\",\"width\":2},\"mode\":\"lines\",\"x\":[7.6579999923706055,0.0],\"y\":[24.062999725341797,0.0],\"z\":[18.354000091552734,0.0],\"type\":\"scatter3d\"},{\"line\":{\"color\":\"blue\",\"width\":2},\"mode\":\"lines\",\"x\":[7.6579999923706055,0.0],\"y\":[24.062999725341797,0.0],\"z\":[18.354000091552734,0.0],\"type\":\"scatter3d\"},{\"line\":{\"color\":\"blue\",\"width\":2},\"mode\":\"lines\",\"x\":[3.0920000076293945,8.347000122070312],\"y\":[22.773000717163086,23.878000259399414],\"z\":[15.387999534606934,13.178000450134277],\"type\":\"scatter3d\"},{\"line\":{\"color\":\"blue\",\"width\":2},\"mode\":\"lines\",\"x\":[3.0920000076293945,7.448999881744385],\"y\":[22.773000717163086,23.08799934387207],\"z\":[15.387999534606934,13.833000183105469],\"type\":\"scatter3d\"},{\"line\":{\"color\":\"blue\",\"width\":2},\"mode\":\"lines\",\"x\":[3.0920000076293945,7.800000190734863],\"y\":[22.773000717163086,21.802000045776367],\"z\":[15.387999534606934,13.944000244140625],\"type\":\"scatter3d\"},{\"line\":{\"color\":\"blue\",\"width\":2},\"mode\":\"lines\",\"x\":[3.0920000076293945,6.301000118255615],\"y\":[22.773000717163086,23.48200035095215],\"z\":[15.387999534606934,14.352999687194824],\"type\":\"scatter3d\"},{\"line\":{\"color\":\"blue\",\"width\":2},\"mode\":\"lines\",\"x\":[3.0920000076293945,6.071000099182129],\"y\":[22.773000717163086,24.795000076293945],\"z\":[15.387999534606934,14.130999565124512],\"type\":\"scatter3d\"},{\"line\":{\"color\":\"blue\",\"width\":2},\"mode\":\"lines\",\"x\":[3.0920000076293945,6.918000221252441],\"y\":[22.773000717163086,25.68899917602539],\"z\":[15.387999534606934,13.520000457763672],\"type\":\"scatter3d\"},{\"line\":{\"color\":\"blue\",\"width\":2},\"mode\":\"lines\",\"x\":[3.0920000076293945,8.154999732971191],\"y\":[22.773000717163086,25.240999221801758],\"z\":[15.387999534606934,12.986000061035156],\"type\":\"scatter3d\"},{\"line\":{\"color\":\"blue\",\"width\":2},\"mode\":\"lines\",\"x\":[3.0920000076293945,9.022000312805176],\"y\":[22.773000717163086,25.91200065612793],\"z\":[15.387999534606934,12.413000106811523],\"type\":\"scatter3d\"},{\"line\":{\"color\":\"blue\",\"width\":2},\"mode\":\"lines\",\"x\":[3.0920000076293945,6.377999782562256],\"y\":[22.773000717163086,26.97100067138672],\"z\":[15.387999534606934,13.53499984741211],\"type\":\"scatter3d\"},{\"line\":{\"color\":\"blue\",\"width\":2},\"mode\":\"lines\",\"x\":[3.0920000076293945,5.251999855041504],\"y\":[22.773000717163086,26.819000244140625],\"z\":[15.387999534606934,14.17300033569336],\"type\":\"scatter3d\"},{\"line\":{\"color\":\"blue\",\"width\":2},\"mode\":\"lines\",\"x\":[3.0920000076293945,4.966000080108643],\"y\":[22.773000717163086,25.51300048828125],\"z\":[15.387999534606934,14.5],\"type\":\"scatter3d\"},{\"line\":{\"color\":\"blue\",\"width\":2},\"mode\":\"lines\",\"x\":[3.0920000076293945,3.8499999046325684],\"y\":[22.773000717163086,25.024999618530273],\"z\":[15.387999534606934,15.315999984741211],\"type\":\"scatter3d\"},{\"line\":{\"color\":\"blue\",\"width\":2},\"mode\":\"lines\",\"x\":[3.0920000076293945,2.940000057220459],\"y\":[22.773000717163086,24.04199981689453],\"z\":[15.387999534606934,14.675999641418457],\"type\":\"scatter3d\"},{\"line\":{\"color\":\"blue\",\"width\":2},\"mode\":\"lines\",\"x\":[3.0920000076293945,3.0920000076293945],\"y\":[22.773000717163086,22.773000717163086],\"z\":[15.387999534606934,15.387999534606934],\"type\":\"scatter3d\"},{\"line\":{\"color\":\"blue\",\"width\":2},\"mode\":\"lines\",\"x\":[3.0920000076293945,3.7230000495910645],\"y\":[22.773000717163086,23.179000854492188],\"z\":[15.387999534606934,16.750999450683594],\"type\":\"scatter3d\"},{\"line\":{\"color\":\"blue\",\"width\":2},\"mode\":\"lines\",\"x\":[3.0920000076293945,4.560999870300293],\"y\":[22.773000717163086,22.134000778198242],\"z\":[15.387999534606934,17.37299919128418],\"type\":\"scatter3d\"},{\"line\":{\"color\":\"blue\",\"width\":2},\"mode\":\"lines\",\"x\":[3.0920000076293945,6.139999866485596],\"y\":[22.773000717163086,22.222999572753906],\"z\":[15.387999534606934,19.45800018310547],\"type\":\"scatter3d\"},{\"line\":{\"color\":\"blue\",\"width\":2},\"mode\":\"lines\",\"x\":[3.0920000076293945,0.0],\"y\":[22.773000717163086,0.0],\"z\":[15.387999534606934,0.0],\"type\":\"scatter3d\"},{\"line\":{\"color\":\"blue\",\"width\":2},\"mode\":\"lines\",\"x\":[3.0920000076293945,0.0],\"y\":[22.773000717163086,0.0],\"z\":[15.387999534606934,0.0],\"type\":\"scatter3d\"},{\"line\":{\"color\":\"blue\",\"width\":2},\"mode\":\"lines\",\"x\":[3.0920000076293945,0.0],\"y\":[22.773000717163086,0.0],\"z\":[15.387999534606934,0.0],\"type\":\"scatter3d\"},{\"line\":{\"color\":\"blue\",\"width\":2},\"mode\":\"lines\",\"x\":[3.0920000076293945,1.902999997138977],\"y\":[22.773000717163086,22.04199981689453],\"z\":[15.387999534606934,15.633000373840332],\"type\":\"scatter3d\"},{\"line\":{\"color\":\"blue\",\"width\":2},\"mode\":\"lines\",\"x\":[3.0920000076293945,4.3979997634887695],\"y\":[22.773000717163086,24.392000198364258],\"z\":[15.387999534606934,16.490999221801758],\"type\":\"scatter3d\"},{\"line\":{\"color\":\"blue\",\"width\":2},\"mode\":\"lines\",\"x\":[3.0920000076293945,4.639999866485596],\"y\":[22.773000717163086,22.29400062561035],\"z\":[15.387999534606934,18.80699920654297],\"type\":\"scatter3d\"},{\"line\":{\"color\":\"blue\",\"width\":2},\"mode\":\"lines\",\"x\":[3.0920000076293945,0.0],\"y\":[22.773000717163086,0.0],\"z\":[15.387999534606934,0.0],\"type\":\"scatter3d\"},{\"line\":{\"color\":\"blue\",\"width\":2},\"mode\":\"lines\",\"x\":[4.0,5.710000038146973],\"y\":[18.827999114990234,21.374000549316406],\"z\":[12.848999977111816,10.815999984741211],\"type\":\"scatter3d\"},{\"line\":{\"color\":\"blue\",\"width\":2},\"mode\":\"lines\",\"x\":[4.0,7.059999942779541],\"y\":[18.827999114990234,21.475000381469727],\"z\":[12.848999977111816,10.512999534606934],\"type\":\"scatter3d\"},{\"line\":{\"color\":\"blue\",\"width\":2},\"mode\":\"lines\",\"x\":[4.0,7.742000102996826],\"y\":[18.827999114990234,20.42799949645996],\"z\":[12.848999977111816,10.418000221252441],\"type\":\"scatter3d\"},{\"line\":{\"color\":\"blue\",\"width\":2},\"mode\":\"lines\",\"x\":[4.0,7.609000205993652],\"y\":[18.827999114990234,22.676000595092773],\"z\":[12.848999977111816,10.182000160217285],\"type\":\"scatter3d\"},{\"line\":{\"color\":\"blue\",\"width\":2},\"mode\":\"lines\",\"x\":[4.0,6.885000228881836],\"y\":[18.827999114990234,23.788000106811523],\"z\":[12.848999977111816,10.329999923706055],\"type\":\"scatter3d\"},{\"line\":{\"color\":\"blue\",\"width\":2},\"mode\":\"lines\",\"x\":[4.0,7.452000141143799],\"y\":[18.827999114990234,24.95400047302246],\"z\":[12.848999977111816,10.041999816894531],\"type\":\"scatter3d\"},{\"line\":{\"color\":\"blue\",\"width\":2},\"mode\":\"lines\",\"x\":[4.0,5.515999794006348],\"y\":[18.827999114990234,23.707000732421875],\"z\":[12.848999977111816,10.727999687194824],\"type\":\"scatter3d\"},{\"line\":{\"color\":\"blue\",\"width\":2},\"mode\":\"lines\",\"x\":[4.0,4.998000144958496],\"y\":[18.827999114990234,22.514999389648438],\"z\":[12.848999977111816,11.0600004196167],\"type\":\"scatter3d\"},{\"line\":{\"color\":\"blue\",\"width\":2},\"mode\":\"lines\",\"x\":[4.0,5.170000076293945],\"y\":[18.827999114990234,20.079999923706055],\"z\":[12.848999977111816,11.222000122070312],\"type\":\"scatter3d\"},{\"line\":{\"color\":\"blue\",\"width\":2},\"mode\":\"lines\",\"x\":[4.0,5.118000030517578],\"y\":[18.827999114990234,19.865999221801758],\"z\":[12.848999977111816,12.732000350952148],\"type\":\"scatter3d\"},{\"line\":{\"color\":\"blue\",\"width\":2},\"mode\":\"lines\",\"x\":[4.0,4.0],\"y\":[18.827999114990234,18.827999114990234],\"z\":[12.848999977111816,12.848999977111816],\"type\":\"scatter3d\"},{\"line\":{\"color\":\"blue\",\"width\":2},\"mode\":\"lines\",\"x\":[4.0,3.0320000648498535],\"y\":[18.827999114990234,19.26099967956543],\"z\":[12.848999977111816,11.744999885559082],\"type\":\"scatter3d\"},{\"line\":{\"color\":\"blue\",\"width\":2},\"mode\":\"lines\",\"x\":[4.0,1.8819999694824219],\"y\":[18.827999114990234,20.111000061035156],\"z\":[12.848999977111816,12.234999656677246],\"type\":\"scatter3d\"},{\"line\":{\"color\":\"blue\",\"width\":2},\"mode\":\"lines\",\"x\":[4.0,1.2599999904632568],\"y\":[18.827999114990234,21.025999069213867],\"z\":[12.848999977111816,14.630000114440918],\"type\":\"scatter3d\"},{\"line\":{\"color\":\"blue\",\"width\":2},\"mode\":\"lines\",\"x\":[4.0,0.0],\"y\":[18.827999114990234,0.0],\"z\":[12.848999977111816,0.0],\"type\":\"scatter3d\"},{\"line\":{\"color\":\"blue\",\"width\":2},\"mode\":\"lines\",\"x\":[4.0,0.0],\"y\":[18.827999114990234,0.0],\"z\":[12.848999977111816,0.0],\"type\":\"scatter3d\"},{\"line\":{\"color\":\"blue\",\"width\":2},\"mode\":\"lines\",\"x\":[4.0,0.0],\"y\":[18.827999114990234,0.0],\"z\":[12.848999977111816,0.0],\"type\":\"scatter3d\"},{\"line\":{\"color\":\"blue\",\"width\":2},\"mode\":\"lines\",\"x\":[4.0,4.540999889373779],\"y\":[18.827999114990234,17.542999267578125],\"z\":[12.848999977111816,12.534000396728516],\"type\":\"scatter3d\"},{\"line\":{\"color\":\"blue\",\"width\":2},\"mode\":\"lines\",\"x\":[4.0,3.812999963760376],\"y\":[18.827999114990234,20.010000228881836],\"z\":[12.848999977111816,10.793000221252441],\"type\":\"scatter3d\"},{\"line\":{\"color\":\"blue\",\"width\":2},\"mode\":\"lines\",\"x\":[4.0,2.2750000953674316],\"y\":[18.827999114990234,20.809999465942383],\"z\":[12.848999977111816,13.430999755859375],\"type\":\"scatter3d\"},{\"line\":{\"color\":\"blue\",\"width\":2},\"mode\":\"lines\",\"x\":[4.0,0.0],\"y\":[18.827999114990234,0.0],\"z\":[12.848999977111816,0.0],\"type\":\"scatter3d\"},{\"line\":{\"color\":\"blue\",\"width\":2},\"mode\":\"lines\",\"x\":[4.0,0.0],\"y\":[18.827999114990234,0.0],\"z\":[12.848999977111816,0.0],\"type\":\"scatter3d\"},{\"line\":{\"color\":\"blue\",\"width\":2},\"mode\":\"lines\",\"x\":[4.0,0.0],\"y\":[18.827999114990234,0.0],\"z\":[12.848999977111816,0.0],\"type\":\"scatter3d\"},{\"line\":{\"color\":\"blue\",\"width\":2},\"mode\":\"lines\",\"x\":[4.0,0.0],\"y\":[18.827999114990234,0.0],\"z\":[12.848999977111816,0.0],\"type\":\"scatter3d\"},{\"line\":{\"color\":\"blue\",\"width\":2},\"mode\":\"lines\",\"x\":[1.6699999570846558,3.559000015258789],\"y\":[15.3100004196167,20.673999786376953],\"z\":[8.666999816894531,7.816999912261963],\"type\":\"scatter3d\"},{\"line\":{\"color\":\"blue\",\"width\":2},\"mode\":\"lines\",\"x\":[1.6699999570846558,3.744999885559082],\"y\":[15.3100004196167,19.304000854492188],\"z\":[8.666999816894531,7.9029998779296875],\"type\":\"scatter3d\"},{\"line\":{\"color\":\"blue\",\"width\":2},\"mode\":\"lines\",\"x\":[1.6699999570846558,4.916999816894531],\"y\":[15.3100004196167,18.836999893188477],\"z\":[8.666999816894531,7.558000087738037],\"type\":\"scatter3d\"},{\"line\":{\"color\":\"blue\",\"width\":2},\"mode\":\"lines\",\"x\":[1.6699999570846558,2.7829999923706055],\"y\":[15.3100004196167,18.46299934387207],\"z\":[8.666999816894531,8.270999908447266],\"type\":\"scatter3d\"},{\"line\":{\"color\":\"blue\",\"width\":2},\"mode\":\"lines\",\"x\":[1.6699999570846558,1.6369999647140503],\"y\":[15.3100004196167,19.094999313354492],\"z\":[8.666999816894531,8.597999572753906],\"type\":\"scatter3d\"},{\"line\":{\"color\":\"blue\",\"width\":2},\"mode\":\"lines\",\"x\":[1.6699999570846558,1.3919999599456787],\"y\":[15.3100004196167,20.461999893188477],\"z\":[8.666999816894531,8.60200023651123],\"type\":\"scatter3d\"},{\"line\":{\"color\":\"blue\",\"width\":2},\"mode\":\"lines\",\"x\":[1.6699999570846558,2.427999973297119],\"y\":[15.3100004196167,21.334999084472656],\"z\":[8.666999816894531,8.218000411987305],\"type\":\"scatter3d\"},{\"line\":{\"color\":\"blue\",\"width\":2},\"mode\":\"lines\",\"x\":[1.6699999570846558,2.4040000438690186],\"y\":[15.3100004196167,22.586000442504883],\"z\":[8.666999816894531,8.199999809265137],\"type\":\"scatter3d\"},{\"line\":{\"color\":\"blue\",\"width\":2},\"mode\":\"lines\",\"x\":[1.6699999570846558,0.09300005435943604],\"y\":[15.3100004196167,20.72100067138672],\"z\":[8.666999816894531,9.04699993133545],\"type\":\"scatter3d\"},{\"line\":{\"color\":\"blue\",\"width\":2},\"mode\":\"lines\",\"x\":[1.6699999570846558,-0.40500009059906006],\"y\":[15.3100004196167,19.54199981689453],\"z\":[8.666999816894531,9.288999557495117],\"type\":\"scatter3d\"},{\"line\":{\"color\":\"blue\",\"width\":2},\"mode\":\"lines\",\"x\":[1.6699999570846558,0.4729999303817749],\"y\":[15.3100004196167,18.527999877929688],\"z\":[8.666999816894531,9.02400016784668],\"type\":\"scatter3d\"},{\"line\":{\"color\":\"blue\",\"width\":2},\"mode\":\"lines\",\"x\":[1.6699999570846558,0.23000001907348633],\"y\":[15.3100004196167,17.11400032043457],\"z\":[8.666999816894531,9.303999900817871],\"type\":\"scatter3d\"},{\"line\":{\"color\":\"blue\",\"width\":2},\"mode\":\"lines\",\"x\":[1.6699999570846558,0.5549999475479126],\"y\":[15.3100004196167,16.160999298095703],\"z\":[8.666999816894531,8.187999725341797],\"type\":\"scatter3d\"},{\"line\":{\"color\":\"blue\",\"width\":2},\"mode\":\"lines\",\"x\":[1.6699999570846558,1.6699999570846558],\"y\":[15.3100004196167,15.3100004196167],\"z\":[8.666999816894531,8.666999816894531],\"type\":\"scatter3d\"},{\"line\":{\"color\":\"blue\",\"width\":2},\"mode\":\"lines\",\"x\":[1.6699999570846558,1.5080000162124634],\"y\":[15.3100004196167,15.383000373840332],\"z\":[8.666999816894531,10.208999633789062],\"type\":\"scatter3d\"},{\"line\":{\"color\":\"blue\",\"width\":2},\"mode\":\"lines\",\"x\":[1.6699999570846558,2.805000066757202],\"y\":[15.3100004196167,15.178000450134277],\"z\":[8.666999816894531,10.968000411987305],\"type\":\"scatter3d\"},{\"line\":{\"color\":\"blue\",\"width\":2},\"mode\":\"lines\",\"x\":[1.6699999570846558,3.9089999198913574],\"y\":[15.3100004196167,16.20800018310547],\"z\":[8.666999816894531,13.125],\"type\":\"scatter3d\"},{\"line\":{\"color\":\"blue\",\"width\":2},\"mode\":\"lines\",\"x\":[1.6699999570846558,0.0],\"y\":[15.3100004196167,0.0],\"z\":[8.666999816894531,0.0],\"type\":\"scatter3d\"},{\"line\":{\"color\":\"blue\",\"width\":2},\"mode\":\"lines\",\"x\":[1.6699999570846558,0.0],\"y\":[15.3100004196167,0.0],\"z\":[8.666999816894531,0.0],\"type\":\"scatter3d\"},{\"line\":{\"color\":\"blue\",\"width\":2},\"mode\":\"lines\",\"x\":[1.6699999570846558,0.0],\"y\":[15.3100004196167,0.0],\"z\":[8.666999816894531,0.0],\"type\":\"scatter3d\"},{\"line\":{\"color\":\"blue\",\"width\":2},\"mode\":\"lines\",\"x\":[1.6699999570846558,1.6100000143051147],\"y\":[15.3100004196167,13.944000244140625],\"z\":[8.666999816894531,8.27299976348877],\"type\":\"scatter3d\"},{\"line\":{\"color\":\"blue\",\"width\":2},\"mode\":\"lines\",\"x\":[1.6699999570846558,1.059999942779541],\"y\":[15.3100004196167,16.75],\"z\":[8.666999816894531,10.416999816894531],\"type\":\"scatter3d\"},{\"line\":{\"color\":\"blue\",\"width\":2},\"mode\":\"lines\",\"x\":[1.6699999570846558,2.6760001182556152],\"y\":[15.3100004196167,15.831999778747559],\"z\":[8.666999816894531,12.255000114440918],\"type\":\"scatter3d\"},{\"line\":{\"color\":\"blue\",\"width\":2},\"mode\":\"lines\",\"x\":[1.6699999570846558,0.0],\"y\":[15.3100004196167,0.0],\"z\":[8.666999816894531,0.0],\"type\":\"scatter3d\"},{\"line\":{\"color\":\"blue\",\"width\":2},\"mode\":\"lines\",\"x\":[4.822999954223633,3.0239999294281006],\"y\":[14.873000144958496,18.069000244140625],\"z\":[4.447000026702881,4.211999893188477],\"type\":\"scatter3d\"},{\"line\":{\"color\":\"blue\",\"width\":2},\"mode\":\"lines\",\"x\":[4.822999954223633,3.622999906539917],\"y\":[14.873000144958496,19.31999969482422],\"z\":[4.447000026702881,4.052000045776367],\"type\":\"scatter3d\"},{\"line\":{\"color\":\"blue\",\"width\":2},\"mode\":\"lines\",\"x\":[4.822999954223633,4.76800012588501],\"y\":[14.873000144958496,19.375],\"z\":[4.447000026702881,3.5810000896453857],\"type\":\"scatter3d\"},{\"line\":{\"color\":\"blue\",\"width\":2},\"mode\":\"lines\",\"x\":[4.822999954223633,2.937000036239624],\"y\":[14.873000144958496,20.42300033569336],\"z\":[4.447000026702881,4.427000045776367],\"type\":\"scatter3d\"},{\"line\":{\"color\":\"blue\",\"width\":2},\"mode\":\"lines\",\"x\":[4.822999954223633,1.7160000801086426],\"y\":[14.873000144958496,20.312999725341797],\"z\":[4.447000026702881,4.955999851226807],\"type\":\"scatter3d\"},{\"line\":{\"color\":\"blue\",\"width\":2},\"mode\":\"lines\",\"x\":[4.822999954223633,1.066999912261963],\"y\":[14.873000144958496,21.423999786376953],\"z\":[4.447000026702881,5.2769999504089355],\"type\":\"scatter3d\"},{\"line\":{\"color\":\"blue\",\"width\":2},\"mode\":\"lines\",\"x\":[4.822999954223633,1.1009998321533203],\"y\":[14.873000144958496,19.042999267578125],\"z\":[4.447000026702881,5.1620001792907715],\"type\":\"scatter3d\"},{\"line\":{\"color\":\"blue\",\"width\":2},\"mode\":\"lines\",\"x\":[4.822999954223633,1.7899999618530273],\"y\":[14.873000144958496,17.95199966430664],\"z\":[4.447000026702881,4.775000095367432],\"type\":\"scatter3d\"},{\"line\":{\"color\":\"blue\",\"width\":2},\"mode\":\"lines\",\"x\":[4.822999954223633,3.7860000133514404],\"y\":[14.873000144958496,16.893999099731445],\"z\":[4.447000026702881,3.815000057220459],\"type\":\"scatter3d\"},{\"line\":{\"color\":\"blue\",\"width\":2},\"mode\":\"lines\",\"x\":[4.822999954223633,4.627999782562256],\"y\":[14.873000144958496,16.304000854492188],\"z\":[4.447000026702881,4.956999778747559],\"type\":\"scatter3d\"},{\"line\":{\"color\":\"blue\",\"width\":2},\"mode\":\"lines\",\"x\":[4.822999954223633,4.822999954223633],\"y\":[14.873000144958496,14.873000144958496],\"z\":[4.447000026702881,4.447000026702881],\"type\":\"scatter3d\"},{\"line\":{\"color\":\"blue\",\"width\":2},\"mode\":\"lines\",\"x\":[4.822999954223633,3.4839999675750732],\"y\":[14.873000144958496,14.567000389099121],\"z\":[4.447000026702881,3.7890000343322754],\"type\":\"scatter3d\"},{\"line\":{\"color\":\"blue\",\"width\":2},\"mode\":\"lines\",\"x\":[4.822999954223633,2.553999900817871],\"y\":[14.873000144958496,13.71500015258789],\"z\":[4.447000026702881,4.60699987411499],\"type\":\"scatter3d\"},{\"line\":{\"color\":\"blue\",\"width\":2},\"mode\":\"lines\",\"x\":[4.822999954223633,2.7209999561309814],\"y\":[14.873000144958496,13.388999938964844],\"z\":[4.447000026702881,7.232999801635742],\"type\":\"scatter3d\"},{\"line\":{\"color\":\"blue\",\"width\":2},\"mode\":\"lines\",\"x\":[4.822999954223633,0.0],\"y\":[14.873000144958496,0.0],\"z\":[4.447000026702881,0.0],\"type\":\"scatter3d\"},{\"line\":{\"color\":\"blue\",\"width\":2},\"mode\":\"lines\",\"x\":[4.822999954223633,0.0],\"y\":[14.873000144958496,0.0],\"z\":[4.447000026702881,0.0],\"type\":\"scatter3d\"},{\"line\":{\"color\":\"blue\",\"width\":2},\"mode\":\"lines\",\"x\":[4.822999954223633,0.0],\"y\":[14.873000144958496,0.0],\"z\":[4.447000026702881,0.0],\"type\":\"scatter3d\"},{\"line\":{\"color\":\"blue\",\"width\":2},\"mode\":\"lines\",\"x\":[4.822999954223633,5.86299991607666],\"y\":[14.873000144958496,14.897000312805176],\"z\":[4.447000026702881,3.4690001010894775],\"type\":\"scatter3d\"},{\"line\":{\"color\":\"blue\",\"width\":2},\"mode\":\"lines\",\"x\":[4.822999954223633,2.86299991607666],\"y\":[14.873000144958496,15.845000267028809],\"z\":[4.447000026702881,3.50600004196167],\"type\":\"scatter3d\"},{\"line\":{\"color\":\"blue\",\"width\":2},\"mode\":\"lines\",\"x\":[4.822999954223633,2.3910000324249268],\"y\":[14.873000144958496,14.215999603271484],\"z\":[4.447000026702881,5.913000106811523],\"type\":\"scatter3d\"},{\"line\":{\"color\":\"blue\",\"width\":2},\"mode\":\"lines\",\"x\":[4.822999954223633,0.0],\"y\":[14.873000144958496,0.0],\"z\":[4.447000026702881,0.0],\"type\":\"scatter3d\"},{\"line\":{\"color\":\"blue\",\"width\":2},\"mode\":\"lines\",\"x\":[4.822999954223633,0.0],\"y\":[14.873000144958496,0.0],\"z\":[4.447000026702881,0.0],\"type\":\"scatter3d\"},{\"line\":{\"color\":\"blue\",\"width\":2},\"mode\":\"lines\",\"x\":[4.822999954223633,0.0],\"y\":[14.873000144958496,0.0],\"z\":[4.447000026702881,0.0],\"type\":\"scatter3d\"},{\"line\":{\"color\":\"blue\",\"width\":2},\"mode\":\"lines\",\"x\":[4.822999954223633,0.0],\"y\":[14.873000144958496,0.0],\"z\":[4.447000026702881,0.0],\"type\":\"scatter3d\"},{\"line\":{\"color\":\"blue\",\"width\":2},\"mode\":\"lines\",\"x\":[3.8970000743865967,1.2430000305175781],\"y\":[11.932999610900879,16.53700065612793],\"z\":[-0.7149999737739563,1.0260000228881836],\"type\":\"scatter3d\"},{\"line\":{\"color\":\"blue\",\"width\":2},\"mode\":\"lines\",\"x\":[3.8970000743865967,2.3289999961853027],\"y\":[11.932999610900879,15.868000030517578],\"z\":[-0.7149999737739563,0.5239999890327454],\"type\":\"scatter3d\"},{\"line\":{\"color\":\"blue\",\"width\":2},\"mode\":\"lines\",\"x\":[3.8970000743865967,3.3399999141693115],\"y\":[11.932999610900879,16.611000061035156],\"z\":[-0.7149999737739563,0.05500000715255737],\"type\":\"scatter3d\"},{\"line\":{\"color\":\"blue\",\"width\":2},\"mode\":\"lines\",\"x\":[3.8970000743865967,2.4240000247955322],\"y\":[11.932999610900879,14.543000221252441],\"z\":[-0.7149999737739563,0.4740000367164612],\"type\":\"scatter3d\"},{\"line\":{\"color\":\"blue\",\"width\":2},\"mode\":\"lines\",\"x\":[3.8970000743865967,1.3589999675750732],\"y\":[11.932999610900879,13.939000129699707],\"z\":[-0.7149999737739563,1.0360000133514404],\"type\":\"scatter3d\"},{\"line\":{\"color\":\"blue\",\"width\":2},\"mode\":\"lines\",\"x\":[3.8970000743865967,0.24000000953674316],\"y\":[11.932999610900879,14.517999649047852],\"z\":[-0.7149999737739563,1.5959999561309814],\"type\":\"scatter3d\"},{\"line\":{\"color\":\"blue\",\"width\":2},\"mode\":\"lines\",\"x\":[3.8970000743865967,0.1640000343322754],\"y\":[11.932999610900879,15.9350004196167],\"z\":[-0.7149999737739563,1.6319999694824219],\"type\":\"scatter3d\"},{\"line\":{\"color\":\"blue\",\"width\":2},\"mode\":\"lines\",\"x\":[3.8970000743865967,-0.7320001125335693],\"y\":[11.932999610900879,16.639999389648438],\"z\":[-0.7149999737739563,2.138000011444092],\"type\":\"scatter3d\"},{\"line\":{\"color\":\"blue\",\"width\":2},\"mode\":\"lines\",\"x\":[3.8970000743865967,-0.6070001125335693],\"y\":[11.932999610900879,13.53600025177002],\"z\":[-0.7149999737739563,2.1040000915527344],\"type\":\"scatter3d\"},{\"line\":{\"color\":\"blue\",\"width\":2},\"mode\":\"lines\",\"x\":[3.8970000743865967,0.002000093460083008],\"y\":[11.932999610900879,12.416000366210938],\"z\":[-0.7149999737739563,1.8410000801086426],\"type\":\"scatter3d\"},{\"line\":{\"color\":\"blue\",\"width\":2},\"mode\":\"lines\",\"x\":[3.8970000743865967,1.1949999332427979],\"y\":[11.932999610900879,12.581999778747559],\"z\":[-0.7149999737739563,1.190999984741211],\"type\":\"scatter3d\"},{\"line\":{\"color\":\"blue\",\"width\":2},\"mode\":\"lines\",\"x\":[3.8970000743865967,2.1470000743865967],\"y\":[11.932999610900879,11.513999938964844],\"z\":[-0.7149999737739563,0.8700000643730164],\"type\":\"scatter3d\"},{\"line\":{\"color\":\"blue\",\"width\":2},\"mode\":\"lines\",\"x\":[3.8970000743865967,2.509000062942505],\"y\":[11.932999610900879,11.387999534606934],\"z\":[-0.7149999737739563,-0.5920000076293945],\"type\":\"scatter3d\"},{\"line\":{\"color\":\"blue\",\"width\":2},\"mode\":\"lines\",\"x\":[3.8970000743865967,3.8970000743865967],\"y\":[11.932999610900879,11.932999610900879],\"z\":[-0.7149999737739563,-0.7149999737739563],\"type\":\"scatter3d\"},{\"line\":{\"color\":\"blue\",\"width\":2},\"mode\":\"lines\",\"x\":[3.8970000743865967,4.460999965667725],\"y\":[11.932999610900879,11.772000312805176],\"z\":[-0.7149999737739563,0.6809999346733093],\"type\":\"scatter3d\"},{\"line\":{\"color\":\"blue\",\"width\":2},\"mode\":\"lines\",\"x\":[3.8970000743865967,5.423999786376953],\"y\":[11.932999610900879,12.875],\"z\":[-0.7149999737739563,1.0870001316070557],\"type\":\"scatter3d\"},{\"line\":{\"color\":\"blue\",\"width\":2},\"mode\":\"lines\",\"x\":[3.8970000743865967,6.795000076293945],\"y\":[11.932999610900879,13.63599967956543],\"z\":[-0.7149999737739563,3.200000047683716],\"type\":\"scatter3d\"},{\"line\":{\"color\":\"blue\",\"width\":2},\"mode\":\"lines\",\"x\":[3.8970000743865967,0.0],\"y\":[11.932999610900879,0.0],\"z\":[-0.7149999737739563,0.0],\"type\":\"scatter3d\"},{\"line\":{\"color\":\"blue\",\"width\":2},\"mode\":\"lines\",\"x\":[3.8970000743865967,0.0],\"y\":[11.932999610900879,0.0],\"z\":[-0.7149999737739563,0.0],\"type\":\"scatter3d\"},{\"line\":{\"color\":\"blue\",\"width\":2},\"mode\":\"lines\",\"x\":[3.8970000743865967,0.0],\"y\":[11.932999610900879,0.0],\"z\":[-0.7149999737739563,0.0],\"type\":\"scatter3d\"},{\"line\":{\"color\":\"blue\",\"width\":2},\"mode\":\"lines\",\"x\":[3.8970000743865967,4.672999858856201],\"y\":[11.932999610900879,11.22700023651123],\"z\":[-0.7149999737739563,-1.6619999408721924],\"type\":\"scatter3d\"},{\"line\":{\"color\":\"blue\",\"width\":2},\"mode\":\"lines\",\"x\":[3.8970000743865967,3.3429999351501465],\"y\":[11.932999610900879,11.777999877929688],\"z\":[-0.7149999737739563,1.5759999752044678],\"type\":\"scatter3d\"},{\"line\":{\"color\":\"blue\",\"width\":2},\"mode\":\"lines\",\"x\":[3.8970000743865967,5.864999771118164],\"y\":[11.932999610900879,12.607999801635742],\"z\":[-0.7149999737739563,2.430999994277954],\"type\":\"scatter3d\"},{\"line\":{\"color\":\"blue\",\"width\":2},\"mode\":\"lines\",\"x\":[3.8970000743865967,0.0],\"y\":[11.932999610900879,0.0],\"z\":[-0.7149999737739563,0.0],\"type\":\"scatter3d\"},{\"line\":{\"color\":\"blue\",\"width\":2},\"mode\":\"lines\",\"x\":[5.13700008392334,2.6689999103546143],\"y\":[23.31599998474121,21.430999755859375],\"z\":[-1.0210000276565552,0.9869998693466187],\"type\":\"scatter3d\"},{\"line\":{\"color\":\"blue\",\"width\":2},\"mode\":\"lines\",\"x\":[5.13700008392334,2.5490000247955322],\"y\":[23.31599998474121,20.03499984741211],\"z\":[-1.0210000276565552,0.9169999361038208],\"type\":\"scatter3d\"},{\"line\":{\"color\":\"blue\",\"width\":2},\"mode\":\"lines\",\"x\":[5.13700008392334,3.513000011444092],\"y\":[23.31599998474121,19.39699935913086],\"z\":[-1.0210000276565552,0.45500004291534424],\"type\":\"scatter3d\"},{\"line\":{\"color\":\"blue\",\"width\":2},\"mode\":\"lines\",\"x\":[5.13700008392334,1.4219999313354492],\"y\":[23.31599998474121,19.441999435424805],\"z\":[-1.0210000276565552,1.343999981880188],\"type\":\"scatter3d\"},{\"line\":{\"color\":\"blue\",\"width\":2},\"mode\":\"lines\",\"x\":[5.13700008392334,0.4120001792907715],\"y\":[23.31599998474121,20.197999954223633],\"z\":[-1.0210000276565552,1.8170000314712524],\"type\":\"scatter3d\"},{\"line\":{\"color\":\"blue\",\"width\":2},\"mode\":\"lines\",\"x\":[5.13700008392334,-0.684999942779541],\"y\":[23.31599998474121,19.57699966430664],\"z\":[-1.0210000276565552,2.249000072479248],\"type\":\"scatter3d\"},{\"line\":{\"color\":\"blue\",\"width\":2},\"mode\":\"lines\",\"x\":[5.13700008392334,0.5170001983642578],\"y\":[23.31599998474121,21.618999481201172],\"z\":[-1.0210000276565552,1.8809999227523804],\"type\":\"scatter3d\"},{\"line\":{\"color\":\"blue\",\"width\":2},\"mode\":\"lines\",\"x\":[5.13700008392334,1.6449999809265137],\"y\":[23.31599998474121,22.180999755859375],\"z\":[-1.0210000276565552,1.4620000123977661],\"type\":\"scatter3d\"},{\"line\":{\"color\":\"blue\",\"width\":2},\"mode\":\"lines\",\"x\":[5.13700008392334,3.936000108718872],\"y\":[23.31599998474121,22.013999938964844],\"z\":[-1.0210000276565552,0.5460000038146973],\"type\":\"scatter3d\"},{\"line\":{\"color\":\"blue\",\"width\":2},\"mode\":\"lines\",\"x\":[5.13700008392334,4.044000148773193],\"y\":[23.31599998474121,22.20199966430664],\"z\":[-1.0210000276565552,-0.9620000123977661],\"type\":\"scatter3d\"},{\"line\":{\"color\":\"blue\",\"width\":2},\"mode\":\"lines\",\"x\":[5.13700008392334,5.13700008392334],\"y\":[23.31599998474121,23.31599998474121],\"z\":[-1.0210000276565552,-1.0210000276565552],\"type\":\"scatter3d\"},{\"line\":{\"color\":\"blue\",\"width\":2},\"mode\":\"lines\",\"x\":[5.13700008392334,4.809999942779541],\"y\":[23.31599998474121,24.158000946044922],\"z\":[-1.0210000276565552,0.19099998474121094],\"type\":\"scatter3d\"},{\"line\":{\"color\":\"blue\",\"width\":2},\"mode\":\"lines\",\"x\":[5.13700008392334,4.090000152587891],\"y\":[23.31599998474121,25.457000732421875],\"z\":[-1.0210000276565552,-0.06199997663497925],\"type\":\"scatter3d\"},{\"line\":{\"color\":\"blue\",\"width\":2},\"mode\":\"lines\",\"x\":[5.13700008392334,0.0],\"y\":[23.31599998474121,0.0],\"z\":[-1.0210000276565552,0.0],\"type\":\"scatter3d\"},{\"line\":{\"color\":\"blue\",\"width\":2},\"mode\":\"lines\",\"x\":[5.13700008392334,0.0],\"y\":[23.31599998474121,0.0],\"z\":[-1.0210000276565552,0.0],\"type\":\"scatter3d\"},{\"line\":{\"color\":\"blue\",\"width\":2},\"mode\":\"lines\",\"x\":[5.13700008392334,0.0],\"y\":[23.31599998474121,0.0],\"z\":[-1.0210000276565552,0.0],\"type\":\"scatter3d\"},{\"line\":{\"color\":\"blue\",\"width\":2},\"mode\":\"lines\",\"x\":[5.13700008392334,0.0],\"y\":[23.31599998474121,0.0],\"z\":[-1.0210000276565552,0.0],\"type\":\"scatter3d\"},{\"line\":{\"color\":\"blue\",\"width\":2},\"mode\":\"lines\",\"x\":[5.13700008392334,6.386000156402588],\"y\":[23.31599998474121,22.6560001373291],\"z\":[-1.0210000276565552,-0.8619999885559082],\"type\":\"scatter3d\"},{\"line\":{\"color\":\"blue\",\"width\":2},\"mode\":\"lines\",\"x\":[5.13700008392334,4.021999835968018],\"y\":[23.31599998474121,23.329999923706055],\"z\":[-1.0210000276565552,1.0750001668930054],\"type\":\"scatter3d\"},{\"line\":{\"color\":\"blue\",\"width\":2},\"mode\":\"lines\",\"x\":[5.13700008392334,2.933000087738037],\"y\":[23.31599998474121,25.259000778198242],\"z\":[-1.0210000276565552,-0.8619999885559082],\"type\":\"scatter3d\"},{\"line\":{\"color\":\"blue\",\"width\":2},\"mode\":\"lines\",\"x\":[5.13700008392334,0.0],\"y\":[23.31599998474121,0.0],\"z\":[-1.0210000276565552,0.0],\"type\":\"scatter3d\"},{\"line\":{\"color\":\"blue\",\"width\":2},\"mode\":\"lines\",\"x\":[5.13700008392334,0.0],\"y\":[23.31599998474121,0.0],\"z\":[-1.0210000276565552,0.0],\"type\":\"scatter3d\"},{\"line\":{\"color\":\"blue\",\"width\":2},\"mode\":\"lines\",\"x\":[5.13700008392334,0.0],\"y\":[23.31599998474121,0.0],\"z\":[-1.0210000276565552,0.0],\"type\":\"scatter3d\"},{\"line\":{\"color\":\"blue\",\"width\":2},\"mode\":\"lines\",\"x\":[5.13700008392334,0.0],\"y\":[23.31599998474121,0.0],\"z\":[-1.0210000276565552,0.0],\"type\":\"scatter3d\"},{\"line\":{\"color\":\"blue\",\"width\":2},\"mode\":\"lines\",\"x\":[9.104000091552734,4.355999946594238],\"y\":[25.881000518798828,22.97599983215332],\"z\":[2.628000020980835,4.080999851226807],\"type\":\"scatter3d\"},{\"line\":{\"color\":\"blue\",\"width\":2},\"mode\":\"lines\",\"x\":[9.104000091552734,5.622000217437744],\"y\":[25.881000518798828,23.02199935913086],\"z\":[2.628000020980835,3.5789999961853027],\"type\":\"scatter3d\"},{\"line\":{\"color\":\"blue\",\"width\":2},\"mode\":\"lines\",\"x\":[9.104000091552734,6.236999988555908],\"y\":[25.881000518798828,21.832000732421875],\"z\":[2.628000020980835,3.3980000019073486],\"type\":\"scatter3d\"},{\"line\":{\"color\":\"blue\",\"width\":2},\"mode\":\"lines\",\"x\":[9.104000091552734,6.271999835968018],\"y\":[25.881000518798828,24.135000228881836],\"z\":[2.628000020980835,3.2720000743865967],\"type\":\"scatter3d\"},{\"line\":{\"color\":\"blue\",\"width\":2},\"mode\":\"lines\",\"x\":[9.104000091552734,5.517000198364258],\"y\":[25.881000518798828,25.238000869750977],\"z\":[2.628000020980835,3.4830000400543213],\"type\":\"scatter3d\"},{\"line\":{\"color\":\"blue\",\"width\":2},\"mode\":\"lines\",\"x\":[9.104000091552734,4.2220001220703125],\"y\":[25.881000518798828,25.29199981689453],\"z\":[2.628000020980835,3.9649999141693115],\"type\":\"scatter3d\"},{\"line\":{\"color\":\"blue\",\"width\":2},\"mode\":\"lines\",\"x\":[9.104000091552734,3.552000045776367],\"y\":[25.881000518798828,24.07900047302246],\"z\":[2.628000020980835,4.269000053405762],\"type\":\"scatter3d\"},{\"line\":{\"color\":\"blue\",\"width\":2},\"mode\":\"lines\",\"x\":[9.104000091552734,2.371000289916992],\"y\":[25.881000518798828,23.944000244140625],\"z\":[2.628000020980835,4.672999858856201],\"type\":\"scatter3d\"},{\"line\":{\"color\":\"blue\",\"width\":2},\"mode\":\"lines\",\"x\":[9.104000091552734,3.75600004196167],\"y\":[25.881000518798828,26.604000091552734],\"z\":[2.628000020980835,4.002999782562256],\"type\":\"scatter3d\"},{\"line\":{\"color\":\"blue\",\"width\":2},\"mode\":\"lines\",\"x\":[9.104000091552734,4.760000228881836],\"y\":[25.881000518798828,27.30299949645996],\"z\":[2.628000020980835,3.555000066757202],\"type\":\"scatter3d\"},{\"line\":{\"color\":\"blue\",\"width\":2},\"mode\":\"lines\",\"x\":[9.104000091552734,5.869999885559082],\"y\":[25.881000518798828,26.540000915527344],\"z\":[2.628000020980835,3.239000082015991],\"type\":\"scatter3d\"},{\"line\":{\"color\":\"blue\",\"width\":2},\"mode\":\"lines\",\"x\":[9.104000091552734,7.066999912261963],\"y\":[25.881000518798828,27.065000534057617],\"z\":[2.628000020980835,2.6080000400543213],\"type\":\"scatter3d\"},{\"line\":{\"color\":\"blue\",\"width\":2},\"mode\":\"lines\",\"x\":[9.104000091552734,8.347999572753906],\"y\":[25.881000518798828,26.927000045776367],\"z\":[2.628000020980835,3.3299999237060547],\"type\":\"scatter3d\"},{\"line\":{\"color\":\"blue\",\"width\":2},\"mode\":\"lines\",\"x\":[9.104000091552734,9.104000091552734],\"y\":[25.881000518798828,25.881000518798828],\"z\":[2.628000020980835,2.628000020980835],\"type\":\"scatter3d\"},{\"line\":{\"color\":\"blue\",\"width\":2},\"mode\":\"lines\",\"x\":[9.104000091552734,8.496000289916992],\"y\":[25.881000518798828,25.86199951171875],\"z\":[2.628000020980835,1.2089999914169312],\"type\":\"scatter3d\"},{\"line\":{\"color\":\"blue\",\"width\":2},\"mode\":\"lines\",\"x\":[9.104000091552734,8.461999893188477],\"y\":[25.881000518798828,24.485000610351562],\"z\":[2.628000020980835,0.6080000400543213],\"type\":\"scatter3d\"},{\"line\":{\"color\":\"blue\",\"width\":2},\"mode\":\"lines\",\"x\":[9.104000091552734,7.735000133514404],\"y\":[25.881000518798828,23.19300079345703],\"z\":[2.628000020980835,-1.5059998035430908],\"type\":\"scatter3d\"},{\"line\":{\"color\":\"blue\",\"width\":2},\"mode\":\"lines\",\"x\":[9.104000091552734,0.0],\"y\":[25.881000518798828,0.0],\"z\":[2.628000020980835,0.0],\"type\":\"scatter3d\"},{\"line\":{\"color\":\"blue\",\"width\":2},\"mode\":\"lines\",\"x\":[9.104000091552734,0.0],\"y\":[25.881000518798828,0.0],\"z\":[2.628000020980835,0.0],\"type\":\"scatter3d\"},{\"line\":{\"color\":\"blue\",\"width\":2},\"mode\":\"lines\",\"x\":[9.104000091552734,0.0],\"y\":[25.881000518798828,0.0],\"z\":[2.628000020980835,0.0],\"type\":\"scatter3d\"},{\"line\":{\"color\":\"blue\",\"width\":2},\"mode\":\"lines\",\"x\":[9.104000091552734,10.508999824523926],\"y\":[25.881000518798828,26.131999969482422],\"z\":[2.628000020980835,2.510999917984009],\"type\":\"scatter3d\"},{\"line\":{\"color\":\"blue\",\"width\":2},\"mode\":\"lines\",\"x\":[9.104000091552734,7.203000068664551],\"y\":[25.881000518798828,26.426000595092773],\"z\":[2.628000020980835,1.3259999752044678],\"type\":\"scatter3d\"},{\"line\":{\"color\":\"blue\",\"width\":2},\"mode\":\"lines\",\"x\":[9.104000091552734,8.062999725341797],\"y\":[25.881000518798828,24.56599998474121],\"z\":[2.628000020980835,-0.7720000743865967],\"type\":\"scatter3d\"},{\"line\":{\"color\":\"blue\",\"width\":2},\"mode\":\"lines\",\"x\":[9.104000091552734,0.0],\"y\":[25.881000518798828,0.0],\"z\":[2.628000020980835,0.0],\"type\":\"scatter3d\"},{\"line\":{\"color\":\"blue\",\"width\":2},\"mode\":\"lines\",\"x\":[11.050000190734863,8.098999977111816],\"y\":[21.472999572753906,22.51300048828125],\"z\":[4.441999912261963,6.401000022888184],\"type\":\"scatter3d\"},{\"line\":{\"color\":\"blue\",\"width\":2},\"mode\":\"lines\",\"x\":[11.050000190734863,6.980000019073486],\"y\":[21.472999572753906,21.768999099731445],\"z\":[4.441999912261963,6.76800012588501],\"type\":\"scatter3d\"},{\"line\":{\"color\":\"blue\",\"width\":2},\"mode\":\"lines\",\"x\":[11.050000190734863,7.089000225067139],\"y\":[21.472999572753906,20.507999420166016],\"z\":[4.441999912261963,6.763999938964844],\"type\":\"scatter3d\"},{\"line\":{\"color\":\"blue\",\"width\":2},\"mode\":\"lines\",\"x\":[11.050000190734863,5.830999851226807],\"y\":[21.472999572753906,22.38800048828125],\"z\":[4.441999912261963,7.0929999351501465],\"type\":\"scatter3d\"},{\"line\":{\"color\":\"blue\",\"width\":2},\"mode\":\"lines\",\"x\":[11.050000190734863,5.744999885559082],\"y\":[21.472999572753906,23.735000610351562],\"z\":[4.441999912261963,7.044000148773193],\"type\":\"scatter3d\"},{\"line\":{\"color\":\"blue\",\"width\":2},\"mode\":\"lines\",\"x\":[11.050000190734863,4.605000019073486],\"y\":[21.472999572753906,24.304000854492188],\"z\":[4.441999912261963,7.364999771118164],\"type\":\"scatter3d\"},{\"line\":{\"color\":\"blue\",\"width\":2},\"mode\":\"lines\",\"x\":[11.050000190734863,6.866000175476074],\"y\":[21.472999572753906,24.534000396728516],\"z\":[4.441999912261963,6.640999794006348],\"type\":\"scatter3d\"},{\"line\":{\"color\":\"blue\",\"width\":2},\"mode\":\"lines\",\"x\":[11.050000190734863,7.982999801635742],\"y\":[21.472999572753906,23.88800048828125],\"z\":[4.441999912261963,6.333000183105469],\"type\":\"scatter3d\"},{\"line\":{\"color\":\"blue\",\"width\":2},\"mode\":\"lines\",\"x\":[11.050000190734863,9.319000244140625],\"y\":[21.472999572753906,21.823999404907227],\"z\":[4.441999912261963,6.0329999923706055],\"type\":\"scatter3d\"},{\"line\":{\"color\":\"blue\",\"width\":2},\"mode\":\"lines\",\"x\":[11.050000190734863,9.527000427246094],\"y\":[21.472999572753906,21.617000579833984],\"z\":[4.441999912261963,4.5370001792907715],\"type\":\"scatter3d\"},{\"line\":{\"color\":\"blue\",\"width\":2},\"mode\":\"lines\",\"x\":[11.050000190734863,11.050000190734863],\"y\":[21.472999572753906,21.472999572753906],\"z\":[4.441999912261963,4.441999912261963],\"type\":\"scatter3d\"},{\"line\":{\"color\":\"blue\",\"width\":2},\"mode\":\"lines\",\"x\":[11.050000190734863,11.538999557495117],\"y\":[21.472999572753906,22.409000396728516],\"z\":[4.441999912261963,5.533999919891357],\"type\":\"scatter3d\"},{\"line\":{\"color\":\"blue\",\"width\":2},\"mode\":\"lines\",\"x\":[11.050000190734863,12.111000061035156],\"y\":[21.472999572753906,23.711999893188477],\"z\":[4.441999912261963,5.0879998207092285],\"type\":\"scatter3d\"},{\"line\":{\"color\":\"blue\",\"width\":2},\"mode\":\"lines\",\"x\":[11.050000190734863,11.46399974822998],\"y\":[21.472999572753906,25.910999298095703],\"z\":[4.441999912261963,3.7769999504089355],\"type\":\"scatter3d\"},{\"line\":{\"color\":\"blue\",\"width\":2},\"mode\":\"lines\",\"x\":[11.050000190734863,0.0],\"y\":[21.472999572753906,0.0],\"z\":[4.441999912261963,0.0],\"type\":\"scatter3d\"},{\"line\":{\"color\":\"blue\",\"width\":2},\"mode\":\"lines\",\"x\":[11.050000190734863,0.0],\"y\":[21.472999572753906,0.0],\"z\":[4.441999912261963,0.0],\"type\":\"scatter3d\"},{\"line\":{\"color\":\"blue\",\"width\":2},\"mode\":\"lines\",\"x\":[11.050000190734863,0.0],\"y\":[21.472999572753906,0.0],\"z\":[4.441999912261963,0.0],\"type\":\"scatter3d\"},{\"line\":{\"color\":\"blue\",\"width\":2},\"mode\":\"lines\",\"x\":[11.050000190734863,11.40999984741211],\"y\":[21.472999572753906,20.1299991607666],\"z\":[4.441999912261963,4.7270002365112305],\"type\":\"scatter3d\"},{\"line\":{\"color\":\"blue\",\"width\":2},\"mode\":\"lines\",\"x\":[11.050000190734863,10.435999870300293],\"y\":[21.472999572753906,22.618000030517578],\"z\":[4.441999912261963,6.431000232696533],\"type\":\"scatter3d\"},{\"line\":{\"color\":\"blue\",\"width\":2},\"mode\":\"lines\",\"x\":[11.050000190734863,11.208999633789062],\"y\":[21.472999572753906,24.40999984741211],\"z\":[4.441999912261963,4.2270002365112305],\"type\":\"scatter3d\"},{\"line\":{\"color\":\"blue\",\"width\":2},\"mode\":\"lines\",\"x\":[11.050000190734863,0.0],\"y\":[21.472999572753906,0.0],\"z\":[4.441999912261963,0.0],\"type\":\"scatter3d\"},{\"line\":{\"color\":\"blue\",\"width\":2},\"mode\":\"lines\",\"x\":[11.050000190734863,0.0],\"y\":[21.472999572753906,0.0],\"z\":[4.441999912261963,0.0],\"type\":\"scatter3d\"},{\"line\":{\"color\":\"blue\",\"width\":2},\"mode\":\"lines\",\"x\":[11.050000190734863,0.0],\"y\":[21.472999572753906,0.0],\"z\":[4.441999912261963,0.0],\"type\":\"scatter3d\"},{\"line\":{\"color\":\"blue\",\"width\":2},\"mode\":\"lines\",\"x\":[11.050000190734863,0.0],\"y\":[21.472999572753906,0.0],\"z\":[4.441999912261963,0.0],\"type\":\"scatter3d\"},{\"line\":{\"color\":\"blue\",\"width\":2},\"mode\":\"lines\",\"x\":[15.13599967956543,10.416000366210938],\"y\":[20.033000946044922,22.900999069213867],\"z\":[8.494999885559082,9.380000114440918],\"type\":\"scatter3d\"},{\"line\":{\"color\":\"blue\",\"width\":2},\"mode\":\"lines\",\"x\":[15.13599967956543,11.152000427246094],\"y\":[20.033000946044922,21.75200080871582],\"z\":[8.494999885559082,9.258000373840332],\"type\":\"scatter3d\"},{\"line\":{\"color\":\"blue\",\"width\":2},\"mode\":\"lines\",\"x\":[15.13599967956543,10.501999855041504],\"y\":[20.033000946044922,20.61199951171875],\"z\":[8.494999885559082,9.52400016784668],\"type\":\"scatter3d\"},{\"line\":{\"color\":\"blue\",\"width\":2},\"mode\":\"lines\",\"x\":[15.13599967956543,12.42300033569336],\"y\":[20.033000946044922,21.7189998626709],\"z\":[8.494999885559082,8.901000022888184],\"type\":\"scatter3d\"},{\"line\":{\"color\":\"blue\",\"width\":2},\"mode\":\"lines\",\"x\":[15.13599967956543,12.92300033569336],\"y\":[20.033000946044922,22.94499969482422],\"z\":[8.494999885559082,8.62600040435791],\"type\":\"scatter3d\"},{\"line\":{\"color\":\"blue\",\"width\":2},\"mode\":\"lines\",\"x\":[15.13599967956543,12.26200008392334],\"y\":[20.033000946044922,24.167999267578125],\"z\":[8.494999885559082,8.722999572753906],\"type\":\"scatter3d\"},{\"line\":{\"color\":\"blue\",\"width\":2},\"mode\":\"lines\",\"x\":[15.13599967956543,10.904999732971191],\"y\":[20.033000946044922,24.177000045776367],\"z\":[8.494999885559082,9.086000442504883],\"type\":\"scatter3d\"},{\"line\":{\"color\":\"blue\",\"width\":2},\"mode\":\"lines\",\"x\":[15.13599967956543,10.145999908447266],\"y\":[20.033000946044922,25.155000686645508],\"z\":[8.494999885559082,9.182000160217285],\"type\":\"scatter3d\"},{\"line\":{\"color\":\"blue\",\"width\":2},\"mode\":\"lines\",\"x\":[15.13599967956543,13.111000061035156],\"y\":[20.033000946044922,25.20800018310547],\"z\":[8.494999885559082,8.34000015258789],\"type\":\"scatter3d\"},{\"line\":{\"color\":\"blue\",\"width\":2},\"mode\":\"lines\",\"x\":[15.13599967956543,14.222999572753906],\"y\":[20.033000946044922,24.62299919128418],\"z\":[8.494999885559082,8.043999671936035],\"type\":\"scatter3d\"},{\"line\":{\"color\":\"blue\",\"width\":2},\"mode\":\"lines\",\"x\":[15.13599967956543,14.170999526977539],\"y\":[20.033000946044922,23.270999908447266],\"z\":[8.494999885559082,8.237000465393066],\"type\":\"scatter3d\"},{\"line\":{\"color\":\"blue\",\"width\":2},\"mode\":\"lines\",\"x\":[15.13599967956543,15.27299976348877],\"y\":[20.033000946044922,22.336999893188477],\"z\":[8.494999885559082,7.926000118255615],\"type\":\"scatter3d\"},{\"line\":{\"color\":\"blue\",\"width\":2},\"mode\":\"lines\",\"x\":[15.13599967956543,15.593999862670898],\"y\":[20.033000946044922,21.363000869750977],\"z\":[8.494999885559082,9.0],\"type\":\"scatter3d\"},{\"line\":{\"color\":\"blue\",\"width\":2},\"mode\":\"lines\",\"x\":[15.13599967956543,15.13599967956543],\"y\":[20.033000946044922,20.033000946044922],\"z\":[8.494999885559082,8.494999885559082],\"type\":\"scatter3d\"},{\"line\":{\"color\":\"blue\",\"width\":2},\"mode\":\"lines\",\"x\":[15.13599967956543,15.062999725341797],\"y\":[20.033000946044922,20.197999954223633],\"z\":[8.494999885559082,6.993000030517578],\"type\":\"scatter3d\"},{\"line\":{\"color\":\"blue\",\"width\":2},\"mode\":\"lines\",\"x\":[15.13599967956543,13.9350004196167],\"y\":[20.033000946044922,19.44700050354004],\"z\":[8.494999885559082,6.307000160217285],\"type\":\"scatter3d\"},{\"line\":{\"color\":\"blue\",\"width\":2},\"mode\":\"lines\",\"x\":[15.13599967956543,12.63700008392334],\"y\":[20.033000946044922,19.392000198364258],\"z\":[8.494999885559082,4.015999794006348],\"type\":\"scatter3d\"},{\"line\":{\"color\":\"blue\",\"width\":2},\"mode\":\"lines\",\"x\":[15.13599967956543,0.0],\"y\":[20.033000946044922,0.0],\"z\":[8.494999885559082,0.0],\"type\":\"scatter3d\"},{\"line\":{\"color\":\"blue\",\"width\":2},\"mode\":\"lines\",\"x\":[15.13599967956543,0.0],\"y\":[20.033000946044922,0.0],\"z\":[8.494999885559082,0.0],\"type\":\"scatter3d\"},{\"line\":{\"color\":\"blue\",\"width\":2},\"mode\":\"lines\",\"x\":[15.13599967956543,0.0],\"y\":[20.033000946044922,0.0],\"z\":[8.494999885559082,0.0],\"type\":\"scatter3d\"},{\"line\":{\"color\":\"blue\",\"width\":2},\"mode\":\"lines\",\"x\":[15.13599967956543,16.066999435424805],\"y\":[20.033000946044922,18.98200035095215],\"z\":[8.494999885559082,8.833000183105469],\"type\":\"scatter3d\"},{\"line\":{\"color\":\"blue\",\"width\":2},\"mode\":\"lines\",\"x\":[15.13599967956543,14.920999526977539],\"y\":[20.033000946044922,21.604999542236328],\"z\":[8.494999885559082,6.755000114440918],\"type\":\"scatter3d\"},{\"line\":{\"color\":\"blue\",\"width\":2},\"mode\":\"lines\",\"x\":[15.13599967956543,13.892999649047852],\"y\":[20.033000946044922,19.843000411987305],\"z\":[8.494999885559082,4.915999889373779],\"type\":\"scatter3d\"},{\"line\":{\"color\":\"blue\",\"width\":2},\"mode\":\"lines\",\"x\":[15.13599967956543,0.0],\"y\":[20.033000946044922,0.0],\"z\":[8.494999885559082,0.0],\"type\":\"scatter3d\"},{\"line\":{\"color\":\"blue\",\"width\":2},\"mode\":\"lines\",\"x\":[12.902000427246094,12.53600025177002],\"y\":[17.566999435424805,21.233999252319336],\"z\":[12.729000091552734,12.98900032043457],\"type\":\"scatter3d\"},{\"line\":{\"color\":\"blue\",\"width\":2},\"mode\":\"lines\",\"x\":[12.902000427246094,11.269000053405762],\"y\":[17.566999435424805,21.827999114990234],\"z\":[12.729000091552734,13.159000396728516],\"type\":\"scatter3d\"},{\"line\":{\"color\":\"blue\",\"width\":2},\"mode\":\"lines\",\"x\":[12.902000427246094,10.36299991607666],\"y\":[17.566999435424805,21.11199951171875],\"z\":[12.729000091552734,13.619999885559082],\"type\":\"scatter3d\"},{\"line\":{\"color\":\"blue\",\"width\":2},\"mode\":\"lines\",\"x\":[12.902000427246094,11.100000381469727],\"y\":[17.566999435424805,23.110000610351562],\"z\":[12.729000091552734,12.854000091552734],\"type\":\"scatter3d\"},{\"line\":{\"color\":\"blue\",\"width\":2},\"mode\":\"lines\",\"x\":[12.902000427246094,12.130000114440918],\"y\":[17.566999435424805,23.819000244140625],\"z\":[12.729000091552734,12.355999946594238],\"type\":\"scatter3d\"},{\"line\":{\"color\":\"blue\",\"width\":2},\"mode\":\"lines\",\"x\":[12.902000427246094,11.909000396728516],\"y\":[17.566999435424805,25.094999313354492],\"z\":[12.729000091552734,12.086999893188477],\"type\":\"scatter3d\"},{\"line\":{\"color\":\"blue\",\"width\":2},\"mode\":\"lines\",\"x\":[12.902000427246094,13.414999961853027],\"y\":[17.566999435424805,23.225000381469727],\"z\":[12.729000091552734,12.156999588012695],\"type\":\"scatter3d\"},{\"line\":{\"color\":\"blue\",\"width\":2},\"mode\":\"lines\",\"x\":[12.902000427246094,13.553999900817871],\"y\":[17.566999435424805,21.94499969482422],\"z\":[12.729000091552734,12.479000091552734],\"type\":\"scatter3d\"},{\"line\":{\"color\":\"blue\",\"width\":2},\"mode\":\"lines\",\"x\":[12.902000427246094,12.675000190734863],\"y\":[17.566999435424805,19.83300018310547],\"z\":[12.729000091552734,13.315999984741211],\"type\":\"scatter3d\"},{\"line\":{\"color\":\"blue\",\"width\":2},\"mode\":\"lines\",\"x\":[12.902000427246094,12.208000183105469],\"y\":[17.566999435424805,18.85300064086914],\"z\":[12.729000091552734,12.23900032043457],\"type\":\"scatter3d\"},{\"line\":{\"color\":\"blue\",\"width\":2},\"mode\":\"lines\",\"x\":[12.902000427246094,12.902000427246094],\"y\":[17.566999435424805,17.566999435424805],\"z\":[12.729000091552734,12.729000091552734],\"type\":\"scatter3d\"},{\"line\":{\"color\":\"blue\",\"width\":2},\"mode\":\"lines\",\"x\":[12.902000427246094,14.22599983215332],\"y\":[17.566999435424805,18.08300018310547],\"z\":[12.729000091552734,13.274999618530273],\"type\":\"scatter3d\"},{\"line\":{\"color\":\"blue\",\"width\":2},\"mode\":\"lines\",\"x\":[12.902000427246094,15.402999877929688],\"y\":[17.566999435424805,17.884000778198242],\"z\":[12.729000091552734,12.338000297546387],\"type\":\"scatter3d\"},{\"line\":{\"color\":\"blue\",\"width\":2},\"mode\":\"lines\",\"x\":[12.902000427246094,15.559000015258789],\"y\":[17.566999435424805,17.732999801635742],\"z\":[12.729000091552734,9.697999954223633],\"type\":\"scatter3d\"},{\"line\":{\"color\":\"blue\",\"width\":2},\"mode\":\"lines\",\"x\":[12.902000427246094,0.0],\"y\":[17.566999435424805,0.0],\"z\":[12.729000091552734,0.0],\"type\":\"scatter3d\"},{\"line\":{\"color\":\"blue\",\"width\":2},\"mode\":\"lines\",\"x\":[12.902000427246094,0.0],\"y\":[17.566999435424805,0.0],\"z\":[12.729000091552734,0.0],\"type\":\"scatter3d\"},{\"line\":{\"color\":\"blue\",\"width\":2},\"mode\":\"lines\",\"x\":[12.902000427246094,0.0],\"y\":[17.566999435424805,0.0],\"z\":[12.729000091552734,0.0],\"type\":\"scatter3d\"},{\"line\":{\"color\":\"blue\",\"width\":2},\"mode\":\"lines\",\"x\":[12.902000427246094,12.11299991607666],\"y\":[17.566999435424805,17.02899932861328],\"z\":[12.729000091552734,13.803000450134277],\"type\":\"scatter3d\"},{\"line\":{\"color\":\"blue\",\"width\":2},\"mode\":\"lines\",\"x\":[12.902000427246094,14.050999641418457],\"y\":[17.566999435424805,19.51300048828125],\"z\":[12.729000091552734,13.498000144958496],\"type\":\"scatter3d\"},{\"line\":{\"color\":\"blue\",\"width\":2},\"mode\":\"lines\",\"x\":[12.902000427246094,15.10099983215332],\"y\":[17.566999435424805,18.402000427246094],\"z\":[12.729000091552734,11.053999900817871],\"type\":\"scatter3d\"},{\"line\":{\"color\":\"blue\",\"width\":2},\"mode\":\"lines\",\"x\":[12.902000427246094,0.0],\"y\":[17.566999435424805,0.0],\"z\":[12.729000091552734,0.0],\"type\":\"scatter3d\"},{\"line\":{\"color\":\"blue\",\"width\":2},\"mode\":\"lines\",\"x\":[12.902000427246094,0.0],\"y\":[17.566999435424805,0.0],\"z\":[12.729000091552734,0.0],\"type\":\"scatter3d\"},{\"line\":{\"color\":\"blue\",\"width\":2},\"mode\":\"lines\",\"x\":[12.902000427246094,0.0],\"y\":[17.566999435424805,0.0],\"z\":[12.729000091552734,0.0],\"type\":\"scatter3d\"},{\"line\":{\"color\":\"blue\",\"width\":2},\"mode\":\"lines\",\"x\":[12.902000427246094,0.0],\"y\":[17.566999435424805,0.0],\"z\":[12.729000091552734,0.0],\"type\":\"scatter3d\"},{\"line\":{\"color\":\"blue\",\"width\":2},\"mode\":\"lines\",\"x\":[16.097999572753906,14.793000221252441],\"y\":[14.447999954223633,20.785999298095703],\"z\":[16.93899917602539,16.143999099731445],\"type\":\"scatter3d\"},{\"line\":{\"color\":\"blue\",\"width\":2},\"mode\":\"lines\",\"x\":[16.097999572753906,14.34000015258789],\"y\":[14.447999954223633,19.554000854492188],\"z\":[16.93899917602539,16.542999267578125],\"type\":\"scatter3d\"},{\"line\":{\"color\":\"blue\",\"width\":2},\"mode\":\"lines\",\"x\":[16.097999572753906,13.098999977111816],\"y\":[14.447999954223633,19.52899932861328],\"z\":[16.93899917602539,17.04400062561035],\"type\":\"scatter3d\"},{\"line\":{\"color\":\"blue\",\"width\":2},\"mode\":\"lines\",\"x\":[16.097999572753906,15.045000076293945],\"y\":[14.447999954223633,18.441999435424805],\"z\":[16.93899917602539,16.461000442504883],\"type\":\"scatter3d\"},{\"line\":{\"color\":\"blue\",\"width\":2},\"mode\":\"lines\",\"x\":[16.097999572753906,16.26300048828125],\"y\":[14.447999954223633,18.634000778198242],\"z\":[16.93899917602539,15.895000457763672],\"type\":\"scatter3d\"},{\"line\":{\"color\":\"blue\",\"width\":2},\"mode\":\"lines\",\"x\":[16.097999572753906,16.799999237060547],\"y\":[14.447999954223633,19.836000442504883],\"z\":[16.93899917602539,15.456000328063965],\"type\":\"scatter3d\"},{\"line\":{\"color\":\"blue\",\"width\":2},\"mode\":\"lines\",\"x\":[16.097999572753906,16.020999908447266],\"y\":[14.447999954223633,21.013999938964844],\"z\":[16.93899917602539,15.541999816894531],\"type\":\"scatter3d\"},{\"line\":{\"color\":\"blue\",\"width\":2},\"mode\":\"lines\",\"x\":[16.097999572753906,16.326000213623047],\"y\":[14.447999954223633,22.16900062561035],\"z\":[16.93899917602539,15.204999923706055],\"type\":\"scatter3d\"},{\"line\":{\"color\":\"blue\",\"width\":2},\"mode\":\"lines\",\"x\":[16.097999572753906,18.038000106811523],\"y\":[14.447999954223633,19.62299919128418],\"z\":[16.93899917602539,14.881999969482422],\"type\":\"scatter3d\"},{\"line\":{\"color\":\"blue\",\"width\":2},\"mode\":\"lines\",\"x\":[16.097999572753906,18.26799964904785],\"y\":[14.447999954223633,18.357999801635742],\"z\":[16.93899917602539,15.00100040435791],\"type\":\"scatter3d\"},{\"line\":{\"color\":\"blue\",\"width\":2},\"mode\":\"lines\",\"x\":[16.097999572753906,17.208999633789062],\"y\":[14.447999954223633,17.69300079345703],\"z\":[16.93899917602539,15.616000175476074],\"type\":\"scatter3d\"},{\"line\":{\"color\":\"blue\",\"width\":2},\"mode\":\"lines\",\"x\":[16.097999572753906,17.149999618530273],\"y\":[14.447999954223633,16.256000518798828],\"z\":[16.93899917602539,15.83899974822998],\"type\":\"scatter3d\"},{\"line\":{\"color\":\"blue\",\"width\":2},\"mode\":\"lines\",\"x\":[16.097999572753906,16.7189998626709],\"y\":[14.447999954223633,15.814000129699707],\"z\":[16.93899917602539,17.211000442504883],\"type\":\"scatter3d\"},{\"line\":{\"color\":\"blue\",\"width\":2},\"mode\":\"lines\",\"x\":[16.097999572753906,16.097999572753906],\"y\":[14.447999954223633,14.447999954223633],\"z\":[16.93899917602539,16.93899917602539],\"type\":\"scatter3d\"},{\"line\":{\"color\":\"blue\",\"width\":2},\"mode\":\"lines\",\"x\":[16.097999572753906,15.467000007629395],\"y\":[14.447999954223633,14.640999794006348],\"z\":[16.93899917602539,15.5600004196167],\"type\":\"scatter3d\"},{\"line\":{\"color\":\"blue\",\"width\":2},\"mode\":\"lines\",\"x\":[16.097999572753906,14.003000259399414],\"y\":[14.447999954223633,15.053999900817871],\"z\":[16.93899917602539,15.619000434875488],\"type\":\"scatter3d\"},{\"line\":{\"color\":\"blue\",\"width\":2},\"mode\":\"lines\",\"x\":[16.097999572753906,11.977999687194824],\"y\":[14.447999954223633,15.442999839782715],\"z\":[16.93899917602539,13.975000381469727],\"type\":\"scatter3d\"},{\"line\":{\"color\":\"blue\",\"width\":2},\"mode\":\"lines\",\"x\":[16.097999572753906,0.0],\"y\":[14.447999954223633,0.0],\"z\":[16.93899917602539,0.0],\"type\":\"scatter3d\"},{\"line\":{\"color\":\"blue\",\"width\":2},\"mode\":\"lines\",\"x\":[16.097999572753906,0.0],\"y\":[14.447999954223633,0.0],\"z\":[16.93899917602539,0.0],\"type\":\"scatter3d\"},{\"line\":{\"color\":\"blue\",\"width\":2},\"mode\":\"lines\",\"x\":[16.097999572753906,0.0],\"y\":[14.447999954223633,0.0],\"z\":[16.93899917602539,0.0],\"type\":\"scatter3d\"},{\"line\":{\"color\":\"blue\",\"width\":2},\"mode\":\"lines\",\"x\":[16.097999572753906,17.142000198364258],\"y\":[14.447999954223633,13.468999862670898],\"z\":[16.93899917602539,16.850000381469727],\"type\":\"scatter3d\"},{\"line\":{\"color\":\"blue\",\"width\":2},\"mode\":\"lines\",\"x\":[16.097999572753906,16.218000411987305],\"y\":[14.447999954223633,15.696999549865723],\"z\":[16.93899917602539,14.920000076293945],\"type\":\"scatter3d\"},{\"line\":{\"color\":\"blue\",\"width\":2},\"mode\":\"lines\",\"x\":[16.097999572753906,13.4399995803833],\"y\":[14.447999954223633,14.967000007629395],\"z\":[16.93899917602539,14.305999755859375],\"type\":\"scatter3d\"},{\"line\":{\"color\":\"blue\",\"width\":2},\"mode\":\"lines\",\"x\":[16.097999572753906,0.0],\"y\":[14.447999954223633,0.0],\"z\":[16.93899917602539,0.0],\"type\":\"scatter3d\"}],                        {\"template\":{\"data\":{\"histogram2dcontour\":[{\"type\":\"histogram2dcontour\",\"colorbar\":{\"outlinewidth\":0,\"ticks\":\"\"},\"colorscale\":[[0.0,\"#0d0887\"],[0.1111111111111111,\"#46039f\"],[0.2222222222222222,\"#7201a8\"],[0.3333333333333333,\"#9c179e\"],[0.4444444444444444,\"#bd3786\"],[0.5555555555555556,\"#d8576b\"],[0.6666666666666666,\"#ed7953\"],[0.7777777777777778,\"#fb9f3a\"],[0.8888888888888888,\"#fdca26\"],[1.0,\"#f0f921\"]]}],\"choropleth\":[{\"type\":\"choropleth\",\"colorbar\":{\"outlinewidth\":0,\"ticks\":\"\"}}],\"histogram2d\":[{\"type\":\"histogram2d\",\"colorbar\":{\"outlinewidth\":0,\"ticks\":\"\"},\"colorscale\":[[0.0,\"#0d0887\"],[0.1111111111111111,\"#46039f\"],[0.2222222222222222,\"#7201a8\"],[0.3333333333333333,\"#9c179e\"],[0.4444444444444444,\"#bd3786\"],[0.5555555555555556,\"#d8576b\"],[0.6666666666666666,\"#ed7953\"],[0.7777777777777778,\"#fb9f3a\"],[0.8888888888888888,\"#fdca26\"],[1.0,\"#f0f921\"]]}],\"heatmap\":[{\"type\":\"heatmap\",\"colorbar\":{\"outlinewidth\":0,\"ticks\":\"\"},\"colorscale\":[[0.0,\"#0d0887\"],[0.1111111111111111,\"#46039f\"],[0.2222222222222222,\"#7201a8\"],[0.3333333333333333,\"#9c179e\"],[0.4444444444444444,\"#bd3786\"],[0.5555555555555556,\"#d8576b\"],[0.6666666666666666,\"#ed7953\"],[0.7777777777777778,\"#fb9f3a\"],[0.8888888888888888,\"#fdca26\"],[1.0,\"#f0f921\"]]}],\"heatmapgl\":[{\"type\":\"heatmapgl\",\"colorbar\":{\"outlinewidth\":0,\"ticks\":\"\"},\"colorscale\":[[0.0,\"#0d0887\"],[0.1111111111111111,\"#46039f\"],[0.2222222222222222,\"#7201a8\"],[0.3333333333333333,\"#9c179e\"],[0.4444444444444444,\"#bd3786\"],[0.5555555555555556,\"#d8576b\"],[0.6666666666666666,\"#ed7953\"],[0.7777777777777778,\"#fb9f3a\"],[0.8888888888888888,\"#fdca26\"],[1.0,\"#f0f921\"]]}],\"contourcarpet\":[{\"type\":\"contourcarpet\",\"colorbar\":{\"outlinewidth\":0,\"ticks\":\"\"}}],\"contour\":[{\"type\":\"contour\",\"colorbar\":{\"outlinewidth\":0,\"ticks\":\"\"},\"colorscale\":[[0.0,\"#0d0887\"],[0.1111111111111111,\"#46039f\"],[0.2222222222222222,\"#7201a8\"],[0.3333333333333333,\"#9c179e\"],[0.4444444444444444,\"#bd3786\"],[0.5555555555555556,\"#d8576b\"],[0.6666666666666666,\"#ed7953\"],[0.7777777777777778,\"#fb9f3a\"],[0.8888888888888888,\"#fdca26\"],[1.0,\"#f0f921\"]]}],\"surface\":[{\"type\":\"surface\",\"colorbar\":{\"outlinewidth\":0,\"ticks\":\"\"},\"colorscale\":[[0.0,\"#0d0887\"],[0.1111111111111111,\"#46039f\"],[0.2222222222222222,\"#7201a8\"],[0.3333333333333333,\"#9c179e\"],[0.4444444444444444,\"#bd3786\"],[0.5555555555555556,\"#d8576b\"],[0.6666666666666666,\"#ed7953\"],[0.7777777777777778,\"#fb9f3a\"],[0.8888888888888888,\"#fdca26\"],[1.0,\"#f0f921\"]]}],\"mesh3d\":[{\"type\":\"mesh3d\",\"colorbar\":{\"outlinewidth\":0,\"ticks\":\"\"}}],\"scatter\":[{\"fillpattern\":{\"fillmode\":\"overlay\",\"size\":10,\"solidity\":0.2},\"type\":\"scatter\"}],\"parcoords\":[{\"type\":\"parcoords\",\"line\":{\"colorbar\":{\"outlinewidth\":0,\"ticks\":\"\"}}}],\"scatterpolargl\":[{\"type\":\"scatterpolargl\",\"marker\":{\"colorbar\":{\"outlinewidth\":0,\"ticks\":\"\"}}}],\"bar\":[{\"error_x\":{\"color\":\"#2a3f5f\"},\"error_y\":{\"color\":\"#2a3f5f\"},\"marker\":{\"line\":{\"color\":\"#E5ECF6\",\"width\":0.5},\"pattern\":{\"fillmode\":\"overlay\",\"size\":10,\"solidity\":0.2}},\"type\":\"bar\"}],\"scattergeo\":[{\"type\":\"scattergeo\",\"marker\":{\"colorbar\":{\"outlinewidth\":0,\"ticks\":\"\"}}}],\"scatterpolar\":[{\"type\":\"scatterpolar\",\"marker\":{\"colorbar\":{\"outlinewidth\":0,\"ticks\":\"\"}}}],\"histogram\":[{\"marker\":{\"pattern\":{\"fillmode\":\"overlay\",\"size\":10,\"solidity\":0.2}},\"type\":\"histogram\"}],\"scattergl\":[{\"type\":\"scattergl\",\"marker\":{\"colorbar\":{\"outlinewidth\":0,\"ticks\":\"\"}}}],\"scatter3d\":[{\"type\":\"scatter3d\",\"line\":{\"colorbar\":{\"outlinewidth\":0,\"ticks\":\"\"}},\"marker\":{\"colorbar\":{\"outlinewidth\":0,\"ticks\":\"\"}}}],\"scattermapbox\":[{\"type\":\"scattermapbox\",\"marker\":{\"colorbar\":{\"outlinewidth\":0,\"ticks\":\"\"}}}],\"scatterternary\":[{\"type\":\"scatterternary\",\"marker\":{\"colorbar\":{\"outlinewidth\":0,\"ticks\":\"\"}}}],\"scattercarpet\":[{\"type\":\"scattercarpet\",\"marker\":{\"colorbar\":{\"outlinewidth\":0,\"ticks\":\"\"}}}],\"carpet\":[{\"aaxis\":{\"endlinecolor\":\"#2a3f5f\",\"gridcolor\":\"white\",\"linecolor\":\"white\",\"minorgridcolor\":\"white\",\"startlinecolor\":\"#2a3f5f\"},\"baxis\":{\"endlinecolor\":\"#2a3f5f\",\"gridcolor\":\"white\",\"linecolor\":\"white\",\"minorgridcolor\":\"white\",\"startlinecolor\":\"#2a3f5f\"},\"type\":\"carpet\"}],\"table\":[{\"cells\":{\"fill\":{\"color\":\"#EBF0F8\"},\"line\":{\"color\":\"white\"}},\"header\":{\"fill\":{\"color\":\"#C8D4E3\"},\"line\":{\"color\":\"white\"}},\"type\":\"table\"}],\"barpolar\":[{\"marker\":{\"line\":{\"color\":\"#E5ECF6\",\"width\":0.5},\"pattern\":{\"fillmode\":\"overlay\",\"size\":10,\"solidity\":0.2}},\"type\":\"barpolar\"}],\"pie\":[{\"automargin\":true,\"type\":\"pie\"}]},\"layout\":{\"autotypenumbers\":\"strict\",\"colorway\":[\"#636efa\",\"#EF553B\",\"#00cc96\",\"#ab63fa\",\"#FFA15A\",\"#19d3f3\",\"#FF6692\",\"#B6E880\",\"#FF97FF\",\"#FECB52\"],\"font\":{\"color\":\"#2a3f5f\"},\"hovermode\":\"closest\",\"hoverlabel\":{\"align\":\"left\"},\"paper_bgcolor\":\"white\",\"plot_bgcolor\":\"#E5ECF6\",\"polar\":{\"bgcolor\":\"#E5ECF6\",\"angularaxis\":{\"gridcolor\":\"white\",\"linecolor\":\"white\",\"ticks\":\"\"},\"radialaxis\":{\"gridcolor\":\"white\",\"linecolor\":\"white\",\"ticks\":\"\"}},\"ternary\":{\"bgcolor\":\"#E5ECF6\",\"aaxis\":{\"gridcolor\":\"white\",\"linecolor\":\"white\",\"ticks\":\"\"},\"baxis\":{\"gridcolor\":\"white\",\"linecolor\":\"white\",\"ticks\":\"\"},\"caxis\":{\"gridcolor\":\"white\",\"linecolor\":\"white\",\"ticks\":\"\"}},\"coloraxis\":{\"colorbar\":{\"outlinewidth\":0,\"ticks\":\"\"}},\"colorscale\":{\"sequential\":[[0.0,\"#0d0887\"],[0.1111111111111111,\"#46039f\"],[0.2222222222222222,\"#7201a8\"],[0.3333333333333333,\"#9c179e\"],[0.4444444444444444,\"#bd3786\"],[0.5555555555555556,\"#d8576b\"],[0.6666666666666666,\"#ed7953\"],[0.7777777777777778,\"#fb9f3a\"],[0.8888888888888888,\"#fdca26\"],[1.0,\"#f0f921\"]],\"sequentialminus\":[[0.0,\"#0d0887\"],[0.1111111111111111,\"#46039f\"],[0.2222222222222222,\"#7201a8\"],[0.3333333333333333,\"#9c179e\"],[0.4444444444444444,\"#bd3786\"],[0.5555555555555556,\"#d8576b\"],[0.6666666666666666,\"#ed7953\"],[0.7777777777777778,\"#fb9f3a\"],[0.8888888888888888,\"#fdca26\"],[1.0,\"#f0f921\"]],\"diverging\":[[0,\"#8e0152\"],[0.1,\"#c51b7d\"],[0.2,\"#de77ae\"],[0.3,\"#f1b6da\"],[0.4,\"#fde0ef\"],[0.5,\"#f7f7f7\"],[0.6,\"#e6f5d0\"],[0.7,\"#b8e186\"],[0.8,\"#7fbc41\"],[0.9,\"#4d9221\"],[1,\"#276419\"]]},\"xaxis\":{\"gridcolor\":\"white\",\"linecolor\":\"white\",\"ticks\":\"\",\"title\":{\"standoff\":15},\"zerolinecolor\":\"white\",\"automargin\":true,\"zerolinewidth\":2},\"yaxis\":{\"gridcolor\":\"white\",\"linecolor\":\"white\",\"ticks\":\"\",\"title\":{\"standoff\":15},\"zerolinecolor\":\"white\",\"automargin\":true,\"zerolinewidth\":2},\"scene\":{\"xaxis\":{\"backgroundcolor\":\"#E5ECF6\",\"gridcolor\":\"white\",\"linecolor\":\"white\",\"showbackground\":true,\"ticks\":\"\",\"zerolinecolor\":\"white\",\"gridwidth\":2},\"yaxis\":{\"backgroundcolor\":\"#E5ECF6\",\"gridcolor\":\"white\",\"linecolor\":\"white\",\"showbackground\":true,\"ticks\":\"\",\"zerolinecolor\":\"white\",\"gridwidth\":2},\"zaxis\":{\"backgroundcolor\":\"#E5ECF6\",\"gridcolor\":\"white\",\"linecolor\":\"white\",\"showbackground\":true,\"ticks\":\"\",\"zerolinecolor\":\"white\",\"gridwidth\":2}},\"shapedefaults\":{\"line\":{\"color\":\"#2a3f5f\"}},\"annotationdefaults\":{\"arrowcolor\":\"#2a3f5f\",\"arrowhead\":0,\"arrowwidth\":1},\"geo\":{\"bgcolor\":\"white\",\"landcolor\":\"#E5ECF6\",\"subunitcolor\":\"white\",\"showland\":true,\"showlakes\":true,\"lakecolor\":\"white\"},\"title\":{\"x\":0.05},\"mapbox\":{\"style\":\"light\"}}},\"scene\":{\"xaxis\":{\"title\":{\"text\":\"X-axis\"}},\"yaxis\":{\"title\":{\"text\":\"Y-axis\"}},\"zaxis\":{\"title\":{\"text\":\"Z-axis\"}}},\"title\":{\"text\":\"Line in 3D Space\"}},                        {\"responsive\": true}                    ).then(function(){\n",
       "                            \n",
       "var gd = document.getElementById('f139d121-f1f9-40ab-b178-71c2a46177aa');\n",
       "var x = new MutationObserver(function (mutations, observer) {{\n",
       "        var display = window.getComputedStyle(gd).display;\n",
       "        if (!display || display === 'none') {{\n",
       "            console.log([gd, 'removed!']);\n",
       "            Plotly.purge(gd);\n",
       "            observer.disconnect();\n",
       "        }}\n",
       "}});\n",
       "\n",
       "// Listen for the removal of the full notebook cells\n",
       "var notebookContainer = gd.closest('#notebook-container');\n",
       "if (notebookContainer) {{\n",
       "    x.observe(notebookContainer, {childList: true});\n",
       "}}\n",
       "\n",
       "// Listen for the clearing of the current output cell\n",
       "var outputEl = gd.closest('.output');\n",
       "if (outputEl) {{\n",
       "    x.observe(outputEl, {childList: true});\n",
       "}}\n",
       "\n",
       "                        })                };                });            </script>        </div>"
      ]
     },
     "metadata": {},
     "output_type": "display_data"
    }
   ],
   "source": [
    "# Starting and ending coordinates of the line\n",
    "# scatter_data = _scatter(name='visualize', ca_coord = internal.coord, atom_coord=atom_coord, atom_mask=np.array(internal.mask_coord).astype(bool), color='blue', visible=True)\n",
    "start_coords = internal.coord\n",
    "end_coords = atom_coord\n",
    "\n",
    "# Create a 3D scatter plot\n",
    "fig = go.Figure()\n",
    "for coord in range(len(start_coords)):\n",
    "    for atom in range(24):\n",
    "        fig.add_trace(go.Scatter3d(x=[start_coords[coord][0], end_coords[coord][atom][0]], \n",
    "                            y=[start_coords[coord][1], end_coords[coord][atom][1]], \n",
    "                            z=[start_coords[coord][2], end_coords[coord][atom][2]], \n",
    "                            mode='lines', line=dict(color='blue', width=2)))\n",
    "\n",
    "# Update layout if needed (e.g., axis labels, title, etc.)\n",
    "fig.update_layout(scene=dict(xaxis=dict(title='X-axis'), yaxis=dict(title='Y-axis'), zaxis=dict(title='Z-axis')), title='Line in 3D Space')\n",
    "\n",
    "# Show the plot\n",
    "fig.show()"
   ]
  },
  {
   "cell_type": "code",
   "execution_count": 18,
   "metadata": {},
   "outputs": [
    {
     "data": {
      "text/plain": [
       "((3, 4),\n",
       " array([[ 1,  2,  3, 11],\n",
       "        [ 4,  5,  6, 44],\n",
       "        [ 7,  8,  9, 77]]))"
      ]
     },
     "execution_count": 18,
     "metadata": {},
     "output_type": "execute_result"
    }
   ],
   "source": [
    "#einops tutorial:\n",
    "a = np.array([[1,2,3,11],[4,5,6, 44],[7,8,9, 77]])\n",
    "a.shape, a"
   ]
  },
  {
   "cell_type": "code",
   "execution_count": 16,
   "metadata": {},
   "outputs": [
    {
     "data": {
      "text/plain": [
       "((1, 4, 3),\n",
       " array([[[ 1,  4,  7],\n",
       "         [ 2,  5,  8],\n",
       "         [ 3,  6,  9],\n",
       "         [11, 44, 77]]]))"
      ]
     },
     "execution_count": 16,
     "metadata": {},
     "output_type": "execute_result"
    }
   ],
   "source": [
    "b = rearrange(a, 'i j -> () j i')\n",
    "b.shape, b"
   ]
  },
  {
   "cell_type": "code",
   "execution_count": 19,
   "metadata": {},
   "outputs": [
    {
     "data": {
      "text/plain": [
       "((1, 12), array([[ 1,  4,  7,  2,  5,  8,  3,  6,  9, 11, 44, 77]]))"
      ]
     },
     "execution_count": 19,
     "metadata": {},
     "output_type": "execute_result"
    }
   ],
   "source": [
    "b = rearrange(a, 'i j -> () (j i)')\n",
    "b.shape, b"
   ]
  },
  {
   "cell_type": "code",
   "execution_count": 28,
   "metadata": {},
   "outputs": [
    {
     "data": {
      "text/plain": [
       "((1, 2, 6),\n",
       " array([[[ 1,  4,  7,  2,  5,  8],\n",
       "         [ 3,  6,  9, 11, 44, 77]]]))"
      ]
     },
     "execution_count": 28,
     "metadata": {},
     "output_type": "execute_result"
    }
   ],
   "source": [
    "k = np.array([[[ 1,  4,  7],\n",
    "         [ 2,  5,  8],\n",
    "         [ 3,  6,  9],\n",
    "         [11, 44, 77]]])\n",
    "b = rearrange(k, ' m (i1 i2) j -> m i1 (i2 j)', i1=2) #1,4,3 -> 1,2,6\n",
    "b.shape, b"
   ]
  },
  {
   "cell_type": "code",
   "execution_count": 9,
   "metadata": {},
   "outputs": [
    {
     "name": "stdout",
     "output_type": "stream",
     "text": [
      "[[1 2 3]\n",
      " [4 5 6]\n",
      " [7 8 9]] (3, 3)\n",
      "[[1 4 7]\n",
      " [2 5 8]\n",
      " [3 6 9]]\n"
     ]
    }
   ],
   "source": [
    "a = np.array([1, 2, 3])\n",
    "b = np.array([4, 5, 6])\n",
    "c = np.array([7, 8, 9])\n",
    "d = np.array([[1,2,3],[4,5,6],[7,8,9]])\n",
    "print(d, d.shape)\n",
    "# Stack the arrays along axis 0 (rows)\n",
    "stacked_array = np.stack(d, axis=1)\n",
    "print(stacked_array)"
   ]
  },
  {
   "cell_type": "code",
   "execution_count": null,
   "metadata": {},
   "outputs": [],
   "source": [
    "from typing import Tuple, Union\n",
    "import haiku as hk\n",
    "\n",
    "from model.base.decoder import Decoder\n",
    "from model.base.encoder import Encoder\n",
    "\n",
    "from .base.utils import ModelOutput\n",
    "from moleculib.protein.datum import ProteinDatum\n",
    "\n",
    "\n",
    "class Ophiuchus(hk.Module):\n",
    "    def __init__(self, encoder: Encoder, decoder: Decoder):\n",
    "        super().__init__()\n",
    "        self.encoder = encoder()\n",
    "        self.decoder = decoder()\n",
    "\n",
    "    def __call__(\n",
    "        self,\n",
    "        datum: Union[ProteinDatum, None] = None,\n",
    "        is_training: bool = False,\n",
    "        conditionals: Tuple[bool] = None,\n",
    "    ):\n",
    "    \n",
    "        \n",
    "        return ModelOutput(\n",
    "            datum=datum_out,\n",
    "            logits=None,\n",
    "            encoder_internals=None,\n",
    "            decoder_internals=None,\n",
    "            probs=None,\n",
    "            atom_perm_loss=None,\n",
    "        )"
   ]
  }
 ],
 "metadata": {
  "kernelspec": {
   "display_name": "Python 3.10.6 64-bit",
   "language": "python",
   "name": "python3"
  },
  "language_info": {
   "codemirror_mode": {
    "name": "ipython",
    "version": 3
   },
   "file_extension": ".py",
   "mimetype": "text/x-python",
   "name": "python",
   "nbconvert_exporter": "python",
   "pygments_lexer": "ipython3",
   "version": "3.10.12"
  },
  "orig_nbformat": 4,
  "vscode": {
   "interpreter": {
    "hash": "767d51c1340bd893661ea55ea3124f6de3c7a262a8b4abca0554b478b1e2ff90"
   }
  }
 },
 "nbformat": 4,
 "nbformat_minor": 2
}
