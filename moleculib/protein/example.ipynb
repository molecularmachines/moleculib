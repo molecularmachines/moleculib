{
 "cells": [
  {
   "cell_type": "code",
   "execution_count": 1,
   "metadata": {},
   "outputs": [],
   "source": [
    "from moleculib.protein.dataset import MonomerDataset\n",
    "from moleculib.protein.transform import (\n",
    "    ProteinCrop,\n",
    "    DescribeChemistry,\n",
    ")\n",
    "\n",
    "from collections import defaultdict\n",
    "from moleculib.protein.alphabet import all_residues\n",
    "import numpy as np\n",
    "import matplotlib.pyplot as plt\n",
    "from einops import rearrange\n",
    "\n",
    "data_path = '/mas/projects/molecularmachines/db/PDB'\n",
    "min_seq_len = 16\n",
    "max_seq_len = sequence_length = 512\n",
    "dataset = MonomerDataset(\n",
    "    base_path=data_path,\n",
    "    attrs=\"all\",\n",
    "    max_resolution=1.7,\n",
    "    min_sequence_length=min_seq_len,\n",
    "    max_sequence_length=max_seq_len,\n",
    "    frac=1.0,\n",
    "    transform=[\n",
    "        ProteinCrop(crop_size=sequence_length),\n",
    "        DescribeChemistry(),\n",
    "        # builds(TokenizeSequenceBoundaries),\n",
    "        # builds(ProteinPad, pad_size=sequence_length, random_position=True),\n",
    "        # builds(MaybeMirror, hand=\"right\"),\n",
    "        # builds(CastToBFloat),\n",
    "    ],\n",
    ")"
   ]
  },
  {
   "cell_type": "code",
   "execution_count": 52,
   "metadata": {},
   "outputs": [
    {
     "name": "stderr",
     "output_type": "stream",
     "text": [
      "/tmp/ipykernel_1337295/2594562017.py:41: RuntimeWarning: invalid value encountered in divide\n",
      "  avg_bonds_ = residue_sum_bond_len[token] / residue_sum_bond_mask[token]\n"
     ]
    }
   ],
   "source": [
    "counter = 0\n",
    "num_data = 100\n",
    "\n",
    "# remove peptide bonds\n",
    "num_bonds = 18\n",
    "\n",
    "residue_sum_bond_len = defaultdict(lambda: np.zeros((num_bonds, ), dtype=np.float64))\n",
    "residue_sum_bond_mask = defaultdict(lambda: np.zeros((num_bonds, ), dtype=np.int32))\n",
    "\n",
    "peptide_sum_bond_len = np.zeros(1, dtype=np.float64)\n",
    "peptide_sum_bond_mask = np.zeros(1, dtype=np.int32)\n",
    "\n",
    "for datum in dataset:\n",
    "    all_atoms = rearrange(datum.atom_coord, 'r a c -> (r a) c')\n",
    "    all_bonds = rearrange(datum.bonds_list, 'r b i -> (r b) i')\n",
    "\n",
    "    v, u = all_bonds.T\n",
    "    bonds_len = np.sqrt(np.square(all_atoms[v] - all_atoms[u]).sum(-1))\n",
    "    bonds_len_ = rearrange(bonds_len, '(r b) -> r b', r=len(datum.residue_token))\n",
    "\n",
    "    peptide_sum_bond_len += bonds_len_[..., -1].sum(-1)\n",
    "    peptide_sum_bond_mask += datum.bonds_mask[..., -1].sum(-1)\n",
    "\n",
    "    res_bond_len = bonds_len_[..., :-1]\n",
    "    res_bond_mask = datum.bonds_mask[..., :-1]\n",
    "    for token, bonds, mask in zip(datum.residue_token, res_bond_len, res_bond_mask):\n",
    "        if token == 0: continue\n",
    "        token = all_residues[token]\n",
    "\n",
    "        residue_sum_bond_len[token] += bonds * mask.astype(np.float64)\n",
    "        residue_sum_bond_mask[token] += mask    \n",
    "\n",
    "    counter += 1\n",
    "    if counter == num_data: break\n",
    "\n",
    "avg_bonds = {}\n",
    "for token in residue_sum_bond_len.keys():\n",
    "    avg_bonds_ = residue_sum_bond_len[token] / residue_sum_bond_mask[token]\n",
    "    avg_bonds_ = avg_bonds_[~np.isnan(avg_bonds_)]\n",
    "    avg_bonds[token] = avg_bonds_"
   ]
  },
  {
   "cell_type": "code",
   "execution_count": 33,
   "metadata": {},
   "outputs": [
    {
     "data": {
      "text/plain": [
       "21"
      ]
     },
     "execution_count": 33,
     "metadata": {},
     "output_type": "execute_result"
    }
   ],
   "source": [
    "len(avg_bonds.keys())\n"
   ]
  },
  {
   "cell_type": "code",
   "execution_count": 55,
   "metadata": {},
   "outputs": [
    {
     "data": {
      "text/plain": [
       "array([1.35753979])"
      ]
     },
     "execution_count": 55,
     "metadata": {},
     "output_type": "execute_result"
    }
   ],
   "source": [
    "peptide_sum_bond_len / peptide_sum_bond_mask"
   ]
  },
  {
   "cell_type": "code",
   "execution_count": 61,
   "metadata": {},
   "outputs": [],
   "source": [
    "from moleculib.protein.alphabet import sidechain_chemistry_per_residue\n",
    "\n",
    "lines = []\n",
    "for token, props in sidechain_chemistry_per_residue.items():\n",
    "    lines += [f'{token}=dict(']\n",
    "    for key, prop in props.items():\n",
    "        if key == 'bonds':\n",
    "            lines += [f'    {key}={prop[3:]},']\n",
    "        else:\n",
    "            lines += [f'    {key}={prop},']\n",
    "    lines += [f'    bond_lens=[{\",\".join([f\"{f:.2f}\" for f in avg_bonds[token][6:]])}],']\n",
    "    lines += ['),']\n",
    "\n",
    "# for line in lines:\n",
    "#     print(line)\n",
    "\n",
    "with open('sidechain_chemistry_per_residue.txt', 'w') as f:\n",
    "    f.write('\\n'.join(lines))"
   ]
  },
  {
   "cell_type": "code",
   "execution_count": 63,
   "metadata": {},
   "outputs": [],
   "source": [
    "stack = [] \n",
    "for token, bonds in avg_bonds.items():\n",
    "    stack.append(avg_bonds[token][:3])"
   ]
  },
  {
   "cell_type": "code",
   "execution_count": 69,
   "metadata": {},
   "outputs": [
    {
     "data": {
      "text/plain": [
       "array([1.46097941, 1.52393017, 1.23405663])"
      ]
     },
     "execution_count": 69,
     "metadata": {},
     "output_type": "execute_result"
    }
   ],
   "source": [
    "stack.mean(-2)"
   ]
  },
  {
   "cell_type": "code",
   "execution_count": 48,
   "metadata": {},
   "outputs": [
    {
     "ename": "TypeError",
     "evalue": "list indices must be integers or slices, not str",
     "output_type": "error",
     "traceback": [
      "\u001b[0;31m---------------------------------------------------------------------------\u001b[0m",
      "\u001b[0;31mTypeError\u001b[0m                                 Traceback (most recent call last)",
      "Cell \u001b[0;32mIn[48], line 2\u001b[0m\n\u001b[1;32m      1\u001b[0m residue_sum_bond_len\n\u001b[0;32m----> 2\u001b[0m token \u001b[39m=\u001b[39m all_residues[token]\n",
      "\u001b[0;31mTypeError\u001b[0m: list indices must be integers or slices, not str"
     ]
    }
   ],
   "source": [
    "residue_sum_bond_len\n",
    "token = all_residues[token]"
   ]
  },
  {
   "cell_type": "code",
   "execution_count": 97,
   "metadata": {},
   "outputs": [
    {
     "data": {
      "text/plain": [
       "(95,)"
      ]
     },
     "execution_count": 97,
     "metadata": {},
     "output_type": "execute_result"
    }
   ],
   "source": [
    "peptide_lens.shape"
   ]
  },
  {
   "cell_type": "code",
   "execution_count": 86,
   "metadata": {},
   "outputs": [
    {
     "data": {
      "image/png": "[encoded data removed]",
      "text/plain": [
       "<Figure size 640x480 with 1 Axes>"
      ]
     },
     "metadata": {},
     "output_type": "display_data"
    }
   ],
   "source": [
    "plt.hist(peptide_lens[peptide_mask], bins=10)\n",
    "plt.show()"
   ]
  },
  {
   "cell_type": "code",
   "execution_count": 5,
   "metadata": {},
   "outputs": [
    {
     "data": {
      "text/plain": [
       "(240, 19)"
      ]
     },
     "execution_count": 5,
     "metadata": {},
     "output_type": "execute_result"
    }
   ],
   "source": [
    "bonds_len_.shape"
   ]
  },
  {
   "cell_type": "code",
   "execution_count": 35,
   "metadata": {},
   "outputs": [
    {
     "name": "stdout",
     "output_type": "stream",
     "text": [
      "PHE [1.46012098 1.52338733 1.23111908 1.46012098 1.52338733 1.23111908\n",
      " 1.53180338 1.50206551 1.384906   1.38544074 1.38186876 1.38103526\n",
      " 1.38784495 1.38632108 0.         0.         0.         0.        ]\n",
      "ASP [1.46004581 1.52665993 1.23175658 1.46004581 1.52665993 1.23175658\n",
      " 1.53213728 1.51939462 1.24939287 1.24979074 0.         0.\n",
      " 0.         0.         0.         0.         0.         0.        ]\n",
      "PRO [1.46576054 1.5205094  1.2350703  1.46576054 1.5205094  1.2350703\n",
      " 1.53547429 1.4900337  1.50326068 0.         0.         0.\n",
      " 0.         0.         0.         0.         0.         0.        ]\n",
      "ALA [1.45815847 1.52526518 1.23433396 1.45815847 1.52526518 1.23433396\n",
      " 1.52681451 0.         0.         0.         0.         0.\n",
      " 0.         0.         0.         0.         0.         0.        ]\n",
      "GLU [1.45766406 1.52489218 1.23270313 1.45766406 1.52489218 1.23270313\n",
      " 1.52984242 1.51788303 1.51775431 1.24935823 1.24791914 0.\n",
      " 0.         0.         0.         0.         0.         0.        ]\n",
      "LYS [1.46014705 1.52679908 1.2318084  1.46014705 1.52679908 1.2318084\n",
      " 1.53037389 1.52479263 1.51951835 1.52355613 1.49323376 0.\n",
      " 0.         0.         0.         0.         0.         0.        ]\n",
      "TYR [1.45843833 1.52182233 1.23276344 1.45843833 1.52182233 1.23276344\n",
      " 1.52882768 1.50911402 1.38959348 1.38511053 1.37962685 1.37800012\n",
      " 1.37909579 1.38230746 1.38845255 0.         0.         0.        ]\n",
      "MET [1.45743763 1.52367065 1.22970311 1.45743763 1.52367065 1.22970311\n",
      " 1.53252248 1.5291354  1.80492384 1.7954567  0.         0.\n",
      " 0.         0.         0.         0.         0.         0.        ]\n",
      "HIS [1.46094537 1.522796   1.23079787 1.46094537 1.522796   1.23079787\n",
      " 1.53045076 1.49500527 1.37916545 1.32138544 1.32160937 1.37351383\n",
      " 0.         0.         0.         0.         0.         0.        ]\n",
      "ARG [1.45839036 1.52218497 1.23132671 1.45839036 1.52218497 1.23132671\n",
      " 1.53147941 1.52085456 1.52163642 1.45964476 1.32804778 1.326918\n",
      " 1.32738432 0.         0.         0.         0.         0.        ]\n",
      "GLY [1.45322166 1.51863295 1.23578401 1.45322166 1.51863295 1.23578401\n",
      " 0.         0.         0.         0.         0.         0.\n",
      " 0.         0.         0.         0.         0.         0.        ]\n",
      "ILE [1.45637089 1.52581505 1.22888523 1.45637089 1.52581505 1.22888523\n",
      " 1.53862988 1.53267702 1.52239023 1.519268   0.         0.\n",
      " 0.         0.         0.         0.         0.         0.        ]\n",
      "LEU [1.46011884 1.52458265 1.23177172 1.46011884 1.52458265 1.23177172\n",
      " 1.52863098 1.52431458 1.52348107 1.52341911 0.         0.\n",
      " 0.         0.         0.         0.         0.         0.        ]\n",
      "ASN [1.46345992 1.52548856 1.23202007 1.46345992 1.52548856 1.23202007\n",
      " 1.53547533 1.51860424 1.23422953 1.33262949 0.         0.\n",
      " 0.         0.         0.         0.         0.         0.        ]\n",
      "TRP [1.45872416 1.52548451 1.22954665 1.45872416 1.52548451 1.22954665\n",
      " 1.52922231 1.49672756 1.36633963 1.37736895 1.37107528 1.39255682\n",
      " 1.37241055 1.40277372 1.38346693 1.39853708 1.4106847  1.4329144 ]\n",
      "THR [1.46093705 1.52967415 1.23146524 1.46093705 1.52967415 1.23146524\n",
      " 1.54266141 1.43100289 1.52571615 0.         0.         0.\n",
      " 0.         0.         0.         0.         0.         0.        ]\n",
      "CYS [1.45876202 1.51793253 1.23143945 1.45876202 1.51793253 1.23143945\n",
      " 1.53073374 1.81380925 0.         0.         0.         0.\n",
      " 0.         0.         0.         0.         0.         0.        ]\n",
      "SER [1.46022783 1.52567068 1.22964471 1.46022783 1.52567068 1.22964471\n",
      " 1.53279784 1.41650139 0.         0.         0.         0.\n",
      " 0.         0.         0.         0.         0.         0.        ]\n",
      "VAL [1.45727601 1.52812969 1.23174734 1.45727601 1.52812969 1.23174734\n",
      " 1.54375799 1.52694739 1.53301935 0.         0.         0.\n",
      " 0.         0.         0.         0.         0.         0.        ]\n",
      "GLN [1.46131594 1.52061142 1.23189248 1.46131594 1.52061142 1.23189248\n",
      " 1.52853103 1.51930716 1.51861025 1.23157996 1.32950465 0.\n",
      " 0.         0.         0.         0.         0.         0.        ]\n"
     ]
    },
    {
     "name": "stderr",
     "output_type": "stream",
     "text": [
      "/tmp/ipykernel_1334596/77185035.py:28: RuntimeWarning: invalid value encountered in divide\n",
      "  avg_bonds = residue_sum_bond_len[token] / residue_sum_bond_mask[token]\n"
     ]
    }
   ],
   "source": [
    "   "
   ]
  },
  {
   "cell_type": "code",
   "execution_count": 11,
   "metadata": {},
   "outputs": [
    {
     "data": {
      "text/plain": [
       "array([1.41952744, 1.41952744, 1.41952744, 1.41952744, 1.41952744,\n",
       "       1.41952744, 1.41952744, 1.41952744, 1.41952744, 1.41952744,\n",
       "       1.41952744, 1.41952744, 1.41952744, 1.41952744, 1.41952744,\n",
       "       1.41952744, 1.41952744, 1.41952744, 1.41952744])"
      ]
     },
     "execution_count": 11,
     "metadata": {},
     "output_type": "execute_result"
    }
   ],
   "source": []
  },
  {
   "cell_type": "code",
   "execution_count": null,
   "metadata": {},
   "outputs": [],
   "source": []
  }
 ],
 "metadata": {
  "kernelspec": {
   "display_name": "protein-u-net",
   "language": "python",
   "name": "python3"
  },
  "language_info": {
   "codemirror_mode": {
    "name": "ipython",
    "version": 3
   },
   "file_extension": ".py",
   "mimetype": "text/x-python",
   "name": "python",
   "nbconvert_exporter": "python",
   "pygments_lexer": "ipython3",
   "version": "3.9.15"
  },
  "orig_nbformat": 4
 },
 "nbformat": 4,
 "nbformat_minor": 2
}
