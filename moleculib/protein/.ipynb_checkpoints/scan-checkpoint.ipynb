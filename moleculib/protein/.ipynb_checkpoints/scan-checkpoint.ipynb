{
 "cells": [
  {
   "cell_type": "code",
   "execution_count": 137,
   "metadata": {},
   "outputs": [
    {
     "name": "stdout",
     "output_type": "stream",
     "text": [
      "The autoreload extension is already loaded. To reload it, use:\n",
      "  %reload_ext autoreload\n"
     ]
    }
   ],
   "source": [
    "%load_ext autoreload\n",
    "%autoreload 2"
   ]
  },
  {
   "cell_type": "markdown",
   "metadata": {},
   "source": [
    "# Scanning the Chemistry of Proteins"
   ]
  },
  {
   "cell_type": "code",
   "execution_count": 143,
   "metadata": {},
   "outputs": [],
   "source": [
    "from moleculib.protein.dataset import MonomerDataset\n",
    "from moleculib.protein.transform import (\n",
    "    ProteinCrop,\n",
    "    DescribeChemistry,\n",
    ")\n",
    "\n",
    "from collections import defaultdict\n",
    "from moleculib.protein.alphabet import all_residues\n",
    "import numpy as np\n",
    "import matplotlib.pyplot as plt\n",
    "from einops import rearrange\n",
    "\n",
    "\n",
    "def norm(vector: np.ndarray) -> np.ndarray:\n",
    "    norms_sqr = np.sum(vector**2, axis=-1)\n",
    "    norms = norms_sqr ** 0.5\n",
    "    return norms\n",
    "\n",
    "def normalize(vector: np.ndarray) -> np.ndarray:\n",
    "    return vector / norm(vector)[..., None]\n",
    "\n",
    "\n",
    "data_path = '/mas/projects/molecularmachines/db/PDB'\n",
    "min_seq_len = 16\n",
    "max_seq_len = sequence_length = 512\n",
    "dataset = MonomerDataset(\n",
    "    base_path=data_path,\n",
    "    attrs=\"all\",\n",
    "    max_resolution=1.7,\n",
    "    min_sequence_length=min_seq_len,\n",
    "    max_sequence_length=max_seq_len,\n",
    "    frac=1.0,\n",
    "    transform=[\n",
    "        ProteinCrop(crop_size=sequence_length),\n",
    "        DescribeChemistry(),\n",
    "    ],\n",
    ")"
   ]
  },
  {
   "cell_type": "code",
   "execution_count": 154,
   "metadata": {},
   "outputs": [
    {
     "data": {
      "text/plain": [
       "array([14, 13, 21,  2, 21,  2,  9,  5, 17,  2,  9,  8,  9, 12,  2, 13, 21,\n",
       "       12,  2,  5, 10, 12, 13,  5,  3, 15,  8, 21, 17,  8, 11, 17,  4, 12,\n",
       "       17,  5,  3, 21,  2, 17,  2, 21, 12,  5,  9, 18, 20,  5,  3,  2, 11,\n",
       "       12, 21,  6,  9, 18,  9, 11,  9, 21,  6, 11,  2,  2,  4, 13, 21, 16,\n",
       "        9, 11,  3,  2,  2, 12, 18, 10,  5, 18, 20, 17,  2,  8,  3,  2,  2,\n",
       "       12, 17,  4,  4,  2,  7, 11, 11, 18, 14,  9,  2,  3, 21, 11,  9,  2,\n",
       "        8, 21,  2, 13, 18, 11,  2,  5,  2, 15, 12,  2,  7, 18, 15])"
      ]
     },
     "execution_count": 154,
     "metadata": {},
     "output_type": "execute_result"
    }
   ],
   "source": [
    "datum.residue_token"
   ]
  },
  {
   "cell_type": "markdown",
   "metadata": {
    "tags": []
   },
   "source": [
    "### Scan Chemistry"
   ]
  },
  {
   "cell_type": "code",
   "execution_count": 158,
   "metadata": {},
   "outputs": [],
   "source": [
    "from einops import rearrange\n",
    "import numpy as np\n",
    "\n",
    "from moleculib.protein.datum import ProteinDatum\n",
    "import jax.numpy as jnp\n",
    "from typing import List\n",
    "\n",
    "\n",
    "class ProteinMetric:\n",
    "    def __call__(self, datum: ProteinDatum):\n",
    "        raise NotImplementedError(\"ProteinMetric is abstract\")\n",
    "\n",
    "def norm(vector: np.ndarray) -> np.ndarray:\n",
    "    norms_sqr = np.sum(vector**2, axis=-1)\n",
    "    norms = norms_sqr ** 0.5\n",
    "    return norms\n",
    "\n",
    "def normalize(vector: np.ndarray) -> np.ndarray:\n",
    "    return vector / norm(vector)[..., None]\n",
    "\n",
    "def measure_bonds(coord, idx):\n",
    "    v, u = idx.T\n",
    "    bonds_len = np.sqrt(np.square(coord[v] - coord[u]).sum(-1))\n",
    "    return bonds_len \n",
    "\n",
    "def measure_angles(coords, idx):\n",
    "    i, j, k = rearrange(idx, \"... a -> a ...\")\n",
    "    v1, v2 = coords[i] - coords[j], coords[k] - coords[j]\n",
    "    v1, v2 = normalize(v1), normalize(v2)\n",
    "    x, y = norm(v1 + v2), norm(v1 - v2)\n",
    "    return  2 * np.arctan2(y, x)\n",
    "\n",
    "def measure_dihedrals(coords, indices):\n",
    "    p, q, v, u = rearrange(indices, \"... b -> b ...\")\n",
    "    v1 = normalize(coords[q] - coords[p])\n",
    "    v2 = normalize(coords[v] - coords[q])\n",
    "    v3 = normalize(coords[u] - coords[v])\n",
    "\n",
    "    n1 = np.cross(v1, v2)\n",
    "    n2 = np.cross(v2, v3)\n",
    "\n",
    "    x = (n1 * n2).sum(-1)\n",
    "    y = (np.cross(n1, v2) * n2).sum(-1)\n",
    "\n",
    "    x = np.where(x == 0.0, 1e-6, x)\n",
    "    return x\n",
    "\n",
    "measure_functions = dict(\n",
    "    bonds=measure_bonds,\n",
    "    angles=measure_angles,\n",
    "    dihedrals=measure_dihedrals,\n",
    ")\n"
   ]
  },
  {
   "cell_type": "code",
   "execution_count": 159,
   "metadata": {},
   "outputs": [
    {
     "name": "stderr",
     "output_type": "stream",
     "text": [
      "/tmp/ipykernel_71361/3508659324.py:19: RuntimeWarning: invalid value encountered in divide\n",
      "  return vector / norm(vector)[..., None]\n"
     ]
    },
    {
     "data": {
      "text/plain": [
       "((20, 16), (20, 22), (20, 29))"
      ]
     },
     "execution_count": 159,
     "metadata": {},
     "output_type": "execute_result"
    }
   ],
   "source": [
    "datum.apply_bonds(measure_bonds).shape, datum.apply_angles(measure_angles).shape, datum.apply_dihedrals(measure_dihedrals).shape"
   ]
  },
  {
   "cell_type": "code",
   "execution_count": 199,
   "metadata": {},
   "outputs": [
    {
     "ename": "TypeError",
     "evalue": "unhashable type: 'numpy.ndarray'",
     "output_type": "error",
     "traceback": [
      "\u001b[0;31m---------------------------------------------------------------------------\u001b[0m",
      "\u001b[0;31mTypeError\u001b[0m                                 Traceback (most recent call last)",
      "Cell \u001b[0;32mIn[199], line 12\u001b[0m\n\u001b[1;32m     10\u001b[0m \u001b[38;5;28;01mfor\u001b[39;00m res_token, res_prop \u001b[38;5;129;01min\u001b[39;00m \u001b[38;5;28mzip\u001b[39m(datum\u001b[38;5;241m.\u001b[39mresidue_token, chem_props):\n\u001b[1;32m     11\u001b[0m     code \u001b[38;5;241m=\u001b[39m all_residues[res_token]\n\u001b[0;32m---> 12\u001b[0m     \u001b[38;5;28;01mif\u001b[39;00m \u001b[43mtoken\u001b[49m\u001b[43m \u001b[49m\u001b[38;5;129;43;01mnot\u001b[39;49;00m\u001b[43m \u001b[49m\u001b[38;5;129;43;01min\u001b[39;49;00m\u001b[43m \u001b[49m\u001b[43mmeasures_dict\u001b[49m\u001b[43m[\u001b[49m\u001b[43mprop\u001b[49m\u001b[43m]\u001b[49m:\n\u001b[1;32m     13\u001b[0m         measures_dict[prop][token] \u001b[38;5;241m=\u001b[39m res_prop[\u001b[38;5;28;01mNone\u001b[39;00m]\n\u001b[1;32m     14\u001b[0m     \u001b[38;5;28;01melse\u001b[39;00m:\n",
      "\u001b[0;31mTypeError\u001b[0m: unhashable type: 'numpy.ndarray'"
     ]
    }
   ],
   "source": [
    "counter = 0\n",
    "num_data = 5\n",
    "\n",
    "measures_dict = defaultdict(lambda: defaultdict(list))\n",
    "\n",
    "for datum in dataset:\n",
    "    for prop in ('bonds', 'angles', 'dihedrals'):\n",
    "        chem_props = datum._apply_chemistry(\n",
    "            prop, measure_functions[prop])\n",
    "        for res_token, res_prop in zip(datum.residue_token, chem_props):\n",
    "            code = all_residues[res_token]\n",
    "            if token not in measures_dict[prop]:\n",
    "                measures_dict[prop][token] = res_prop[None]\n",
    "            else:\n",
    "                measures_dict[prop][token] = np.concatenate(\n",
    "                    (measures_dict[prop][token], res_prop[None]), axis=0)\n",
    "    counter += 1\n",
    "    if counter == num_data:\n",
    "        break\n"
   ]
  },
  {
   "cell_type": "code",
   "execution_count": 176,
   "metadata": {},
   "outputs": [
    {
     "data": {
      "text/plain": [
       "(708, 16)"
      ]
     },
     "execution_count": 176,
     "metadata": {},
     "output_type": "execute_result"
    }
   ],
   "source": [
    "measures_dict['bonds']['ASP']"
   ]
  },
  {
   "cell_type": "code",
   "execution_count": 127,
   "metadata": {},
   "outputs": [],
   "source": [
    "import biotite\n",
    "def annotate_secondary_structure(datum: ProteinDatum):\n",
    "    coords = datum.atom_coord[..., 1, :]\n",
    "    array = biotite.structure.array(\n",
    "        [biotite.structure.Atom(coord, chain_id=\"A\") for coord in coords]\n",
    "    )\n",
    "    array.set_annotation(\"atom_name\", ['CA' for _ in datum.residue_token])\n",
    "    array.set_annotation(\"res_name\", [all_residues[token] for token in datum.residue_token])\n",
    "    array.set_annotation(\"res_id\", np.arange(0, len(coords)))\n",
    "    annotations = biotite.structure.annotate_sse(array, chain_id='A')\n",
    "    token, count = np.unique(annotations, return_counts=True)\n",
    "    return token, count, annotations"
   ]
  }
 ],
 "metadata": {
  "kernelspec": {
   "display_name": "Python 3 (ipykernel)",
   "language": "python",
   "name": "python3"
  },
  "language_info": {
   "codemirror_mode": {
    "name": "ipython",
    "version": 3
   },
   "file_extension": ".py",
   "mimetype": "text/x-python",
   "name": "python",
   "nbconvert_exporter": "python",
   "pygments_lexer": "ipython3",
   "version": "3.9.15"
  }
 },
 "nbformat": 4,
 "nbformat_minor": 4
}
