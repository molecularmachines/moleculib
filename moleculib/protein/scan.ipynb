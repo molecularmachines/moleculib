{
 "cells": [
  {
   "cell_type": "code",
   "execution_count": null,
   "metadata": {},
   "outputs": [],
   "source": [
    "%load_ext autoreload\n",
    "%autoreload 2"
   ]
  },
  {
   "cell_type": "markdown",
   "metadata": {},
   "source": [
    "# Scanning the Chemistry of Proteins"
   ]
  },
  {
   "cell_type": "code",
   "execution_count": null,
   "metadata": {},
   "outputs": [],
   "source": [
    "from moleculib.protein.dataset import MonomerDataset\n",
    "from moleculib.protein.transform import (\n",
    "    ProteinCrop,\n",
    "    DescribeChemistry,\n",
    ")\n",
    "\n",
    "from collections import defaultdict\n",
    "from moleculib.protein.alphabet import all_residues\n",
    "import numpy as np\n",
    "import matplotlib.pyplot as plt\n",
    "from einops import rearrange\n",
    "\n",
    "\n",
    "def norm(vector: np.ndarray) -> np.ndarray:\n",
    "    norms_sqr = np.sum(vector**2, axis=-1)\n",
    "    norms = norms_sqr ** 0.5\n",
    "    return norms\n",
    "\n",
    "def normalize(vector: np.ndarray) -> np.ndarray:\n",
    "    return vector / norm(vector)[..., None]\n",
    "\n",
    "\n",
    "data_path = '/mas/projects/molecularmachines/db/PDB'\n",
    "min_seq_len = 16\n",
    "max_seq_len = sequence_length = 512\n",
    "dataset = MonomerDataset(\n",
    "    base_path=data_path,\n",
    "    attrs=\"all\",\n",
    "    max_resolution=1.7,\n",
    "    min_sequence_length=min_seq_len,\n",
    "    max_sequence_length=max_seq_len,\n",
    "    frac=1.0,\n",
    "    transform=[\n",
    "        ProteinCrop(crop_size=sequence_length),\n",
    "        DescribeChemistry(),\n",
    "    ],\n",
    ")"
   ]
  },
  {
   "cell_type": "code",
   "execution_count": null,
   "metadata": {},
   "outputs": [],
   "source": [
    "datum.residue_token"
   ]
  },
  {
   "cell_type": "markdown",
   "metadata": {
    "tags": []
   },
   "source": [
    "### Scan Chemistry"
   ]
  },
  {
   "cell_type": "code",
   "execution_count": null,
   "metadata": {},
   "outputs": [],
   "source": [
    "from einops import rearrange\n",
    "import numpy as np\n",
    "\n",
    "from moleculib.protein.datum import ProteinDatum\n",
    "import jax.numpy as jnp\n",
    "from typing import List\n",
    "\n",
    "\n",
    "class ProteinMetric:\n",
    "    def __call__(self, datum: ProteinDatum):\n",
    "        raise NotImplementedError(\"ProteinMetric is abstract\")\n",
    "\n",
    "def norm(vector: np.ndarray) -> np.ndarray:\n",
    "    norms_sqr = np.sum(vector**2, axis=-1)\n",
    "    norms = norms_sqr ** 0.5\n",
    "    return norms\n",
    "\n",
    "def normalize(vector: np.ndarray) -> np.ndarray:\n",
    "    return vector / norm(vector)[..., None]\n",
    "\n",
    "def measure_bonds(coord, idx):\n",
    "    v, u = idx.T\n",
    "    bonds_len = np.sqrt(np.square(coord[v] - coord[u]).sum(-1))\n",
    "    return bonds_len \n",
    "\n",
    "def measure_angles(coords, idx):\n",
    "    i, j, k = rearrange(idx, \"... a -> a ...\")\n",
    "    v1, v2 = coords[i] - coords[j], coords[k] - coords[j]\n",
    "    v1, v2 = normalize(v1), normalize(v2)\n",
    "    x, y = norm(v1 + v2), norm(v1 - v2)\n",
    "    return  2 * np.arctan2(y, x)\n",
    "\n",
    "def measure_dihedrals(coords, indices):\n",
    "    p, q, v, u = rearrange(indices, \"... b -> b ...\")\n",
    "    v1 = normalize(coords[q] - coords[p])\n",
    "    v2 = normalize(coords[v] - coords[q])\n",
    "    v3 = normalize(coords[u] - coords[v])\n",
    "\n",
    "    n1 = np.cross(v1, v2)\n",
    "    n2 = np.cross(v2, v3)\n",
    "\n",
    "    x = (n1 * n2).sum(-1)\n",
    "    y = (np.cross(n1, v2) * n2).sum(-1)\n",
    "\n",
    "    x = np.where(x == 0.0, 1e-6, x)\n",
    "    return x\n",
    "\n",
    "measure_functions = dict(\n",
    "    bonds=measure_bonds,\n",
    "    angles=measure_angles,\n",
    "    dihedrals=measure_dihedrals,\n",
    ")\n"
   ]
  },
  {
   "cell_type": "code",
   "execution_count": null,
   "metadata": {},
   "outputs": [],
   "source": [
    "datum.apply_bonds(measure_bonds).shape, datum.apply_angles(measure_angles).shape, datum.apply_dihedrals(measure_dihedrals).shape"
   ]
  },
  {
   "cell_type": "code",
   "execution_count": null,
   "metadata": {},
   "outputs": [],
   "source": [
    "counter = 0\n",
    "num_data = 5\n",
    "\n",
    "measures_dict = defaultdict(lambda: defaultdict(list))\n",
    "\n",
    "for datum in dataset:\n",
    "    for prop in ('bonds', 'angles', 'dihedrals'):\n",
    "        chem_props = datum._apply_chemistry(\n",
    "            prop, measure_functions[prop])\n",
    "        for res_token, res_prop in zip(datum.residue_token, chem_props):\n",
    "            code = all_residues[res_token]\n",
    "            if token not in measures_dict[prop]:\n",
    "                measures_dict[prop][token] = res_prop[None]\n",
    "            else:\n",
    "                measures_dict[prop][token] = np.concatenate(\n",
    "                    (measures_dict[prop][token], res_prop[None]), axis=0)\n",
    "    counter += 1\n",
    "    if counter == num_data:\n",
    "        break\n"
   ]
  },
  {
   "cell_type": "code",
   "execution_count": null,
   "metadata": {},
   "outputs": [],
   "source": []
  },
  {
   "cell_type": "code",
   "execution_count": null,
   "metadata": {},
   "outputs": [],
   "source": [
    "datum = ProteinDatum.fetch_pdb_id(\"1L2Y\")\n",
    "print(datum.to_pdb_str())"
   ]
  },
  {
   "cell_type": "code",
   "execution_count": null,
   "metadata": {},
   "outputs": [],
   "source": []
  }
 ],
 "metadata": {
  "kernelspec": {
   "display_name": "Python 3 (ipykernel)",
   "language": "python",
   "name": "python3"
  },
  "language_info": {
   "codemirror_mode": {
    "name": "ipython",
    "version": 3
   },
   "file_extension": ".py",
   "mimetype": "text/x-python",
   "name": "python",
   "nbconvert_exporter": "python",
   "pygments_lexer": "ipython3",
   "version": "3.9.15"
  }
 },
 "nbformat": 4,
 "nbformat_minor": 4
}
