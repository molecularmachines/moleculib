{
 "cells": [
  {
   "cell_type": "code",
   "execution_count": 1,
   "metadata": {},
   "outputs": [],
   "source": [
    "%load_ext autoreload\n",
    "%autoreload 2"
   ]
  },
  {
   "cell_type": "markdown",
   "metadata": {},
   "source": [
    "# Scanning the Chemistry of Proteins"
   ]
  },
  {
   "cell_type": "code",
   "execution_count": 2,
   "metadata": {},
   "outputs": [
    {
     "name": "stderr",
     "output_type": "stream",
     "text": [
      "\n",
      "KeyboardInterrupt\n",
      "\n"
     ]
    }
   ],
   "source": [
    "from moleculib.protein.dataset import MonomerDataset\n",
    "from moleculib.protein.transform import (\n",
    "    ProteinCrop,\n",
    "    DescribeChemistry,\n",
    ")\n",
    "from tqdm import tqdm\n",
    "from collections import defaultdict\n",
    "from moleculib.protein.alphabet import all_residues\n",
    "import numpy as np\n",
    "import matplotlib.pyplot as plt\n",
    "from einops import rearrange\n",
    "\n",
    "\n",
    "def norm(vector: np.ndarray) -> np.ndarray:\n",
    "    norms_sqr = np.sum(vector**2, axis=-1)\n",
    "    norms = norms_sqr ** 0.5\n",
    "    return norms\n",
    "\n",
    "def normalize(vector: np.ndarray) -> np.ndarray:\n",
    "    return vector / norm(vector)[..., None]\n",
    "\n",
    "\n",
    "data_path = '/mas/projects/molecularmachines/db/PDB'\n",
    "min_seq_len = 16\n",
    "max_seq_len = sequence_length = 512\n",
    "dataset = MonomerDataset(\n",
    "    base_path=data_path,\n",
    "    attrs=\"all\",\n",
    "    max_resolution=1.7,\n",
    "    min_sequence_length=min_seq_len,\n",
    "    max_sequence_length=max_seq_len,\n",
    "    frac=1.0,\n",
    "    transform=[\n",
    "        ProteinCrop(crop_size=sequence_length),\n",
    "        DescribeChemistry(),\n",
    "    ],\n",
    ")"
   ]
  },
  {
   "cell_type": "code",
   "execution_count": null,
   "metadata": {},
   "outputs": [],
   "source": [
    "datum.residue_token"
   ]
  },
  {
   "cell_type": "markdown",
   "metadata": {
    "tags": []
   },
   "source": [
    "### Scan Chemistry"
   ]
  },
  {
   "cell_type": "code",
   "execution_count": null,
   "metadata": {},
   "outputs": [],
   "source": [
    "from einops import rearrange\n",
    "import numpy as np\n",
    "\n",
    "from moleculib.protein.datum import ProteinDatum\n",
    "import jax.numpy as jnp\n",
    "from typing import List\n",
    "\n",
    "\n",
    "class ProteinMetric:\n",
    "    def __call__(self, datum: ProteinDatum):\n",
    "        raise NotImplementedError(\"ProteinMetric is abstract\")\n",
    "\n",
    "def norm(vector: np.ndarray) -> np.ndarray:\n",
    "    norms_sqr = np.sum(vector**2, axis=-1)\n",
    "    norms = norms_sqr ** 0.5\n",
    "    return norms\n",
    "\n",
    "def normalize(vector: np.ndarray) -> np.ndarray:\n",
    "    return vector / norm(vector)[..., None]\n",
    "\n",
    "def measure_bonds(coord, idx):\n",
    "    v, u = idx.T\n",
    "    bonds_len = np.sqrt(np.square(coord[v] - coord[u]).sum(-1))\n",
    "    return bonds_len * (coord[v].sum(-1) != 0.0) * (coord[u].sum(-1) > 0.0)\n",
    "\n",
    "def measure_angles(coords, idx):\n",
    "    i, j, k = rearrange(idx, \"... a -> a ...\")\n",
    "    mask = (coords[i].sum(-1) != 0.0) & (coords[j].sum(-1) != 0.0) & (coords[k].sum(-1) != 0.0)\n",
    "    v1, v2 = coords[i] - coords[j], coords[k] - coords[j]\n",
    "    v1, v2 = normalize(v1), normalize(v2)\n",
    "    x, y = norm(v1 + v2), norm(v1 - v2)\n",
    "    return  2 * np.arctan2(y, x) * mask\n",
    "\n",
    "\n",
    "def measure_dihedrals(coords, indices):    \n",
    "    p, q, v, u = rearrange(indices, \"... b -> b ...\")\n",
    "    u1, u2, u3, u4 = coords[p], coords[q], coords[v], coords[u]\n",
    "    \n",
    "    a1 = u2 - u1\n",
    "    a2 = u3 - u2\n",
    "    a3 = u4 - u3\n",
    "\n",
    "    v1 = jnp.cross(a1, a2)\n",
    "    v1 = normalize(v1)\n",
    "    v2 = jnp.cross(a2, a3)\n",
    "    v2 = normalize(v2)\n",
    "    \n",
    "    porm = jnp.sign((v1*a3).sum(-1))\n",
    "    rad = jnp.arccos((v1*v2).sum(-1) / ((v1**2).sum(-1) * (v2**2).sum(-1))**0.5)\n",
    "    rad = jnp.where(porm == 0, rad * porm, rad)\n",
    "\n",
    "    mask = (u1.sum(-1) != 0.0) & (u2.sum(-1) != 0.0) & (u3.sum(-1) != 0.0) & (u4.sum(-1) != 0.0)\n",
    "    \n",
    "    return rad * mask\n",
    "\n",
    "measure_functions = dict(\n",
    "    bonds=measure_bonds,\n",
    "    angles=measure_angles,\n",
    "    dihedrals=measure_dihedrals,\n",
    ")\n",
    "\n",
    "\n",
    "counter = 0\n",
    "num_data = 200\n",
    "\n",
    "measures_dict = defaultdict(lambda: defaultdict(lambda: np.array([])))\n",
    "\n",
    "with tqdm(total=num_data) as pbar:\n",
    "    for datum in dataset:\n",
    "        for prop in ('bonds', 'angles', 'dihedrals'):\n",
    "            chem_props = datum._apply_chemistry(\n",
    "                prop, measure_functions[prop])\n",
    "            for token, res_prop in zip(datum.residue_token, chem_props):\n",
    "                code = all_residues[token]\n",
    "                if code not in measures_dict[prop]:\n",
    "                    measures_dict[prop][code] = res_prop[None]\n",
    "                else:\n",
    "                    measures_dict[prop][code] = np.concatenate(\n",
    "                        (measures_dict[prop][code], res_prop[None]), axis=0)\n",
    "        counter += 1\n",
    "        pbar.update(1)\n",
    "        if counter == num_data:\n",
    "            break\n"
   ]
  },
  {
   "cell_type": "code",
   "execution_count": null,
   "metadata": {},
   "outputs": [],
   "source": [
    "import jax\n",
    "    \n",
    "def stats(array):\n",
    "    array[np.isnan(array)] = 0.0\n",
    "    mask = (array != 0.0).astype(np.float32)     \n",
    "    mean = (array * mask).sum(0) \n",
    "    mean = mean / (mask.sum(0) + 1e-6)\n",
    "    var = ((array - mean) ** 2 * mask).sum(0) \n",
    "    var = var / (mask.sum(0) + 1e-6)\n",
    "    return mean.astype(np.float32), var.astype(np.float32)\n",
    "\n",
    "stats_dict = jax.tree_util.tree_map(stats, measures_dict)\n",
    "\n",
    "aeho = dict()\n",
    "for prop, residues in stats_dict.items():\n",
    "    stats_ = [residues[code] for code in all_residues][1:]\n",
    "    mean, var = list(zip(*stats_))\n",
    "    mean = np.pad(np.stack(mean), [(1,0), (0,0)])\n",
    "    var = np.pad(np.stack(var), [(1,0), (0,0)])\n",
    "    aeho[prop] = (mean, var)\n",
    "\n",
    "np.set_printoptions(precision=3)\n",
    "aeho"
   ]
  }
 ],
 "metadata": {
  "kernelspec": {
   "display_name": "Python 3 (ipykernel)",
   "language": "python",
   "name": "python3"
  },
  "language_info": {
   "codemirror_mode": {
    "name": "ipython",
    "version": 3
   },
   "file_extension": ".py",
   "mimetype": "text/x-python",
   "name": "python",
   "nbconvert_exporter": "python",
   "pygments_lexer": "ipython3",
   "version": "3.9.15"
  }
 },
 "nbformat": 4,
 "nbformat_minor": 4
}
