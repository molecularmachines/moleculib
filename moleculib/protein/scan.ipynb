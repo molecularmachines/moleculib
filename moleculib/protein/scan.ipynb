{
 "cells": [
  {
   "cell_type": "code",
   "execution_count": 137,
   "metadata": {},
   "outputs": [
    {
     "name": "stdout",
     "output_type": "stream",
     "text": [
      "The autoreload extension is already loaded. To reload it, use:\n",
      "  %reload_ext autoreload\n"
     ]
    }
   ],
   "source": [
    "%load_ext autoreload\n",
    "%autoreload 2"
   ]
  },
  {
   "cell_type": "markdown",
   "metadata": {},
   "source": [
    "# Scanning the Chemistry of Proteins"
   ]
  },
  {
   "cell_type": "code",
   "execution_count": 143,
   "metadata": {},
   "outputs": [],
   "source": [
    "from moleculib.protein.dataset import MonomerDataset\n",
    "from moleculib.protein.transform import (\n",
    "    ProteinCrop,\n",
    "    DescribeChemistry,\n",
    ")\n",
    "\n",
    "from collections import defaultdict\n",
    "from moleculib.protein.alphabet import all_residues\n",
    "import numpy as np\n",
    "import matplotlib.pyplot as plt\n",
    "from einops import rearrange\n",
    "\n",
    "\n",
    "def norm(vector: np.ndarray) -> np.ndarray:\n",
    "    norms_sqr = np.sum(vector**2, axis=-1)\n",
    "    norms = norms_sqr ** 0.5\n",
    "    return norms\n",
    "\n",
    "def normalize(vector: np.ndarray) -> np.ndarray:\n",
    "    return vector / norm(vector)[..., None]\n",
    "\n",
    "\n",
    "data_path = '/mas/projects/molecularmachines/db/PDB'\n",
    "min_seq_len = 16\n",
    "max_seq_len = sequence_length = 512\n",
    "dataset = MonomerDataset(\n",
    "    base_path=data_path,\n",
    "    attrs=\"all\",\n",
    "    max_resolution=1.7,\n",
    "    min_sequence_length=min_seq_len,\n",
    "    max_sequence_length=max_seq_len,\n",
    "    frac=1.0,\n",
    "    transform=[\n",
    "        ProteinCrop(crop_size=sequence_length),\n",
    "        DescribeChemistry(),\n",
    "    ],\n",
    ")"
   ]
  },
  {
   "cell_type": "code",
   "execution_count": 154,
   "metadata": {},
   "outputs": [
    {
     "data": {
      "text/plain": [
       "array([14, 13, 21,  2, 21,  2,  9,  5, 17,  2,  9,  8,  9, 12,  2, 13, 21,\n",
       "       12,  2,  5, 10, 12, 13,  5,  3, 15,  8, 21, 17,  8, 11, 17,  4, 12,\n",
       "       17,  5,  3, 21,  2, 17,  2, 21, 12,  5,  9, 18, 20,  5,  3,  2, 11,\n",
       "       12, 21,  6,  9, 18,  9, 11,  9, 21,  6, 11,  2,  2,  4, 13, 21, 16,\n",
       "        9, 11,  3,  2,  2, 12, 18, 10,  5, 18, 20, 17,  2,  8,  3,  2,  2,\n",
       "       12, 17,  4,  4,  2,  7, 11, 11, 18, 14,  9,  2,  3, 21, 11,  9,  2,\n",
       "        8, 21,  2, 13, 18, 11,  2,  5,  2, 15, 12,  2,  7, 18, 15])"
      ]
     },
     "execution_count": 154,
     "metadata": {},
     "output_type": "execute_result"
    }
   ],
   "source": [
    "datum.residue_token"
   ]
  },
  {
   "cell_type": "markdown",
   "metadata": {
    "tags": []
   },
   "source": [
    "### Scan Chemistry"
   ]
  },
  {
   "cell_type": "code",
   "execution_count": 158,
   "metadata": {},
   "outputs": [],
   "source": [
    "from einops import rearrange\n",
    "import numpy as np\n",
    "\n",
    "from moleculib.protein.datum import ProteinDatum\n",
    "import jax.numpy as jnp\n",
    "from typing import List\n",
    "\n",
    "\n",
    "class ProteinMetric:\n",
    "    def __call__(self, datum: ProteinDatum):\n",
    "        raise NotImplementedError(\"ProteinMetric is abstract\")\n",
    "\n",
    "def norm(vector: np.ndarray) -> np.ndarray:\n",
    "    norms_sqr = np.sum(vector**2, axis=-1)\n",
    "    norms = norms_sqr ** 0.5\n",
    "    return norms\n",
    "\n",
    "def normalize(vector: np.ndarray) -> np.ndarray:\n",
    "    return vector / norm(vector)[..., None]\n",
    "\n",
    "def measure_bonds(coord, idx):\n",
    "    v, u = idx.T\n",
    "    bonds_len = np.sqrt(np.square(coord[v] - coord[u]).sum(-1))\n",
    "    return bonds_len \n",
    "\n",
    "def measure_angles(coords, idx):\n",
    "    i, j, k = rearrange(idx, \"... a -> a ...\")\n",
    "    v1, v2 = coords[i] - coords[j], coords[k] - coords[j]\n",
    "    v1, v2 = normalize(v1), normalize(v2)\n",
    "    x, y = norm(v1 + v2), norm(v1 - v2)\n",
    "    return  2 * np.arctan2(y, x)\n",
    "\n",
    "def measure_dihedrals(coords, indices):\n",
    "    p, q, v, u = rearrange(indices, \"... b -> b ...\")\n",
    "    v1 = normalize(coords[q] - coords[p])\n",
    "    v2 = normalize(coords[v] - coords[q])\n",
    "    v3 = normalize(coords[u] - coords[v])\n",
    "\n",
    "    n1 = np.cross(v1, v2)\n",
    "    n2 = np.cross(v2, v3)\n",
    "\n",
    "    x = (n1 * n2).sum(-1)\n",
    "    y = (np.cross(n1, v2) * n2).sum(-1)\n",
    "\n",
    "    x = np.where(x == 0.0, 1e-6, x)\n",
    "    return x\n",
    "\n",
    "measure_functions = dict(\n",
    "    bonds=measure_bonds,\n",
    "    angles=measure_angles,\n",
    "    dihedrals=measure_dihedrals,\n",
    ")\n"
   ]
  },
  {
   "cell_type": "code",
   "execution_count": 159,
   "metadata": {},
   "outputs": [
    {
     "name": "stderr",
     "output_type": "stream",
     "text": [
      "/tmp/ipykernel_71361/3508659324.py:19: RuntimeWarning: invalid value encountered in divide\n",
      "  return vector / norm(vector)[..., None]\n"
     ]
    },
    {
     "data": {
      "text/plain": [
       "((20, 16), (20, 22), (20, 29))"
      ]
     },
     "execution_count": 159,
     "metadata": {},
     "output_type": "execute_result"
    }
   ],
   "source": [
    "datum.apply_bonds(measure_bonds).shape, datum.apply_angles(measure_angles).shape, datum.apply_dihedrals(measure_dihedrals).shape"
   ]
  },
  {
   "cell_type": "code",
   "execution_count": 199,
   "metadata": {},
   "outputs": [
    {
     "ename": "TypeError",
     "evalue": "unhashable type: 'numpy.ndarray'",
     "output_type": "error",
     "traceback": [
      "\u001b[0;31m---------------------------------------------------------------------------\u001b[0m",
      "\u001b[0;31mTypeError\u001b[0m                                 Traceback (most recent call last)",
      "Cell \u001b[0;32mIn[199], line 12\u001b[0m\n\u001b[1;32m     10\u001b[0m \u001b[38;5;28;01mfor\u001b[39;00m res_token, res_prop \u001b[38;5;129;01min\u001b[39;00m \u001b[38;5;28mzip\u001b[39m(datum\u001b[38;5;241m.\u001b[39mresidue_token, chem_props):\n\u001b[1;32m     11\u001b[0m     code \u001b[38;5;241m=\u001b[39m all_residues[res_token]\n\u001b[0;32m---> 12\u001b[0m     \u001b[38;5;28;01mif\u001b[39;00m \u001b[43mtoken\u001b[49m\u001b[43m \u001b[49m\u001b[38;5;129;43;01mnot\u001b[39;49;00m\u001b[43m \u001b[49m\u001b[38;5;129;43;01min\u001b[39;49;00m\u001b[43m \u001b[49m\u001b[43mmeasures_dict\u001b[49m\u001b[43m[\u001b[49m\u001b[43mprop\u001b[49m\u001b[43m]\u001b[49m:\n\u001b[1;32m     13\u001b[0m         measures_dict[prop][token] \u001b[38;5;241m=\u001b[39m res_prop[\u001b[38;5;28;01mNone\u001b[39;00m]\n\u001b[1;32m     14\u001b[0m     \u001b[38;5;28;01melse\u001b[39;00m:\n",
      "\u001b[0;31mTypeError\u001b[0m: unhashable type: 'numpy.ndarray'"
     ]
    }
   ],
   "source": [
    "counter = 0\n",
    "num_data = 5\n",
    "\n",
    "measures_dict = defaultdict(lambda: defaultdict(list))\n",
    "\n",
    "for datum in dataset:\n",
    "    for prop in ('bonds', 'angles', 'dihedrals'):\n",
    "        chem_props = datum._apply_chemistry(\n",
    "            prop, measure_functions[prop])\n",
    "        for res_token, res_prop in zip(datum.residue_token, chem_props):\n",
    "            code = all_residues[res_token]\n",
    "            if token not in measures_dict[prop]:\n",
    "                measures_dict[prop][token] = res_prop[None]\n",
    "            else:\n",
    "                measures_dict[prop][token] = np.concatenate(\n",
    "                    (measures_dict[prop][token], res_prop[None]), axis=0)\n",
    "    counter += 1\n",
    "    if counter == num_data:\n",
    "        break\n"
   ]
  },
  {
   "cell_type": "code",
   "execution_count": 176,
   "metadata": {},
   "outputs": [
    {
     "data": {
      "text/plain": [
       "(708, 16)"
      ]
     },
     "execution_count": 176,
     "metadata": {},
     "output_type": "execute_result"
    }
   ],
   "source": []
  },
  {
   "cell_type": "code",
   "execution_count": 200,
   "metadata": {},
   "outputs": [
    {
     "name": "stdout",
     "output_type": "stream",
     "text": [
      "ATOM  1     N    ASN  1         -8.901   4.127  -0.555                       N  \n",
      "ATOM  2     CA   ASN  1         -8.608   3.135  -1.618                       C  \n",
      "ATOM  3     C    ASN  1         -7.117   2.964  -1.897                       C  \n",
      "ATOM  4     O    ASN  1         -6.634   1.849  -1.758                       O  \n",
      "ATOM  5     CB   ASN  1         -9.437   3.396  -2.889                       C  \n",
      "ATOM  6     CG   ASN  1        -10.915   3.130  -2.611                       C  \n",
      "ATOM  7     OD1  ASN  1        -11.269   2.700  -1.524                       O  \n",
      "ATOM  8     ND2  ASN  1        -11.806   3.406  -3.543                       N  \n",
      "ATOM  9     N    LEU  2         -6.379   4.031  -2.228                       N  \n",
      "ATOM  10    CA   LEU  2         -4.923   4.002  -2.452                       C  \n",
      "ATOM  11    C    LEU  2         -4.136   3.187  -1.404                       C  \n",
      "ATOM  12    O    LEU  2         -3.391   2.274  -1.760                       O  \n",
      "ATOM  13    CB   LEU  2         -4.411   5.450  -2.619                       C  \n",
      "ATOM  14    CG   LEU  2         -4.795   6.450  -1.495                       C  \n",
      "ATOM  15    CD1  LEU  2         -3.612   6.803  -0.599                       C  \n",
      "ATOM  16    CD2  LEU  2         -5.351   7.748  -2.084                       C  \n",
      "ATOM  17    N    TYR  3         -4.354   3.455  -0.111                       N  \n",
      "ATOM  18    CA   TYR  3         -3.690   2.738   0.981                       C  \n",
      "ATOM  19    C    TYR  3         -4.102   1.256   1.074                       C  \n",
      "ATOM  20    O    TYR  3         -3.291   0.409   1.442                       O  \n",
      "ATOM  21    CB   TYR  3         -3.964   3.472   2.302                       C  \n",
      "ATOM  22    CG   TYR  3         -2.824   3.339   3.290                       C  \n",
      "ATOM  23    CD1  TYR  3         -2.746   2.217   4.138                       C  \n",
      "ATOM  24    CE1  TYR  3         -1.657   2.076   5.018                       C  \n",
      "ATOM  25    CZ   TYR  3         -0.639   3.053   5.043                       C  \n",
      "ATOM  26    OH   TYR  3          0.433   2.881   5.861                       O  \n",
      "ATOM  27    CE2  TYR  3         -0.725   4.185   4.205                       C  \n",
      "ATOM  28    CD2  TYR  3         -1.820   4.326   3.332                       C  \n",
      "ATOM  29    N    ILE  4         -5.342   0.925   0.689                       N  \n",
      "ATOM  30    CA   ILE  4         -5.857  -0.449   0.613                       C  \n",
      "ATOM  31    C    ILE  4         -5.089  -1.221  -0.470                       C  \n",
      "ATOM  32    O    ILE  4         -4.621  -2.334  -0.226                       O  \n",
      "ATOM  33    CB   ILE  4         -7.386  -0.466   0.343                       C  \n",
      "ATOM  34    CG1  ILE  4         -8.197   0.540   1.197                       C  \n",
      "ATOM  35    CD1  ILE  4         -8.019   0.412   2.715                       C  \n",
      "ATOM  36    CG2  ILE  4         -7.959  -1.884   0.501                       C  \n",
      "ATOM  37    N    GLN  5         -4.907  -0.601  -1.645                       N  \n",
      "ATOM  38    CA   GLN  5         -4.122  -1.167  -2.743                       C  \n",
      "ATOM  39    C    GLN  5         -2.629  -1.321  -2.390                       C  \n",
      "ATOM  40    O    GLN  5         -1.986  -2.240  -2.884                       O  \n",
      "ATOM  41    CB   GLN  5         -4.292  -0.313  -4.013                       C  \n",
      "ATOM  42    CG   GLN  5         -4.244  -1.171  -5.290                       C  \n",
      "ATOM  43    CD   GLN  5         -5.576  -1.860  -5.585                       C  \n",
      "ATOM  44    OE1  GLN  5         -5.769  -3.044  -5.335                       O  \n",
      "ATOM  45    NE2  GLN  5         -6.532  -1.146  -6.152                       N  \n",
      "ATOM  46    N    TRP  6         -2.074  -0.459  -1.528                       N  \n",
      "ATOM  47    CA   TRP  6         -0.716  -0.631  -0.993                       C  \n",
      "ATOM  48    C    TRP  6         -0.631  -1.766   0.044                       C  \n",
      "ATOM  49    O    TRP  6          0.295  -2.579  -0.004                       O  \n",
      "ATOM  50    CB   TRP  6         -0.221   0.703  -0.417                       C  \n",
      "ATOM  51    CG   TRP  6          1.148   0.652   0.194                       C  \n",
      "ATOM  52    CD1  TRP  6          2.319   0.664  -0.482                       C  \n",
      "ATOM  53    NE1  TRP  6          3.371   0.560   0.411                       N  \n",
      "ATOM  54    CE2  TRP  6          2.928   0.515   1.710                       C  \n",
      "ATOM  55    CZ2  TRP  6          3.599   0.445   2.938                       C  \n",
      "ATOM  56    CH2  TRP  6          2.842   0.407   4.120                       C  \n",
      "ATOM  57    CZ3  TRP  6          1.439   0.433   4.053                       C  \n",
      "ATOM  58    CE3  TRP  6          0.779   0.524   2.812                       C  \n",
      "ATOM  59    CD2  TRP  6          1.508   0.564   1.606                       C  \n",
      "ATOM  60    N    LEU  7         -1.600  -1.860   0.967                       N  \n",
      "ATOM  61    CA   LEU  7         -1.641  -2.932   1.963                       C  \n",
      "ATOM  62    C    LEU  7         -1.847  -4.319   1.342                       C  \n",
      "ATOM  63    O    LEU  7         -1.144  -5.248   1.742                       O  \n",
      "ATOM  64    CB   LEU  7         -2.710  -2.645   3.033                       C  \n",
      "ATOM  65    CG   LEU  7         -2.301  -1.579   4.069                       C  \n",
      "ATOM  66    CD1  LEU  7         -3.475  -1.323   5.018                       C  \n",
      "ATOM  67    CD2  LEU  7         -1.093  -2.007   4.914                       C  \n",
      "ATOM  68    N    LYS  8         -2.753  -4.481   0.360                       N  \n",
      "ATOM  69    CA   LYS  8         -3.024  -5.791  -0.269                       C  \n",
      "ATOM  70    C    LYS  8         -1.796  -6.427  -0.937                       C  \n",
      "ATOM  71    O    LYS  8         -1.719  -7.648  -1.030                       O  \n",
      "ATOM  72    CB   LYS  8         -4.224  -5.697  -1.232                       C  \n",
      "ATOM  73    CG   LYS  8         -3.930  -5.009  -2.577                       C  \n",
      "ATOM  74    CD   LYS  8         -3.682  -5.986  -3.736                       C  \n",
      "ATOM  75    CE   LYS  8         -3.494  -5.199  -5.039                       C  \n",
      "ATOM  76    NZ   LYS  8         -4.563  -5.483  -6.023                       N  \n",
      "ATOM  77    N    ASP  9         -0.828  -5.607  -1.355                       N  \n",
      "ATOM  78    CA   ASP  9          0.466  -6.016  -1.905                       C  \n",
      "ATOM  79    C    ASP  9          1.481  -6.464  -0.832                       C  \n",
      "ATOM  80    O    ASP  9          2.545  -6.971  -1.194                       O  \n",
      "ATOM  81    CB   ASP  9          1.033  -4.839  -2.724                       C  \n",
      "ATOM  82    CG   ASP  9          0.672  -4.906  -4.210                       C  \n",
      "ATOM  83    OD1  ASP  9         -0.532  -5.051  -4.522                       O  \n",
      "ATOM  84    OD2  ASP  9          1.627  -4.815  -5.017                       O  \n",
      "ATOM  85    N    GLY  10         1.185  -6.278   0.464                       N  \n",
      "ATOM  86    CA   GLY  10         2.060  -6.618   1.593                       C  \n",
      "ATOM  87    C    GLY  10         2.628  -5.412   2.353                       C  \n",
      "ATOM  88    O    GLY  10         3.496  -5.594   3.208                       O  \n",
      "ATOM  89    N    GLY  11         2.172  -4.187   2.055                       N  \n",
      "ATOM  90    CA   GLY  11         2.626  -2.967   2.723                       C  \n",
      "ATOM  91    C    GLY  11         4.157  -2.802   2.654                       C  \n",
      "ATOM  92    O    GLY  11         4.710  -2.829   1.551                       O  \n",
      "ATOM  93    N    PRO  12         4.871  -2.651   3.794                       N  \n",
      "ATOM  94    CA   PRO  12         6.333  -2.533   3.806                       C  \n",
      "ATOM  95    C    PRO  12         7.058  -3.729   3.165                       C  \n",
      "ATOM  96    O    PRO  12         8.139  -3.562   2.601                       O  \n",
      "ATOM  97    CB   PRO  12         6.740  -2.387   5.279                       C  \n",
      "ATOM  98    CG   PRO  12         5.460  -1.952   5.987                       C  \n",
      "ATOM  99    CD   PRO  12         4.362  -2.615   5.160                       C  \n",
      "ATOM  100   N    SER  13         6.463  -4.929   3.205                       N  \n",
      "ATOM  101   CA   SER  13         7.049  -6.179   2.704                       C  \n",
      "ATOM  102   C    SER  13         6.897  -6.369   1.185                       C  \n",
      "ATOM  103   O    SER  13         7.025  -7.488   0.697                       O  \n",
      "ATOM  104   CB   SER  13         6.458  -7.371   3.472                       C  \n",
      "ATOM  105   OG   SER  13         6.763  -7.264   4.850                       O  \n",
      "ATOM  106   N    SER  14         6.637  -5.290   0.434                       N  \n",
      "ATOM  107   CA   SER  14         6.389  -5.315  -1.015                       C  \n",
      "ATOM  108   C    SER  14         7.332  -4.405  -1.823                       C  \n",
      "ATOM  109   O    SER  14         7.082  -4.123  -2.993                       O  \n",
      "ATOM  110   CB   SER  14         4.914  -4.993  -1.265                       C  \n",
      "ATOM  111   OG   SER  14         4.431  -5.743  -2.358                       O  \n",
      "ATOM  112   N    GLY  15         8.419  -3.920  -1.202                       N  \n",
      "ATOM  113   CA   GLY  15         9.451  -3.116  -1.870                       C  \n",
      "ATOM  114   C    GLY  15         8.984  -1.725  -2.316                       C  \n",
      "ATOM  115   O    GLY  15         9.539  -1.177  -3.267                       O  \n",
      "ATOM  116   N    ARG  16         7.956  -1.164  -1.660                       N  \n",
      "ATOM  117   CA   ARG  16         7.289   0.084  -2.054                       C  \n",
      "ATOM  118   C    ARG  16         6.855   0.916  -0.829                       C  \n",
      "ATOM  119   O    ARG  16         6.222   0.366   0.076                       O  \n",
      "ATOM  120   CB   ARG  16         6.110  -0.243  -2.994                       C  \n",
      "ATOM  121   CG   ARG  16         5.046  -1.171  -2.378                       C  \n",
      "ATOM  122   CD   ARG  16         3.923  -1.592  -3.338                       C  \n",
      "ATOM  123   NE   ARG  16         4.251  -2.811  -4.100                       N  \n",
      "ATOM  124   CZ   ARG  16         4.859  -2.914  -5.274                       C  \n",
      "ATOM  125   NH1  ARG  16         5.289  -1.864  -5.937                       N  \n",
      "ATOM  126   NH2  ARG  16         5.035  -4.095  -5.809                       N  \n",
      "ATOM  127   N    PRO  17         7.156   2.230  -0.780                       N  \n",
      "ATOM  128   CA   PRO  17         6.782   3.088   0.345                       C  \n",
      "ATOM  129   C    PRO  17         5.261   3.331   0.395                       C  \n",
      "ATOM  130   O    PRO  17         4.586   3.165  -0.624                       O  \n",
      "ATOM  131   CB   PRO  17         7.554   4.394   0.119                       C  \n",
      "ATOM  132   CG   PRO  17         7.677   4.474  -1.401                       C  \n",
      "ATOM  133   CD   PRO  17         7.820   3.010  -1.816                       C  \n",
      "ATOM  134   N    PRO  18         4.710   3.739   1.555                       N  \n",
      "ATOM  135   CA   PRO  18         3.287   4.031   1.686                       C  \n",
      "ATOM  136   C    PRO  18         2.901   5.305   0.913                       C  \n",
      "ATOM  137   O    PRO  18         3.684   6.256   0.871                       O  \n",
      "ATOM  138   CB   PRO  18         3.035   4.190   3.187                       C  \n",
      "ATOM  139   CG   PRO  18         4.385   4.655   3.729                       C  \n",
      "ATOM  140   CD   PRO  18         5.393   3.949   2.823                       C  \n",
      "ATOM  141   N    PRO  19         1.688   5.360   0.336                       N  \n",
      "ATOM  142   CA   PRO  19         1.185   6.543  -0.353                       C  \n",
      "ATOM  143   C    PRO  19         0.715   7.607   0.655                       C  \n",
      "ATOM  144   O    PRO  19        -0.124   7.324   1.513                       O  \n",
      "ATOM  145   CB   PRO  19         0.048   6.014  -1.229                       C  \n",
      "ATOM  146   CG   PRO  19        -0.519   4.852  -0.412                       C  \n",
      "ATOM  147   CD   PRO  19         0.716   4.275   0.272                       C  \n",
      "ATOM  148   N    SER  20         1.271   8.822   0.549                       N  \n",
      "ATOM  149   CA   SER  20         0.852  10.027   1.285                       C  \n",
      "ATOM  150   C    SER  20        -0.406  10.657   0.683                       C  \n",
      "ATOM  151   O    SER  20        -0.387  10.916  -0.540                       O  \n",
      "ATOM  152   CB   SER  20         1.972  11.071   1.284                       C  \n",
      "ATOM  153   OG   SER  20         3.120  10.541   1.911                       O  \n"
     ]
    }
   ],
   "source": [
    "datum = ProteinDatum.fetch_pdb_id(\"1L2Y\")\n",
    "print(datum.to_pdb_str())"
   ]
  },
  {
   "cell_type": "code",
   "execution_count": null,
   "metadata": {},
   "outputs": [],
   "source": []
  }
 ],
 "metadata": {
  "kernelspec": {
   "display_name": "Python 3 (ipykernel)",
   "language": "python",
   "name": "python3"
  },
  "language_info": {
   "codemirror_mode": {
    "name": "ipython",
    "version": 3
   },
   "file_extension": ".py",
   "mimetype": "text/x-python",
   "name": "python",
   "nbconvert_exporter": "python",
   "pygments_lexer": "ipython3",
   "version": "3.9.15"
  }
 },
 "nbformat": 4,
 "nbformat_minor": 4
}
