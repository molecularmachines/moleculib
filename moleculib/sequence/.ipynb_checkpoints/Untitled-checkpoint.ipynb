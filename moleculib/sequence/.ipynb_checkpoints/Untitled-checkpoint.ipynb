{
 "cells": [
  {
   "cell_type": "code",
   "execution_count": null,
   "id": "0a8b8bb6",
   "metadata": {},
   "outputs": [],
   "source": [
    "!pip install mendeleev"
   ]
  },
  {
   "cell_type": "code",
   "execution_count": 1,
   "id": "5ccb183e",
   "metadata": {},
   "outputs": [],
   "source": [
    "import sys\n",
    "\n",
    "sys.path.append(\"/u/manvitha/moleculib\")"
   ]
  },
  {
   "cell_type": "code",
   "execution_count": 2,
   "id": "7f38b916",
   "metadata": {},
   "outputs": [],
   "source": [
    "from moleculib.sequence.datum import SeqDatum"
   ]
  },
  {
   "cell_type": "code",
   "execution_count": 3,
   "id": "0ce18998",
   "metadata": {},
   "outputs": [],
   "source": [
    "seq_datum = SeqDatum.from_pdb_id(\"2KL8\",chain_id='A')"
   ]
  },
  {
   "cell_type": "code",
   "execution_count": 4,
   "id": "b12b2de5",
   "metadata": {},
   "outputs": [
    {
     "data": {
      "text/plain": [
       "ProteinSequence(\"MEMDIRFRGDDLEAFEKALKEMIRQARKFAGTVTYTLDGNDLEIRITGVPEQVRKELAKEAERLAKEFNITVTYTIRLEHHHHHH\")"
      ]
     },
     "execution_count": 4,
     "metadata": {},
     "output_type": "execute_result"
    }
   ],
   "source": [
    "seq_datum.sequence"
   ]
  },
  {
   "cell_type": "code",
   "execution_count": 5,
   "id": "54309cf2",
   "metadata": {},
   "outputs": [
    {
     "data": {
      "text/plain": [
       "array([15,  9, 15,  6, 12,  4, 16,  4, 10,  6,  6, 13,  9,  3, 16,  9, 14,\n",
       "        3, 13, 14,  9, 15, 12,  4,  8,  3,  4, 14, 16,  3, 10, 19, 22, 19,\n",
       "       21, 19, 13,  6, 10,  5,  6, 13,  9, 12,  4, 12, 19, 10, 22, 17,  9,\n",
       "        8, 22,  4, 14,  9, 13,  3, 14,  9,  3,  9,  4, 13,  3, 14,  9, 16,\n",
       "        5, 12, 19, 22, 19, 21, 19, 12,  4, 13,  9, 11, 11, 11, 11, 11, 11])"
      ]
     },
     "execution_count": 5,
     "metadata": {},
     "output_type": "execute_result"
    }
   ],
   "source": [
    "seq_datum.sequence_token"
   ]
  },
  {
   "cell_type": "code",
   "execution_count": 7,
   "id": "bfe41efd",
   "metadata": {},
   "outputs": [
    {
     "data": {
      "text/plain": [
       "array([15,  9, 15,  6, 12,  4, 16,  4, 10,  6,  6, 13,  9,  3, 16,  9, 14,\n",
       "        3, 13, 14,  9, 15, 12,  4,  8,  3,  4, 14, 16,  3, 10, 19, 22, 19,\n",
       "       21, 19, 13,  6, 10,  5,  6, 13,  9, 12,  4, 12, 19, 10, 22, 17,  9,\n",
       "        8, 22,  4, 14,  9, 13,  3, 14,  9,  3,  9,  4, 13,  3, 14,  9, 16,\n",
       "        5, 12, 19, 22, 19, 21, 19, 12,  4, 13,  9, 11, 11, 11, 11, 11, 11])"
      ]
     },
     "execution_count": 7,
     "metadata": {},
     "output_type": "execute_result"
    }
   ],
   "source": [
    "SeqDatum.from_sequence(\"2kl8\",\"MEMDIRFRGDDLEAFEKALKEMIRQARKFAGTVTYTLDGNDLEIRITGVPEQVRKELAKEAERLAKEFNITVTYTIRLEHHHHHH\").sequence_token"
   ]
  },
  {
   "cell_type": "code",
   "execution_count": null,
   "id": "9d62923d",
   "metadata": {},
   "outputs": [],
   "source": []
  }
 ],
 "metadata": {
  "kernelspec": {
   "display_name": "opihicusdev",
   "language": "python",
   "name": "opihicusdev"
  },
  "language_info": {
   "codemirror_mode": {
    "name": "ipython",
    "version": 3
   },
   "file_extension": ".py",
   "mimetype": "text/x-python",
   "name": "python",
   "nbconvert_exporter": "python",
   "pygments_lexer": "ipython3",
   "version": "3.10.12"
  }
 },
 "nbformat": 4,
 "nbformat_minor": 5
}
